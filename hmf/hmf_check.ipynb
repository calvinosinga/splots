{
 "cells": [
  {
   "cell_type": "code",
   "execution_count": 1,
   "metadata": {},
   "outputs": [],
   "source": [
    "from sparta_tools import moria\n",
    "mpath = \"/Users/cosinga/sims/sparta_output/L0063_N0256_CBol/moria_trees/moria_tree_orb_defs.hdf5\"\n",
    "massdefs = ['M200m_all_spa', 'Morb-all_all_spa', 'Morb-all_orb_spa', 'Mvir_all_spa', 'Mpeak']\n",
    "pids = ['parent_id_cat', 'parent_id_orbinf']\n",
    "others = ['mask_alive', 'mask_cut', 'id']\n",
    "redshifts = [0, 0.3, 0.5, 1, 1.5, 2, 4]\n",
    "mconfig = moria.loadConfig(mpath)\n",
    "mdata = moria.load(mpath, massdefs + pids + others)"
   ]
  },
  {
   "cell_type": "markdown",
   "metadata": {},
   "source": [
    "In this notebook, I'm investigating why the Morb for host halos for both the ovd and orb subhalo definitions look nearly identical in the halo mass function of the lowest resolution simulation."
   ]
  },
  {
   "cell_type": "code",
   "execution_count": 9,
   "metadata": {},
   "outputs": [],
   "source": [
    "import numpy as np\n",
    "import matplotlib.pyplot as plt"
   ]
  },
  {
   "cell_type": "code",
   "execution_count": 3,
   "metadata": {},
   "outputs": [
    {
     "name": "stdout",
     "output_type": "stream",
     "text": [
      "total number of halos 38695\n",
      "total number of alive halos 18277\n",
      "total number of halos in mass cut: 18276\n",
      "total number of halos alive and in mass cut: 18276\n",
      "\n",
      "number of subhalos with orb subhalo def: 2240\n",
      "number of subhalos with cat subhalo def: 3052\n",
      "\n",
      "number of host halos with orb subhalo def: 16036\n",
      "number of host halos with cat subhalo def: 15224\n",
      "\n",
      "host halo count difference: 812\n",
      "subhalo count difference: 812\n"
     ]
    }
   ],
   "source": [
    "snap_idx = np.argmin(np.abs(mconfig['simulation']['snap_z'] - 0))\n",
    "alive = mdata['mask_alive'][snap_idx]\n",
    "in_cut = mdata['mask_cut'][snap_idx]\n",
    "orb_sub_mask = mdata[pids[1]][snap_idx, :] > 0\n",
    "cat_sub_mask = mdata[pids[0]][snap_idx, :] > 0\n",
    "print(\"total number of halos\", mdata.shape[1])\n",
    "print(\"total number of alive halos\", np.sum(alive))\n",
    "print(\"total number of halos in mass cut:\", np.sum(in_cut))\n",
    "print(\"total number of halos alive and in mass cut:\", np.sum(in_cut & alive))\n",
    "print()\n",
    "\n",
    "print(\"number of subhalos with orb subhalo def:\", np.sum(orb_sub_mask & alive & in_cut))\n",
    "print(\"number of subhalos with cat subhalo def:\", np.sum(cat_sub_mask & alive & in_cut))\n",
    "print()\n",
    "\n",
    "print(\"number of host halos with orb subhalo def:\", np.sum(~orb_sub_mask & alive & in_cut))\n",
    "print(\"number of host halos with cat subhalo def:\", np.sum(~cat_sub_mask & alive & in_cut))\n",
    "print()\n",
    "\n",
    "print(\"host halo count difference:\", np.sum(~orb_sub_mask & alive & in_cut) - np.sum(~cat_sub_mask & alive& in_cut))\n",
    "print(\"subhalo count difference:\", -1* np.sum(orb_sub_mask & alive& in_cut) + np.sum(cat_sub_mask & alive& in_cut))"
   ]
  },
  {
   "cell_type": "markdown",
   "metadata": {},
   "source": [
    "The difference is the total number of halos that switched from parent to subhalo when using orbiting definition. However, not all of these halos have Morb at the current time (despite being alive?)"
   ]
  },
  {
   "cell_type": "code",
   "execution_count": 4,
   "metadata": {},
   "outputs": [
    {
     "name": "stdout",
     "output_type": "stream",
     "text": [
      "number of orb hosts with actual Morb 7991\n",
      "number of catalog hosts with actual Morb 7838\n",
      "number of \n",
      "number of orb hosts with Morb on histogram 7990\n",
      "number of catalog hosts with Morb on histogram 7838\n"
     ]
    }
   ],
   "source": [
    "\n",
    "orb_host_mass = mdata[massdefs[1]][snap_idx, ~orb_sub_mask & alive]\n",
    "cat_host_mass = mdata[massdefs[1]][snap_idx, ~cat_sub_mask & alive]\n",
    "orb_pos_mass = orb_host_mass > 0\n",
    "cat_pos_mass = cat_host_mass > 0\n",
    "print('number of orb hosts with actual Morb', np.sum(orb_pos_mass))\n",
    "print('number of catalog hosts with actual Morb', np.sum(cat_pos_mass))\n",
    "\n",
    "print('number of ')\n",
    "orb_min_mass = orb_host_mass > 1e10\n",
    "cat_min_mass = cat_host_mass > 1e10\n",
    "\n",
    "print('number of orb hosts with Morb on histogram', np.sum(orb_min_mass))\n",
    "print('number of catalog hosts with Morb on histogram', np.sum(cat_min_mass))"
   ]
  },
  {
   "cell_type": "markdown",
   "metadata": {},
   "source": [
    "About half of the host halos in either subhalo definition have Morb = 0 - and the reason why even the ~150 or so don't appear in the hmfs is not because they are outside the bounds of the histogram.\n",
    "\n",
    "Let's create a mask of the halos that become hosts when using the orbiting subhalo definition for the next tests\n",
    "\n"
   ]
  },
  {
   "cell_type": "code",
   "execution_count": 5,
   "metadata": {},
   "outputs": [
    {
     "name": "stdout",
     "output_type": "stream",
     "text": [
      "catalog subhalos that are not orbiting (cat subhalos -> orb halos) 1315\n",
      "catalog halos that are orbiting other halos (cat halos -> orb subhalos) 503\n",
      "difference: 812\n"
     ]
    }
   ],
   "source": [
    "sub_to_host_mask = ~orb_sub_mask & cat_sub_mask & alive\n",
    "host_to_sub_mask = ~cat_sub_mask & orb_sub_mask & alive\n",
    "print(\"catalog subhalos that are not orbiting (cat subhalos -> orb halos)\", np.sum(sub_to_host_mask))\n",
    "print(\"catalog halos that are orbiting other halos (cat halos -> orb subhalos)\", np.sum(host_to_sub_mask))\n",
    "print(\"difference:\", abs(np.sum(sub_to_host_mask) - np.sum(host_to_sub_mask)))\n"
   ]
  },
  {
   "cell_type": "code",
   "execution_count": 6,
   "metadata": {},
   "outputs": [
    {
     "name": "stdout",
     "output_type": "stream",
     "text": [
      "catalog subhalos that are not orbiting (cat subhalos -> orb halos) with Morb > 0 656\n",
      "catalog halos that are orbiting other halos (cat halos -> orb subhalos) with Morb > 0 503\n",
      "difference: 153\n"
     ]
    }
   ],
   "source": [
    "morb = mdata[massdefs[1]][snap_idx, :]\n",
    "pos_morb_mask = mdata[massdefs[1]][snap_idx, :] > 0\n",
    "\n",
    "print(\"catalog subhalos that are not orbiting (cat subhalos -> orb halos) with Morb > 0\", np.sum(sub_to_host_mask & pos_morb_mask))\n",
    "print(\"catalog halos that are orbiting other halos (cat halos -> orb subhalos) with Morb > 0\", np.sum(host_to_sub_mask & pos_morb_mask))\n",
    "print(\"difference:\", abs(np.sum(sub_to_host_mask & pos_morb_mask) - np.sum(host_to_sub_mask & pos_morb_mask)))\n"
   ]
  },
  {
   "cell_type": "code",
   "execution_count": 11,
   "metadata": {},
   "outputs": [
    {
     "data": {
      "image/png": "[encoded data removed]",
      "text/plain": [
       "<Figure size 288x288 with 1 Axes>"
      ]
     },
     "metadata": {
      "needs_background": "light"
     },
     "output_type": "display_data"
    }
   ],
   "source": [
    "plt.rcParams['mathtext.fontset'] = 'dejavuserif'\n",
    "plt.rcParams['font.family'] = 'serif'\n",
    "sth_morb = morb[sub_to_host_mask & pos_morb_mask]\n",
    "hts_morb = morb[host_to_sub_mask & pos_morb_mask]\n",
    "bins = np.geomspace(1e10, 2e14, 25)\n",
    "sth_hist, edges = np.histogram(sth_morb, bins)\n",
    "hts_hist, edges = np.histogram(hts_morb, bins)\n",
    "mid = (edges[1:] + edges[:-1]) / 2\n",
    "fig = plt.figure(figsize = (4,4))\n",
    "plt.plot(mid, sth_hist, label = '$N = %d$'%np.sum(sub_to_host_mask & pos_morb_mask))\n",
    "plt.plot(mid, hts_hist, label = '$N = %d$'%np.sum(host_to_sub_mask & pos_morb_mask))\n",
    "plt.legend(frameon = False, loc = 'upper right')\n",
    "plt.loglog()\n",
    "plt.xlabel('$M_{\\\\mathrm{orb}} (M_\\\\odot)$', fontsize = 14)\n",
    "plt.ylabel('$\\\\frac{dN}{dM}$', fontsize = 16)\n",
    "plt.savefig(\"/Users/cosinga/overleaf/proposal_defense/figures/switching_populations_morb.png\", dpi = 150, bbox_inches = 'tight')"
   ]
  },
  {
   "cell_type": "code",
   "execution_count": 8,
   "metadata": {},
   "outputs": [
    {
     "data": {
      "image/png": "[encoded data removed]",
      "text/plain": [
       "<Figure size 288x288 with 1 Axes>"
      ]
     },
     "metadata": {
      "needs_background": "light"
     },
     "output_type": "display_data"
    }
   ],
   "source": [
    "mpeak = mdata[massdefs[-1]][snap_idx, :]\n",
    "pos_mpeak_mask = mpeak > 0\n",
    "sth_mpeak = mpeak[sub_to_host_mask & pos_mpeak_mask]\n",
    "hts_mpeak = mpeak[host_to_sub_mask & pos_mpeak_mask]\n",
    "bins = np.geomspace(1e10, 2e14, 25)\n",
    "sth_hist, edges = np.histogram(sth_mpeak, bins)\n",
    "hts_hist, edges = np.histogram(hts_mpeak, bins)\n",
    "mid = (edges[1:] + edges[:-1]) / 2\n",
    "fig = plt.figure(figsize = (4,4))\n",
    "plt.plot(mid, sth_hist, label = 'Catalog Subhalos,\\nOrbiting Hosts\\n$N = %d$'%np.sum(sub_to_host_mask & pos_mpeak_mask))\n",
    "plt.plot(mid, hts_hist, label = 'Catalog Hosts,\\nOrbiting Subhalos\\n$N = %d$'%np.sum(host_to_sub_mask & pos_mpeak_mask))\n",
    "plt.legend(frameon = False, loc = (1, 0.75))\n",
    "plt.loglog()\n",
    "plt.xlabel('$M_{\\\\mathrm{peak}} (M_\\\\odot)$', fontsize = 14)\n",
    "plt.ylabel('$\\\\frac{dN}{dM}$', fontsize = 16)\n",
    "plt.savefig(\"/Users/cosinga/overleaf/proposal_defense/figures/switching_populations_mpeak.png\", dpi = 150, bbox_inches = 'tight')"
   ]
  },
  {
   "cell_type": "code",
   "execution_count": 100,
   "metadata": {},
   "outputs": [
    {
     "data": {
      "image/png": "[encoded data removed]",
      "text/plain": [
       "<Figure size 288x288 with 1 Axes>"
      ]
     },
     "metadata": {
      "needs_background": "light"
     },
     "output_type": "display_data"
    }
   ],
   "source": [
    "morb = mdata[massdefs[1]]\n",
    "morb_peak = np.maximum.accumulate(morb, axis = 0)\n",
    "morb_peak = morb_peak[snap_idx, :]\n",
    "pos_mpeak_mask = morb_peak > 0\n",
    "sth_mpeak = morb_peak[sub_to_host_mask & pos_mpeak_mask]\n",
    "hts_mpeak = morb_peak[host_to_sub_mask & pos_mpeak_mask]\n",
    "bins = np.geomspace(1e10, 2e14, 25)\n",
    "sth_hist, edges = np.histogram(sth_mpeak, bins)\n",
    "hts_hist, edges = np.histogram(hts_mpeak, bins)\n",
    "mid = (edges[1:] + edges[:-1]) / 2\n",
    "fig = plt.figure(figsize = (4,4))\n",
    "plt.plot(mid, sth_hist, label = 'Subhalos$\\\\rightarrow$Hosts\\n$N = %d$'%np.sum(sub_to_host_mask & pos_mpeak_mask))\n",
    "plt.plot(mid, hts_hist, label = 'Hosts$\\\\rightarrow$Subhalos\\n$N = %d$'%np.sum(host_to_sub_mask & pos_mpeak_mask))\n",
    "plt.legend(frameon = False, loc = (1, 0.75))\n",
    "plt.loglog()\n",
    "plt.xlabel('$M_{\\\\mathrm{orb, peak}} (M_\\\\odot)$', fontsize = 14)\n",
    "plt.ylabel('$\\\\frac{dN}{dM}$', fontsize = 16)\n",
    "plt.savefig(\"/Users/cosinga/overleaf/proposal_defense/figures/switching_populations_morb_peak.png\", dpi = 150, bbox_inches = 'tight')\n"
   ]
  },
  {
   "cell_type": "code",
   "execution_count": 27,
   "metadata": {},
   "outputs": [
    {
     "data": {
      "text/plain": [
       "array([0., 0., 0., ..., 0., 0., 0.], dtype=float32)"
      ]
     },
     "execution_count": 27,
     "metadata": {},
     "output_type": "execute_result"
    }
   ],
   "source": [
    "peak[snap_idx, ~orb_sub_mask & alive & ~pos_mass]"
   ]
  },
  {
   "cell_type": "code",
   "execution_count": null,
   "metadata": {},
   "outputs": [],
   "source": []
  }
 ],
 "metadata": {
  "kernelspec": {
   "display_name": "Python 3",
   "language": "python",
   "name": "python3"
  },
  "language_info": {
   "codemirror_mode": {
    "name": "ipython",
    "version": 3
   },
   "file_extension": ".py",
   "mimetype": "text/x-python",
   "name": "python",
   "nbconvert_exporter": "python",
   "pygments_lexer": "ipython3",
   "version": "3.8.9"
  },
  "orig_nbformat": 4
 },
 "nbformat": 4,
 "nbformat_minor": 2
}

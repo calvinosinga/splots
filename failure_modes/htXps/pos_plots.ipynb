{
 "cells": [
  {
   "cell_type": "code",
   "execution_count": 1,
   "metadata": {},
   "outputs": [
    {
     "name": "stdout",
     "output_type": "stream",
     "text": [
      "sparta.load: Loading file /Users/cosinga/sims/sparta_output/L0063_N0256_CBol/sparta_no_cuts.hdf5.\n",
      "sparta.load: Loading 38867/38867 halos from SPARTA file (entire array)...\n",
      "sparta.load: Matching result IDs in tracer sho, halo 3887/38867\n",
      "sparta.load: Matching result IDs in tracer sho, halo 7773/38867\n",
      "sparta.load: Matching result IDs in tracer sho, halo 11659/38867\n",
      "sparta.load: Matching result IDs in tracer sho, halo 15545/38867\n",
      "sparta.load: Matching result IDs in tracer sho, halo 19431/38867\n",
      "sparta.load: Matching result IDs in tracer sho, halo 23317/38867\n",
      "sparta.load: Matching result IDs in tracer sho, halo 27203/38867\n",
      "sparta.load: Matching result IDs in tracer sho, halo 31089/38867\n",
      "sparta.load: Matching result IDs in tracer sho, halo 34975/38867\n",
      "sparta.load: Matching result IDs in tracer sho, halo 38861/38867\n"
     ]
    }
   ],
   "source": [
    "import sys\n",
    "import os\n",
    "sys.path.append('/Users/cosinga/code/sparta_dev/analysis/build/lib/')\n",
    "sys.path.append('/Users/cosinga/code/tree_tracks')\n",
    "from sparta_tools import moria, sparta\n",
    "import numpy as np\n",
    "import matplotlib.pyplot as plt\n",
    "import pickle as pkl\n",
    "\n",
    "# paths\n",
    "BASE = '/Users/cosinga/code/'\n",
    "SIMPATH = '/Users/cosinga/sims/sparta_output/'\n",
    "MORIA_FILE = 'moria_tree_cbol_l0063_n0256_no_cuts.hdf5'\n",
    "SIMNAME = 'L0063_N0256_CBol'\n",
    "SPARTA_FILE = 'sparta_no_cuts.hdf5'\n",
    "\n",
    "RADIUS_DEF = 'R200m_all_spa_internal'\n",
    "MASS_DEF = 'M' + RADIUS_DEF[1:]\n",
    "mdata = moria.load(\n",
    "    SIMPATH + '%s/%s'%(SIMNAME, MORIA_FILE), \n",
    "    [RADIUS_DEF, MASS_DEF, 'mask_alive', 'x', 'id',\n",
    "     'phantom', 'parent_id_cat', 'parent_id_orbinf',\n",
    "     'scale_of_last_MM']\n",
    ")\n",
    "\n",
    "sdata = sparta.load(\n",
    "    SIMPATH + '%s/%s'%(SIMNAME, SPARTA_FILE), load_halo_data = True,\n",
    "    anl_match = ['hps', 'rsp'], anl_pad_unmatched = True,\n",
    "    res_match = ['ifl', 'oct', 'tjy'], res_pad_unmatched = True\n",
    ")"
   ]
  },
  {
   "cell_type": "code",
   "execution_count": 2,
   "metadata": {},
   "outputs": [],
   "source": [
    "# renaming symbols\n",
    "tjy = sdata['tcr_sho']['res_tjy']\n",
    "ifl = sdata['tcr_sho']['res_ifl']\n",
    "oct = sdata['tcr_sho']['res_oct']\n",
    "hdata = sdata['halos']\n",
    "boxsize = sdata['simulation']['box_size']\n",
    "nhalos = len(hdata['sho_oct_first'])\n",
    "nsnaps = sdata['simulation']['n_snaps']\n",
    "snap_z = sdata['simulation']['snap_z']\n",
    "snap_a = sdata['simulation']['snap_a']\n",
    "res_lim = 200 * sdata['simulation']['particle_mass']\n",
    "snaps = np.arange(nsnaps)\n",
    "ntcrs = tjy.shape[0]"
   ]
  },
  {
   "cell_type": "code",
   "execution_count": null,
   "metadata": {},
   "outputs": [],
   "source": []
  }
 ],
 "metadata": {
  "kernelspec": {
   "display_name": "Python 3",
   "language": "python",
   "name": "python3"
  },
  "language_info": {
   "codemirror_mode": {
    "name": "ipython",
    "version": 3
   },
   "file_extension": ".py",
   "mimetype": "text/x-python",
   "name": "python",
   "nbconvert_exporter": "python",
   "pygments_lexer": "ipython3",
   "version": "3.8.9"
  }
 },
 "nbformat": 4,
 "nbformat_minor": 2
}

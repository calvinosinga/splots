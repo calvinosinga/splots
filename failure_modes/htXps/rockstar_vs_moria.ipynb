{
 "cells": [
  {
   "cell_type": "code",
   "execution_count": 1,
   "metadata": {},
   "outputs": [
    {
     "name": "stdout",
     "output_type": "stream",
     "text": [
      "sparta.load: Loading file /Users/cosinga/sims/sparta_output/L0063_N0256_CBol/sparta_no_cuts.hdf5.\n",
      "sparta.load: Loading 38867/38867 halos from SPARTA file (entire array)...\n",
      "sparta.load: Matching result IDs in tracer sho, halo 3887/38867\n",
      "sparta.load: Matching result IDs in tracer sho, halo 7773/38867\n",
      "sparta.load: Matching result IDs in tracer sho, halo 11659/38867\n",
      "sparta.load: Matching result IDs in tracer sho, halo 15545/38867\n",
      "sparta.load: Matching result IDs in tracer sho, halo 19431/38867\n",
      "sparta.load: Matching result IDs in tracer sho, halo 23317/38867\n",
      "sparta.load: Matching result IDs in tracer sho, halo 27203/38867\n",
      "sparta.load: Matching result IDs in tracer sho, halo 31089/38867\n",
      "sparta.load: Matching result IDs in tracer sho, halo 34975/38867\n",
      "sparta.load: Matching result IDs in tracer sho, halo 38861/38867\n",
      "['scale', 'id', 'desc_scale', 'desc_id', 'num_prog', 'pid', 'upid', 'desc_pid', 'phantom', 'sam_M200b', 'M200b', 'R200b', 'rs', 'vrms', 'mmp?', 'scale_of_last_MM', 'vmax', 'x', 'y', 'z', 'vx', 'vy', 'vz', 'Jx', 'Jy', 'Jz', 'Spin', 'Breadth_first_ID', 'Depth_first_ID', 'Tree_root_ID', 'Orig_halo_ID', 'Snap_idx', 'Next_coprogenitor_depthfirst_ID', 'Last_progenitor_depthfirst_ID', 'Last_mainleaf_depthfirst_ID', 'Tidal_Force', 'Tidal_ID', 'Rs_Klypin', 'M200b_all', 'Mvir', 'M200c', 'M500c', 'M2500c', 'Xoff', 'Voff', 'Spin_Bullock', 'b_to_a', 'c_to_a', 'A[x]', 'A[y]', 'A[z]', 'b_to_a(500c)', 'c_to_a(500c)', 'A[x](500c)', 'A[y](500c)', 'A[z](500c)', 'T/|U|', 'M_pe_Behroozi', 'M_pe_Diemer', 'Halfmass_Radius\\n']\n",
      "dict_keys(['tcr_sidx', 'host_sidx', 'tcr_midx', 'host_midx', 'tcr_ridx', 'host_ridx'])\n"
     ]
    }
   ],
   "source": [
    "import sys\n",
    "import os\n",
    "sys.path.append('/Users/cosinga/code/sparta_dev/analysis/build/lib/')\n",
    "from sparta_tools import moria, sparta\n",
    "import numpy as np\n",
    "import matplotlib.pyplot as plt\n",
    "import pickle as pkl\n",
    "import re\n",
    "\n",
    "# paths\n",
    "BASE = '/Users/cosinga/code/'\n",
    "SIMPATH = '/Users/cosinga/sims/sparta_output/'\n",
    "MORIA_FILE = 'moria_tree_cbol_l0063_n0256_no_cuts.hdf5'\n",
    "SIMNAME = 'L0063_N0256_CBol'\n",
    "SPARTA_FILE = 'sparta_no_cuts.hdf5'\n",
    "ROCKSTAR_FILE = '/Users/cosinga/sims/nbody/cbol_l0063_n0256/rockstar_trees_200m_bnd/tree_0_0_0.dat'\n",
    "# verbosity - 1 includes print statemtents, \n",
    "# 2 breaks after one halo (with at least one tracer)\n",
    "V = 2\n",
    "V_COUNT = 50\n",
    "# desired quantities\n",
    "RADIUS_DEF = 'R200m_bnd_cat'\n",
    "MASS_DEF = 'M' + RADIUS_DEF[1:]\n",
    "mdata = moria.load(\n",
    "    SIMPATH + '%s/%s'%(SIMNAME, MORIA_FILE), \n",
    "    [RADIUS_DEF, MASS_DEF, 'mask_alive', 'x', 'id',\n",
    "     'phantom', 'parent_id_cat', 'parent_id_orbinf',\n",
    "     'scale_of_last_MM', 'status_sparta']\n",
    ")\n",
    "\n",
    "sdata = sparta.load(\n",
    "    SIMPATH + '%s/%s'%(SIMNAME, SPARTA_FILE), load_halo_data = True,\n",
    "    anl_match = ['hps', 'rsp'], anl_pad_unmatched = True,\n",
    "    res_match = ['ifl', 'oct', 'tjy'], res_pad_unmatched = True\n",
    ")\n",
    "\n",
    "rdata = np.loadtxt(ROCKSTAR_FILE)\n",
    "f = open(ROCKSTAR_FILE, 'r')\n",
    "line = f.readline()\n",
    "line = re.sub(r'\\(\\d+\\)', '', line)\n",
    "rhead = line[1:].split(' ')\n",
    "print(rhead)\n",
    "\n",
    "spmr = pkl.load(open('sporstar.pkl', 'rb'))\n",
    "print(spmr.keys())"
   ]
  },
  {
   "cell_type": "code",
   "execution_count": 2,
   "metadata": {},
   "outputs": [],
   "source": [
    "# renaming symbols\n",
    "tjy = sdata['tcr_sho']['res_tjy']\n",
    "ifl = sdata['tcr_sho']['res_ifl']\n",
    "oct = sdata['tcr_sho']['res_oct']\n",
    "hdata = sdata['halos']\n",
    "boxsize = sdata['simulation']['box_size']\n",
    "nhalos = len(hdata['sho_oct_first'])\n",
    "nsnaps = sdata['simulation']['n_snaps']\n",
    "snap_z = sdata['simulation']['snap_z']\n",
    "snap_a = sdata['simulation']['snap_a']\n",
    "res_lim = 200 * sdata['simulation']['particle_mass']\n",
    "snaps = np.arange(nsnaps)\n",
    "ntcrs = tjy.shape[0]\n",
    "boxsize = sdata['simulation']['box_size']\n",
    "\n",
    "temp = {}\n",
    "for i, key in enumerate(rhead):\n",
    "    temp[key] = rdata[:, i]\n",
    "rdata = temp\n"
   ]
  },
  {
   "cell_type": "code",
   "execution_count": 3,
   "metadata": {},
   "outputs": [
    {
     "data": {
      "text/plain": [
       "array([[10,  0,  0, ...,  0,  0,  0],\n",
       "       [10,  0,  0, ...,  0,  0,  0],\n",
       "       [10,  0,  0, ...,  0,  0,  0],\n",
       "       ...,\n",
       "       [10, 20, 20, ..., 10, 10, 10],\n",
       "       [10, 20, 20, ..., 10, 10, 10],\n",
       "       [10, 20, 20, ..., 10, 10, 10]], dtype=int8)"
      ]
     },
     "execution_count": 3,
     "metadata": {},
     "output_type": "execute_result"
    }
   ],
   "source": [
    "mdata['status_sparta']"
   ]
  },
  {
   "cell_type": "code",
   "execution_count": 4,
   "metadata": {},
   "outputs": [
    {
     "name": "stdout",
     "output_type": "stream",
     "text": [
      "number of halos\n",
      "2704376 2704376\n",
      "number of subhalos\n"
     ]
    },
    {
     "name": "stdout",
     "output_type": "stream",
     "text": [
      "324665 324665\n"
     ]
    }
   ],
   "source": [
    "# simple check to see if the number of halos in moria and the tree match\n",
    "print('number of halos')\n",
    "print(rdata['M200b'].shape[0], mdata['mask_alive'].sum())\n",
    "print('number of subhalos')\n",
    "rsub_count = (rdata['pid'] > 0).sum()\n",
    "msub_count = (mdata['parent_id_cat'] > 0).sum()\n",
    "print(rsub_count, msub_count)\n"
   ]
  },
  {
   "cell_type": "code",
   "execution_count": 5,
   "metadata": {},
   "outputs": [
    {
     "name": "stdout",
     "output_type": "stream",
     "text": [
      "how many sparta halos are missing an equivalent host in MORIA? (error rate)\n",
      "0 0.0\n"
     ]
    }
   ],
   "source": [
    "print(\"how many sparta halos are missing an equivalent host in MORIA? (error rate)\")\n",
    "not_found = (spmr['host_midx'] < 0)\n",
    "print(not_found.sum(), not_found.sum() / ntcrs)"
   ]
  },
  {
   "cell_type": "code",
   "execution_count": 6,
   "metadata": {},
   "outputs": [
    {
     "name": "stdout",
     "output_type": "stream",
     "text": [
      "number of tracers that did not have equivalent moria halo\n",
      "0 0.0\n"
     ]
    }
   ],
   "source": [
    "print(\"number of tracers that did not have equivalent moria halo\")\n",
    "not_found = (spmr['tcr_midx'] < 0)\n",
    "print(not_found.sum(), not_found.sum() / ntcrs)"
   ]
  },
  {
   "cell_type": "markdown",
   "metadata": {},
   "source": [
    "# How many host-tracer pairs do not have an equivalent parent-subhalo pair?"
   ]
  },
  {
   "cell_type": "code",
   "execution_count": 7,
   "metadata": {},
   "outputs": [
    {
     "name": "stdout",
     "output_type": "stream",
     "text": [
      "1392\n",
      "(array([   38,    41,    41, ..., 28041, 28041, 28041]), array([ 24,  26,  27, ..., 163, 164, 165]))\n"
     ]
    }
   ],
   "source": [
    "\n",
    "\n",
    "no_ps_match = np.zeros(ntcrs, dtype = bool)\n",
    "no_ps_snaps = np.zeros((ntcrs, nsnaps), dtype = bool)\n",
    "\n",
    "for i in range(ntcrs):\n",
    "\n",
    "    tcr_midx = spmr['tcr_midx'][i] # all tracers are found in moria\n",
    "    tcr_sidx = spmr['tcr_sidx'][i] \n",
    "    hst_midx = spmr['host_midx'][i] # all hosts are found in moria\n",
    "\n",
    "    fsnap = tjy['first_snap'][tcr_sidx]\n",
    "    lsnap = tjy['last_snap'][tcr_sidx]\n",
    "\n",
    "    host_ids = mdata['id'][:, hst_midx]\n",
    "    sub_pids = mdata['parent_id_cat'][:, tcr_midx]\n",
    "\n",
    "    no_match_mask = np.logical_not(host_ids[fsnap:lsnap] == sub_pids[fsnap:lsnap])\n",
    "    no_ps_match[i] = np.all(no_match_mask)\n",
    "    if np.all(no_match_mask):\n",
    "        no_ps_snaps[i, fsnap:lsnap] = no_match_mask\n",
    "\n",
    "print(no_ps_match.sum())\n",
    "print(np.where(no_ps_snaps))\n",
    "\n",
    "\n",
    "\n"
   ]
  },
  {
   "cell_type": "code",
   "execution_count": 8,
   "metadata": {},
   "outputs": [
    {
     "name": "stderr",
     "output_type": "stream",
     "text": [
      "/var/folders/79/98r4p1nd3v19cl5z3dbndg_c0000gn/T/ipykernel_31401/2379077115.py:8: RuntimeWarning: invalid value encountered in divide\n",
      "  plt.plot(snaps, no_ps_count / tcr_count * 100)\n"
     ]
    },
    {
     "data": {
      "text/plain": [
       "Text(0.5, 0, 'snapshot')"
      ]
     },
     "execution_count": 8,
     "metadata": {},
     "output_type": "execute_result"
    },
    {
     "data": {
      "image/png": "[encoded data removed]",
      "text/plain": [
       "<Figure size 432x288 with 1 Axes>"
      ]
     },
     "metadata": {
      "needs_background": "light"
     },
     "output_type": "display_data"
    }
   ],
   "source": [
    "tcr_count = np.zeros(nsnaps)\n",
    "\n",
    "for i in range(nsnaps):\n",
    "    tcr_mask = ((tjy['first_snap'] <= i) & (tjy['last_snap'] >= i))\n",
    "    tcr_count[i] = tcr_mask.sum()\n",
    "\n",
    "no_ps_count = np.sum(no_ps_snaps, axis = 0)\n",
    "plt.plot(snaps, no_ps_count / tcr_count * 100)\n",
    "tot_nops = no_ps_match.sum() / ntcrs * 100\n",
    "plt.title(f\"number of host-tracer pairs without\\nequivalent subhalo-parent pair:{tot_nops}\")\n",
    "plt.ylabel('percentage')\n",
    "plt.xlabel('snapshot')"
   ]
  },
  {
   "cell_type": "markdown",
   "metadata": {},
   "source": [
    "## According to moria, do these subhalos ever reach with R200m_bnd of supposed parent?"
   ]
  },
  {
   "cell_type": "code",
   "execution_count": 9,
   "metadata": {},
   "outputs": [],
   "source": [
    "def unwrapPositions(positions, alives, boxsize):\n",
    "        \"\"\"\n",
    "        Since the positions of the trackers are logged in a periodic\n",
    "        box, the positions are wrapped when they cross the boundary\n",
    "        of the box. This function unwraps their positions, allowing\n",
    "        for their positions to be displayed continuously\n",
    "\n",
    "        Args:\n",
    "            \n",
    "        \"\"\"\n",
    "        # first determine if unwrapping is necessary\n",
    "\n",
    "        # if the range of positions is greater than L/2, then\n",
    "        # unwrapping is needed\n",
    "        pos_range = np.zeros((3, 2))\n",
    "        pos_range[:, 0] = boxsize\n",
    "        for i in range(len(positions)):\n",
    "            pos = positions[i][alives[i], :]\n",
    "            for j in range(pos_range.shape[0]):\n",
    "                posmin = np.min(pos[:, j])\n",
    "                posmax = np.max(pos[:, j])\n",
    "                pos_range[j, 0] = min(posmin, pos_range[j, 0])\n",
    "                pos_range[j, 1] = max(posmax, pos_range[j, 1])\n",
    "        \n",
    "        sub_pos = positions[0].copy()\n",
    "        host_pos = positions[1].copy()\n",
    "        for a in range(pos_range.shape[0]):\n",
    "            if pos_range[a, 1] - pos_range[a, 0] >= boxsize / 2:\n",
    "                unwrap_mask = sub_pos[:, a] <= boxsize / 2\n",
    "                sub_pos[unwrap_mask & alives[0], a] += boxsize\n",
    "                unwrap_mask = host_pos[:, a] <= boxsize / 2\n",
    "                host_pos[unwrap_mask & alives[1], a] += boxsize\n",
    "\n",
    "        return sub_pos, host_pos"
   ]
  },
  {
   "cell_type": "code",
   "execution_count": 10,
   "metadata": {},
   "outputs": [],
   "source": [
    "\n",
    "\n",
    "def plot_sparta_host_rad(i):\n",
    "    hst_sidx = spmr['host_sidx'][i]\n",
    "    \n",
    "    host_rad = hdata['R200m'][hst_sidx]\n",
    "    host_valid = host_rad > 0\n",
    "\n",
    "    plt.scatter(snaps[host_valid], host_rad[host_valid], color = 'blue', label = 'host R200m')\n",
    "    return\n",
    "\n",
    "def plot_sparta_dist(i):\n",
    "    tcr_sidx = spmr['tcr_sidx'][i]\n",
    "\n",
    "    snap_slc = tjy['r'][tcr_sidx] > 0\n",
    "    plt.scatter(snaps[snap_slc], tjy['r'][tcr_sidx, snap_slc], label = 'sparta r', color = 'orange')\n",
    "    return tjy['r'][tcr_sidx, :]\n",
    "\n",
    "def plot_pericenter(i, ylim):\n",
    "\n",
    "    tcr_sidx = spmr['tcr_sidx'][i]\n",
    "    nperi = oct['n_pericenter'][tcr_sidx]\n",
    "    nlowlim = oct['n_is_lower_limit'][tcr_sidx]\n",
    "    peri_snap = oct['last_pericenter_snap'][tcr_sidx]\n",
    "    if nperi > 0 or nlowlim == 1:\n",
    "        # plt.scatter(peri_snap, r_tcr[peri_snap], color = 'pink', marker='X', label = 'pericenter')\n",
    "        plt.axvline(peri_snap, 0, ylim[1], color = 'red', label = 'pericenter')\n",
    "        return True\n",
    "    else:\n",
    "        return False\n",
    "\n",
    "\n",
    "\n",
    "\n",
    "    "
   ]
  },
  {
   "cell_type": "code",
   "execution_count": 37,
   "metadata": {},
   "outputs": [],
   "source": [
    "def plot_moria_host_rad(i):\n",
    "    hst_midx = spmr['host_midx'][i]\n",
    "    hst_alv = mdata['mask_alive'][:, hst_midx]\n",
    "\n",
    "    host_rad_mo = mdata[RADIUS_DEF][hst_alv, hst_midx]\n",
    "    plt.plot(snaps[hst_alv], host_rad_mo, color = 'blue', label = 'moria R200m_bnd_cat of host')\n",
    "    return\n",
    "\n",
    "def plot_moria_dist(i):\n",
    "    tcr_midx = spmr['tcr_midx'][i]\n",
    "    hst_midx = spmr['host_midx'][i]\n",
    "    \n",
    "    tcr_alv = mdata['mask_alive'][:, tcr_midx]\n",
    "    hst_alv = mdata['mask_alive'][:, hst_midx]\n",
    "    both_alv = tcr_alv & hst_alv\n",
    "\n",
    "    tcr_x = mdata['x'][:, tcr_midx, :]\n",
    "    hst_x = mdata['x'][:, hst_midx, :]\n",
    "    tcr_x, hst_x = unwrapPositions([tcr_x, hst_x], [tcr_alv, hst_alv], boxsize)\n",
    "    dist = np.linalg.norm(tcr_x - hst_x, axis = 1)\n",
    "    plt.plot(snaps[both_alv], dist[both_alv] * 1e3 * snap_a[both_alv], color = 'orange', label = 'moria r')\n",
    "    return dist * 1e3 * snap_a\n",
    "\n",
    "\n",
    "# def plot_moria_host_is_sub(i, ylim):\n",
    "#     hst_midx = spmr['host_midx'][i]\n",
    "#     hst_pids = mdata['parent_id_cat'][:, hst_midx]\n",
    "#     is_sub = hst_pids > 0\n",
    "#     sub_snaps = np.where(is_sub)[0]\n",
    "#     starts = [sub_snaps[0]]\n",
    "#     stops = [sub_snaps[-1]]\n",
    "#     for j in range(len(sub_snaps) - 1):\n",
    "#         if not sub_snaps[j] == sub_snaps[j + 1]:\n",
    "#             stops.append(sub_snaps[j])\n",
    "#             starts.append(sub_snaps[j + 1])\n",
    "#     for ss in range(len(starts)):\n",
    "#         if ss == 0:\n",
    "#             kwargs = dict(alpha = 0.5, color = 'gray', label = 'host is sub')\n",
    "#         else:\n",
    "#             kwargs = dict(alpha = 0.5, color = 'gray')\n",
    "#         if not starts[ss] == stops[ss]:\n",
    "#             plt.fill_betweenx(ylim, starts[ss], stops[ss], **kwargs)\n",
    "#         else:\n",
    "#             plt.fill_betweenx(ylim, starts[ss] - 0.5, stops[ss] + 0.5, **kwargs)\n",
    "#     return\n",
    "def _status_to_string(status):\n",
    "    if status == -1:\n",
    "        return 'none'\n",
    "    elif status == -2:\n",
    "        return 'not found'\n",
    "    elif status == 10:\n",
    "        return 'host'\n",
    "    elif status == 20:\n",
    "        return 'sub'\n",
    "    elif status == 21:\n",
    "        return 'h->s'\n",
    "    elif status == 22:\n",
    "        return 's->h'\n",
    "    elif status == 23:\n",
    "        return 's1->h'\n",
    "    elif status == 24:\n",
    "        return 'switch'\n",
    "    elif status == 50:\n",
    "        return 'merged'\n",
    "    elif status == 72:\n",
    "        return 'h->X'\n",
    "    \n",
    "def plot_moria_host_status(i):\n",
    "    hst_midx = spmr['host_midx'][i]\n",
    "    alv = mdata['mask_alive'][:, hst_midx]\n",
    "    hst_status = mdata['status_sparta'][alv, hst_midx]\n",
    "    snaps_alv = snaps[alv]\n",
    "    host_rad = mdata[RADIUS_DEF][alv, hst_midx]\n",
    "    for j in range(len(snaps_alv)):\n",
    "        if j == 0:\n",
    "            make_annot = True\n",
    "        elif not hst_status[j - 1] == hst_status[j]:\n",
    "            make_annot = True\n",
    "        else:\n",
    "            make_annot = False\n",
    "        \n",
    "        if make_annot:\n",
    "            ant = _status_to_string(hst_status[j])\n",
    "\n",
    "            x = snaps_alv[j]\n",
    "            y = host_rad[j]\n",
    "            plt.annotate(\n",
    "                text = ant,\n",
    "                xy = (x, y),\n",
    "                xycoords = 'data',\n",
    "                xytext = (0, 10),\n",
    "                textcoords='offset points',\n",
    "                ha = 'center',\n",
    "                va = 'top'\n",
    "            ) \n",
    "            \n",
    "    return\n",
    "\n",
    "def plot_moria_sub_status(i, mdist):\n",
    "    tcr_midx = spmr['tcr_midx'][i]\n",
    "    alv = mdata['mask_alive'][:, tcr_midx]\n",
    "    snaps_alv = snaps[alv]\n",
    "    sub_status = mdata['status_sparta'][alv, tcr_midx]\n",
    "    for j in range(len(snaps_alv)):\n",
    "        if j == 0:\n",
    "            make_annot = True\n",
    "        elif not sub_status[j - 1] == sub_status[j]:\n",
    "            make_annot = True\n",
    "        else:\n",
    "            make_annot = False\n",
    "        \n",
    "        if make_annot:\n",
    "            ant = _status_to_string(sub_status[j])\n",
    "\n",
    "            x = snaps_alv[j]\n",
    "            y = mdist[alv][j]\n",
    "            plt.annotate(\n",
    "                text = ant,\n",
    "                xy = (x, y),\n",
    "                xycoords = 'data',\n",
    "                xytext = (0, -10),\n",
    "                textcoords='offset points',\n",
    "                ha = 'center',\n",
    "                va = 'bottom'\n",
    "            ) \n",
    "\n",
    "\n",
    "\n",
    "    "
   ]
  },
  {
   "cell_type": "code",
   "execution_count": 38,
   "metadata": {},
   "outputs": [
    {
     "name": "stdout",
     "output_type": "stream",
     "text": [
      "fraction of host-tracer pairs w/out parent-sub eqv that have pericenters\n",
      "0.1910919540229885\n"
     ]
    }
   ],
   "source": [
    "# making radius plots\n",
    "pstcr_idxs = np.where(no_ps_match)[0]\n",
    "has_peri = np.zeros(ntcrs, dtype = bool)\n",
    "for i in pstcr_idxs:\n",
    "    # create matplotlib figure, axes\n",
    "    # fig, axes = plt.subplots(1, 2, sharey=True, figsize = (8, 4))\n",
    "    fig = plt.figure(facecolor='white', figsize = (8,8))\n",
    "    mdist = plot_moria_dist(i)\n",
    "    plot_moria_host_rad(i)\n",
    "    sdist = plot_sparta_dist(i)\n",
    "    plot_sparta_host_rad(i)\n",
    "    has_peri[i] = plot_pericenter(i, plt.ylim())\n",
    "    plot_moria_host_status(i)\n",
    "    plot_moria_sub_status(i, mdist)\n",
    "    plt.ylabel('radius (kpc / h)')\n",
    "\n",
    "    plt.xlabel('snapshot')\n",
    "    plt.legend(loc = (1, 0.5))\n",
    "\n",
    "    plt.title(f\"tracer idx = {i}\")\n",
    "    plt.savefig(f'as_tcr_rad_plots/{i}.png', bbox_inches = 'tight', facecolor = 'auto')\n",
    "    plt.clf()\n",
    "    plt.close()\n",
    "print('fraction of host-tracer pairs w/out parent-sub eqv that have pericenters')\n",
    "print(has_peri.sum() / len(pstcr_idxs))"
   ]
  },
  {
   "cell_type": "markdown",
   "metadata": {},
   "source": [
    "## comparing moria and rockstar now"
   ]
  },
  {
   "cell_type": "code",
   "execution_count": null,
   "metadata": {},
   "outputs": [],
   "source": [
    "# making radius plots\n",
    "pstcr_idxs = np.where(no_ps_match)[0]\n",
    "for i in pstcr_idxs:\n",
    "    # create matplotlib figure, axes\n",
    "    # fig, axes = plt.subplots(1, 2, sharey=True, figsize = (8, 4))\n",
    "    tcr_midx = spmr['tcr_midx'][i]\n",
    "    hst_midx = spmr['host_midx'][i]\n",
    "\n",
    "    tcr_alv = mdata['mask_alive'][:, tcr_midx]\n",
    "    hst_alv = mdata['mask_alive'][:, hst_midx]\n",
    "    both_alv = tcr_alv & hst_alv\n",
    "    \n",
    "    host_rad_mo = mdata[RADIUS_DEF][hst_alv, hst_midx]\n",
    "\n",
    "    tcr_x = mdata['x'][:, tcr_midx, :]\n",
    "    hst_x = mdata['x'][:, hst_midx, :]\n",
    "    tcr_x, hst_x = unwrapPositions([tcr_x, hst_x], [tcr_alv, hst_alv], boxsize)\n",
    "\n",
    "    plt.plot()\n",
    "\n",
    "    tcr_ridx = spmr['tcr_ridx'][i]\n",
    "    tcr_ridx = tcr_ridx[tcr_ridx >= 0]\n",
    "    hst_ridx = spmr['host_ridx'][i]\n",
    "    hst_ridx = hst_ridx[hst_ridx >= 0]\n",
    "\n",
    "\n",
    "    "
   ]
  },
  {
   "cell_type": "code",
   "execution_count": 51,
   "metadata": {},
   "outputs": [
    {
     "data": {
      "text/plain": [
       "array([5.133020e+05, 4.949150e+05, 4.768560e+05, 4.591200e+05,\n",
       "       4.417150e+05, 4.246520e+05, 4.079270e+05, 3.915520e+05,\n",
       "       3.755100e+05, 3.598400e+05, 3.444730e+05, 3.295120e+05,\n",
       "       3.149180e+05, 3.007070e+05, 2.868570e+05, 2.733440e+05,\n",
       "       2.601850e+05, 2.474050e+05, 2.350370e+05, 2.230900e+05,\n",
       "       2.114940e+05, 2.003260e+05, 1.894940e+05, 1.790470e+05,\n",
       "       1.689600e+05, 1.592390e+05, 1.499520e+05, 1.409690e+05,\n",
       "       1.323270e+05, 1.240390e+05, 1.160890e+05, 1.085190e+05,\n",
       "       1.013010e+05, 9.440500e+04, 8.783300e+04, 8.157000e+04,\n",
       "       7.561300e+04, 6.997900e+04, 6.462000e+04, 5.955100e+04,\n",
       "       5.479100e+04, 5.034200e+04, 4.617100e+04, 4.228800e+04,\n",
       "       3.862300e+04, 3.518800e+04, 3.197300e+04, 2.896800e+04,\n",
       "       2.618900e+04, 2.362700e+04, 2.124800e+04, 1.905900e+04,\n",
       "       1.705800e+04, 1.519800e+04, 1.348300e+04, 1.194200e+04,\n",
       "       1.052300e+04, 9.234000e+03, 8.057000e+03, 6.977000e+03,\n",
       "       6.016000e+03, 5.145000e+03, 4.356000e+03, 3.652000e+03,\n",
       "       3.030000e+03, 2.498000e+03, 2.032000e+03, 1.611000e+03,\n",
       "       1.249000e+03, 9.230000e+02, 6.400000e+02, 3.950000e+02,\n",
       "       1.860000e+02, 2.000000e+00, 2.950313e+06, 2.950313e+06,\n",
       "       2.950313e+06, 2.950313e+06, 2.950313e+06, 2.950313e+06,\n",
       "       2.950313e+06, 2.950313e+06, 2.950313e+06, 2.950313e+06,\n",
       "       2.950313e+06, 2.950313e+06, 2.950313e+06, 2.950313e+06,\n",
       "       2.950313e+06, 2.950313e+06, 2.950313e+06, 2.950313e+06,\n",
       "       2.950313e+06, 2.950313e+06, 2.950313e+06, 2.950313e+06,\n",
       "       2.950313e+06, 2.950313e+06, 2.950313e+06, 2.950313e+06,\n",
       "       2.950313e+06, 2.950313e+06, 2.950313e+06, 2.950313e+06,\n",
       "       2.950313e+06, 2.950313e+06, 2.950313e+06, 2.950313e+06,\n",
       "       2.950313e+06, 2.950313e+06, 2.950313e+06, 2.950313e+06,\n",
       "       2.950313e+06, 2.950313e+06, 2.950313e+06, 2.950313e+06,\n",
       "       2.950313e+06, 2.950313e+06, 2.950313e+06, 2.950313e+06,\n",
       "       2.950313e+06, 2.950313e+06, 2.950313e+06, 2.950313e+06,\n",
       "       2.950313e+06, 2.950313e+06, 2.950313e+06, 2.950313e+06,\n",
       "       2.950313e+06, 2.950313e+06, 2.950313e+06, 2.950313e+06,\n",
       "       2.950313e+06, 2.950313e+06, 2.950313e+06, 2.950313e+06,\n",
       "       2.950313e+06, 2.950313e+06, 2.950313e+06, 2.950313e+06,\n",
       "       2.950313e+06, 2.950313e+06, 2.950313e+06, 2.950313e+06,\n",
       "       2.950313e+06, 2.950313e+06, 2.950313e+06, 2.950313e+06,\n",
       "       2.950313e+06, 2.950313e+06, 2.950313e+06, 2.950313e+06,\n",
       "       2.950313e+06, 2.950313e+06, 2.950313e+06, 2.950313e+06,\n",
       "       2.950313e+06, 2.950313e+06, 2.950313e+06, 2.950313e+06,\n",
       "       2.950313e+06, 2.950313e+06, 2.950313e+06, 2.950313e+06,\n",
       "       2.950313e+06, 2.950313e+06, 2.950313e+06, 2.950313e+06,\n",
       "       2.950313e+06, 2.950313e+06, 2.950313e+06, 2.950313e+06,\n",
       "       2.950313e+06, 2.950313e+06, 2.950313e+06, 2.950313e+06,\n",
       "       2.950313e+06, 2.950313e+06, 2.950313e+06, 2.950313e+06,\n",
       "       2.950313e+06, 2.950313e+06, 2.950313e+06, 2.950313e+06,\n",
       "       2.950313e+06, 2.950313e+06, 2.950313e+06, 2.950313e+06,\n",
       "       2.950313e+06, 2.950313e+06, 2.950313e+06, 2.950313e+06,\n",
       "       2.950313e+06])"
      ]
     },
     "execution_count": 51,
     "metadata": {},
     "output_type": "execute_result"
    }
   ],
   "source": [
    "rdata['id'][spmr['tcr_ridx'][0]]"
   ]
  },
  {
   "cell_type": "code",
   "execution_count": null,
   "metadata": {},
   "outputs": [],
   "source": []
  }
 ],
 "metadata": {
  "kernelspec": {
   "display_name": "Python 3",
   "language": "python",
   "name": "python3"
  },
  "language_info": {
   "codemirror_mode": {
    "name": "ipython",
    "version": 3
   },
   "file_extension": ".py",
   "mimetype": "text/x-python",
   "name": "python",
   "nbconvert_exporter": "python",
   "pygments_lexer": "ipython3",
   "version": "3.8.9"
  }
 },
 "nbformat": 4,
 "nbformat_minor": 2
}

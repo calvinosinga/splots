{
 "cells": [
  {
   "cell_type": "code",
   "execution_count": 1,
   "metadata": {},
   "outputs": [],
   "source": [
    "import matplotlib.pyplot as plt\n",
    "from sparta_tools import moria, sparta\n",
    "import plotly.graph_objects as go\n",
    "import pickle as pkl\n",
    "import h5py as hp\n",
    "import os\n",
    "import copy\n",
    "import numpy as np\n",
    "import sys\n",
    "import post_props as pp\n",
    "\n",
    "BASE = '/Users/cosinga/code/'\n",
    "SIMPATH = '/Users/cosinga/sims/sparta_output/'\n",
    "\n",
    "sys.path.append(BASE + 'tree_tracks')\n",
    "from tree_tracks.tracker import Trajectory\n",
    "from tree_tracks.visual import Image\n",
    "from tree_tracks.storage import Tree, Vines, Simulation\n"
   ]
  },
  {
   "cell_type": "code",
   "execution_count": 2,
   "metadata": {},
   "outputs": [
    {
     "name": "stdout",
     "output_type": "stream",
     "text": [
      "sparta.load: Loading file /Users/cosinga/sims/sparta_output/L0063_N0256_CBol/sparta_orb_defs.hdf5.\n",
      "sparta.load: Loading 19226/19226 halos from SPARTA file (entire array)...\n",
      "sparta.load: Matching result IDs in tracer sho, halo 1923/19226\n",
      "sparta.load: Matching result IDs in tracer sho, halo 3845/19226\n",
      "sparta.load: Matching result IDs in tracer sho, halo 5767/19226\n",
      "sparta.load: Matching result IDs in tracer sho, halo 7689/19226\n",
      "sparta.load: Matching result IDs in tracer sho, halo 9611/19226\n",
      "sparta.load: Matching result IDs in tracer sho, halo 11533/19226\n",
      "sparta.load: Matching result IDs in tracer sho, halo 13455/19226\n",
      "sparta.load: Matching result IDs in tracer sho, halo 15377/19226\n",
      "sparta.load: Matching result IDs in tracer sho, halo 17299/19226\n",
      "sparta.load: Matching result IDs in tracer sho, halo 19221/19226\n"
     ]
    }
   ],
   "source": [
    "SIMNAME = 'L0063_N0256_CBol'\n",
    "SPARTA_FILE = '/sparta_no_cuts.hdf5'\n",
    "SAVEPATH = '/Users/cosinga/code/splots/animations/'\n",
    "tree_filename = '%s_tree.pkl'%SIMNAME\n",
    "link_filename = '%s_linked_tcr_data.pkl'%SIMNAME\n",
    "vines_filename = '%s_vines.pkl'%SIMNAME\n",
    "link_data_exists = os.path.exists(SAVEPATH + link_filename)\n",
    "vines_exists = os.path.exists(SAVEPATH + vines_filename)\n",
    "tree_exists = os.path.exists(SAVEPATH + tree_filename)\n",
    "\n",
    "if not link_data_exists or not vines_exists or not tree_exists:\n",
    "    if not link_data_exists or not vines_exists:\n",
    "        sdata = sparta.load(SIMPATH + '%s/'%SIMNAME, load_halo_data = True, \n",
    "                    anl_match = ['hps', 'rsp'], anl_pad_unmatched = True,\n",
    "                    res_match = ['ifl', 'oct', 'tjy'], res_pad_unmatched = True)\n",
    "   \n",
    "    if not link_data_exists:\n",
    "        data = pp.link_tracer_halo_data(sdata['tcr_sho'], sdata['halos'], sdata['simulation'])\n",
    "        pkl.dump(data, open(link_filename, 'wb'), pkl.HIGHEST_PROTOCOL)\n",
    "    # if not vines_exists:\n",
    "    #     simdata = sdata['simulation']\n",
    "    #     sim = Simulation(simdata['box_size'], simdata['snap_t'], ['snap_t', 'snap_z'], simdata)\n",
    "    #     sdict = pp.reformat_sparta(sdata, sim.getSnaps())\n",
    "    #     vines = Vines(sdict, sdata['halos'], sim)\n",
    "    #     pkl.dump(vines, open(vines_filename, 'wb'), pkl.HIGHEST_PROTOCOL)\n",
    "    if not tree_exists:\n",
    "        massdefs = ['M200m_all_spa', 'Morb-all_all_spa', 'Morb-all_orb_spa', 'Mvir_all_spa', 'Mpeak']\n",
    "        pids = ['parent_id_cat', 'parent_id_orbinf']\n",
    "        others = ['mask_alive', 'mask_cut', 'id', 'x', 'R200m_all_spa']\n",
    "\n",
    "        mdata = moria.load(SIMPATH + '%s/moria_trees/moria_tree_orb_defs.hdf5'%SIMNAME, massdefs + pids + others)\n",
    "        mconfig = moria.loadConfig(SIMPATH + '%s/moria_trees/moria_tree_orb_defs.hdf5'%SIMNAME)\n",
    "        simdata = mconfig['simulation']\n",
    "        sim = Simulation(simdata['box_size'], simdata['snap_t'], ['snap_t', 'snap_z'], simdata)\n",
    "        tree = Tree(mdata, sim)\n",
    "        pkl.dump(tree, open(tree_filename, 'wb'), pkl.HIGHEST_PROTOCOL)\n",
    "\n",
    "\n",
    "else:\n",
    "    data = pkl.load(open(link_filename, 'rb'))\n",
    "    vines = pkl.load(open(vines_filename, 'rb'))\n",
    "    tree = pkl.load(open(tree_filename, 'rb'))\n"
   ]
  },
  {
   "cell_type": "code",
   "execution_count": 3,
   "metadata": {},
   "outputs": [
    {
     "name": "stdout",
     "output_type": "stream",
     "text": [
      "dict_keys(['res_ifl', 'res_oct', 'res_tjy', 'hosts', 'tcr_halos', 'sim'])\n",
      "res_ifl ('born_in_halo', 'sub_mass_ratio', 't_infall', 'tracer_id', 'vrv200', 'vtv200', 'x')\n",
      "res_oct ('last_pericenter_snap', 'n_is_lower_limit', 'n_pericenter', 'tracer_id')\n",
      "res_tjy ('first_snap', 'last_snap', 'r', 'tracer_id', 'v', 'vr', 'vt', 'x')\n",
      "hosts dict_keys(['R200m', 'M200m', 'id', 'sparta_idx'])\n",
      "tcr_halos dict_keys(['R200m', 'M200m', 'sparta_idx'])\n",
      "sim dict_keys(['snap_z'])\n"
     ]
    }
   ],
   "source": [
    "data = pkl.load(open(link_filename, 'rb'))\n",
    "\n",
    "print(data.keys())\n",
    "for k, v in data.items():\n",
    "    if isinstance(v, dict):\n",
    "        print(k, v.keys())\n",
    "    if isinstance(v, np.ndarray):\n",
    "        print(k, v.dtype.names)"
   ]
  },
  {
   "cell_type": "markdown",
   "metadata": {},
   "source": [
    "# Escaping Subhalos\n",
    "here we are looking at subhalos that have a pericenter but then escape. If we can determine a priori whether or not a subhalo will escape, we can skip their host-sub assignments."
   ]
  },
  {
   "cell_type": "code",
   "execution_count": 4,
   "metadata": {},
   "outputs": [
    {
     "name": "stdout",
     "output_type": "stream",
     "text": [
      "(28050,) 1158\n"
     ]
    }
   ],
   "source": [
    "mask = pp.get_esc_subhalos_mask(data)\n",
    "print(mask.shape, mask.sum())\n",
    "\n"
   ]
  },
  {
   "cell_type": "code",
   "execution_count": 9,
   "metadata": {},
   "outputs": [
    {
     "data": {
      "application/vnd.plotly.v1+json": {
       "config": {
        "plotlyServerURL": "https://plot.ly"
       },
       "data": [
        {
         "hoverinfo": "text",
         "hovertext": [
          "host_radius :5.91e+00 kpc/h<br>host_mass :6.20e+10 SM/h<br>host_idx :11<br>host_id :1288<br>vr :nan kpc/h/Gyr<br>vt :0.00e+00 kpc/h/Gyr<br>tcr_idx :4<br>tcr_sparta_idx :677<br>born_in_halo :born outside<br>",
          "host_radius :6.33e+00 kpc/h<br>host_mass :6.20e+10 SM/h<br>host_idx :11<br>host_id :1653<br>vr :nan kpc/h/Gyr<br>vt :0.00e+00 kpc/h/Gyr<br>tcr_idx :4<br>tcr_sparta_idx :677<br>born_in_halo :born outside<br>",
          "host_radius :6.70e+00 kpc/h<br>host_mass :6.20e+10 SM/h<br>host_idx :11<br>host_id :2081<br>vr :nan kpc/h/Gyr<br>vt :0.00e+00 kpc/h/Gyr<br>tcr_idx :4<br>tcr_sparta_idx :677<br>born_in_halo :born outside<br>",
          "host_radius :7.06e+00 kpc/h<br>host_mass :6.20e+10 SM/h<br>host_idx :11<br>host_id :2552<br>vr :-1.18e+00 kpc/h/Gyr<br>vt :1.44e+01 kpc/h/Gyr<br>tcr_idx :4<br>tcr_sparta_idx :677<br>born_in_halo :born outside<br>",
          "host_radius :7.40e+00 kpc/h<br>host_mass :6.20e+10 SM/h<br>host_idx :11<br>host_id :3094<br>vr :1.14e+02 kpc/h/Gyr<br>vt :6.65e+01 kpc/h/Gyr<br>tcr_idx :4<br>tcr_sparta_idx :677<br>born_in_halo :born outside<br>",
          "host_radius :7.74e+00 kpc/h<br>host_mass :6.20e+10 SM/h<br>host_idx :11<br>host_id :3726<br>vr :1.24e+02 kpc/h/Gyr<br>vt :7.03e+01 kpc/h/Gyr<br>tcr_idx :4<br>tcr_sparta_idx :677<br>born_in_halo :born outside<br>",
          "host_radius :8.54e+00 kpc/h<br>host_mass :6.20e+10 SM/h<br>host_idx :11<br>host_id :4443<br>vr :5.09e+01 kpc/h/Gyr<br>vt :1.57e+02 kpc/h/Gyr<br>tcr_idx :4<br>tcr_sparta_idx :677<br>born_in_halo :born outside<br>"
         ],
         "mode": "lines+markers",
         "name": "961",
         "type": "scatter",
         "x": [
          8.393199920654297,
          8.276437759399414,
          8.16086483001709,
          8.046499252319336,
          7.934155464172363,
          7.823010444641113,
          7.713078022003174
         ],
         "y": [
          5.22263761401423,
          0.15695295085547323,
          0.19720438223227335,
          0.2031126479977756,
          11.122588593842078,
          10.835661205755649,
          7.452456764032283
         ]
        },
        {
         "hoverinfo": "text",
         "hovertext": [
          "host_radius :4.13e+00 kpc/h<br>host_mass :7.31e+10 SM/h<br>host_idx :67<br>host_id :10528<br>vr :nan kpc/h/Gyr<br>vt :0.00e+00 kpc/h/Gyr<br>tcr_idx :16<br>tcr_sparta_idx :424<br>born_in_halo :born outside<br>",
          "host_radius :4.09e+00 kpc/h<br>host_mass :7.31e+10 SM/h<br>host_idx :67<br>host_id :11947<br>vr :nan kpc/h/Gyr<br>vt :0.00e+00 kpc/h/Gyr<br>tcr_idx :16<br>tcr_sparta_idx :424<br>born_in_halo :born outside<br>",
          "host_radius :4.14e+00 kpc/h<br>host_mass :7.31e+10 SM/h<br>host_idx :67<br>host_id :13487<br>vr :2.28e+01 kpc/h/Gyr<br>vt :1.75e+01 kpc/h/Gyr<br>tcr_idx :16<br>tcr_sparta_idx :424<br>born_in_halo :born outside<br>",
          "host_radius :4.36e+00 kpc/h<br>host_mass :7.31e+10 SM/h<br>host_idx :67<br>host_id :15202<br>vr :2.00e+01 kpc/h/Gyr<br>vt :1.12e+02 kpc/h/Gyr<br>tcr_idx :16<br>tcr_sparta_idx :424<br>born_in_halo :born outside<br>",
          "host_radius :6.72e+00 kpc/h<br>host_mass :7.31e+10 SM/h<br>host_idx :67<br>host_id :17060<br>vr :2.92e+01 kpc/h/Gyr<br>vt :1.21e+02 kpc/h/Gyr<br>tcr_idx :16<br>tcr_sparta_idx :424<br>born_in_halo :born outside<br>",
          "host_radius :8.42e+00 kpc/h<br>host_mass :7.31e+10 SM/h<br>host_idx :67<br>host_id :19061<br>vr :3.16e+01 kpc/h/Gyr<br>vt :1.14e+02 kpc/h/Gyr<br>tcr_idx :16<br>tcr_sparta_idx :424<br>born_in_halo :born outside<br>",
          "host_radius :1.24e+01 kpc/h<br>host_mass :7.31e+10 SM/h<br>host_idx :67<br>host_id :21250<br>vr :5.46e+01 kpc/h/Gyr<br>vt :9.70e+01 kpc/h/Gyr<br>tcr_idx :16<br>tcr_sparta_idx :424<br>born_in_halo :born outside<br>",
          "host_radius :1.10e+01 kpc/h<br>host_mass :7.31e+10 SM/h<br>host_idx :67<br>host_id :23629<br>vr :5.12e+01 kpc/h/Gyr<br>vt :1.22e+02 kpc/h/Gyr<br>tcr_idx :16<br>tcr_sparta_idx :424<br>born_in_halo :born outside<br>",
          "host_radius :1.02e+01 kpc/h<br>host_mass :7.31e+10 SM/h<br>host_idx :67<br>host_id :26191<br>vr :4.21e+01 kpc/h/Gyr<br>vt :1.06e+02 kpc/h/Gyr<br>tcr_idx :16<br>tcr_sparta_idx :424<br>born_in_halo :born outside<br>",
          "host_radius :1.31e+01 kpc/h<br>host_mass :7.31e+10 SM/h<br>host_idx :67<br>host_id :28970<br>vr :6.38e+01 kpc/h/Gyr<br>vt :9.14e+01 kpc/h/Gyr<br>tcr_idx :16<br>tcr_sparta_idx :424<br>born_in_halo :born outside<br>",
          "host_radius :1.56e+01 kpc/h<br>host_mass :7.31e+10 SM/h<br>host_idx :67<br>host_id :31974<br>vr :7.10e+01 kpc/h/Gyr<br>vt :7.28e+01 kpc/h/Gyr<br>tcr_idx :16<br>tcr_sparta_idx :424<br>born_in_halo :born outside<br>",
          "host_radius :1.49e+01 kpc/h<br>host_mass :7.31e+10 SM/h<br>host_idx :67<br>host_id :35189<br>vr :8.85e+01 kpc/h/Gyr<br>vt :8.96e+01 kpc/h/Gyr<br>tcr_idx :16<br>tcr_sparta_idx :424<br>born_in_halo :born outside<br>"
         ],
         "mode": "lines+markers",
         "name": "2036",
         "type": "scatter",
         "x": [
          7.082767486572266,
          6.982120513916016,
          6.8827056884765625,
          6.784523963928223,
          6.687576770782471,
          6.592438220977783,
          6.49793815612793,
          6.404116630554199,
          6.312079906463623,
          6.221259593963623,
          6.131649971008301,
          6.042749404907227
         ],
         "y": [
          33.709201937128405,
          0.39584861885026473,
          0.8905928430316609,
          7.252146321990796,
          4.964714460416714,
          3.9603043169565044,
          2.839912172888781,
          2.3991172580529114,
          3.5486039668923746,
          2.884291518327421,
          2.5915824282156197,
          2.3566525603332127
         ]
        },
        {
         "hoverinfo": "text",
         "hovertext": [
          "host_radius :7.44e+00 kpc/h<br>host_mass :3.44e+10 SM/h<br>host_idx :69<br>host_id :7124<br>vr :nan kpc/h/Gyr<br>vt :0.00e+00 kpc/h/Gyr<br>tcr_idx :18<br>tcr_sparta_idx :7713<br>born_in_halo :born outside<br>",
          "host_radius :7.22e+00 kpc/h<br>host_mass :3.44e+10 SM/h<br>host_idx :69<br>host_id :8224<br>vr :-5.16e+00 kpc/h/Gyr<br>vt :1.49e+01 kpc/h/Gyr<br>tcr_idx :18<br>tcr_sparta_idx :7713<br>born_in_halo :born outside<br>",
          "host_radius :6.97e+00 kpc/h<br>host_mass :3.44e+10 SM/h<br>host_idx :69<br>host_id :9414<br>vr :7.72e+00 kpc/h/Gyr<br>vt :4.87e+01 kpc/h/Gyr<br>tcr_idx :18<br>tcr_sparta_idx :7713<br>born_in_halo :born outside<br>",
          "host_radius :6.64e+00 kpc/h<br>host_mass :3.44e+10 SM/h<br>host_idx :69<br>host_id :10721<br>vr :7.02e+00 kpc/h/Gyr<br>vt :4.91e+01 kpc/h/Gyr<br>tcr_idx :18<br>tcr_sparta_idx :7713<br>born_in_halo :born outside<br>",
          "host_radius :6.52e+00 kpc/h<br>host_mass :3.44e+10 SM/h<br>host_idx :69<br>host_id :12162<br>vr :9.59e+00 kpc/h/Gyr<br>vt :5.90e+01 kpc/h/Gyr<br>tcr_idx :18<br>tcr_sparta_idx :7713<br>born_in_halo :born outside<br>",
          "host_radius :6.87e+00 kpc/h<br>host_mass :3.44e+10 SM/h<br>host_idx :69<br>host_id :13715<br>vr :3.82e+00 kpc/h/Gyr<br>vt :6.55e+01 kpc/h/Gyr<br>tcr_idx :18<br>tcr_sparta_idx :7713<br>born_in_halo :born outside<br>",
          "host_radius :7.53e+00 kpc/h<br>host_mass :3.44e+10 SM/h<br>host_idx :69<br>host_id :15454<br>vr :-5.53e-01 kpc/h/Gyr<br>vt :5.29e+01 kpc/h/Gyr<br>tcr_idx :18<br>tcr_sparta_idx :7713<br>born_in_halo :born outside<br>",
          "host_radius :8.35e+00 kpc/h<br>host_mass :3.44e+10 SM/h<br>host_idx :69<br>host_id :17339<br>vr :-3.94e-01 kpc/h/Gyr<br>vt :5.01e+01 kpc/h/Gyr<br>tcr_idx :18<br>tcr_sparta_idx :7713<br>born_in_halo :born outside<br>",
          "host_radius :9.07e+00 kpc/h<br>host_mass :3.44e+10 SM/h<br>host_idx :69<br>host_id :19363<br>vr :-3.58e+00 kpc/h/Gyr<br>vt :4.12e+01 kpc/h/Gyr<br>tcr_idx :18<br>tcr_sparta_idx :7713<br>born_in_halo :born outside<br>",
          "host_radius :9.74e+00 kpc/h<br>host_mass :3.44e+10 SM/h<br>host_idx :69<br>host_id :21573<br>vr :-4.48e+00 kpc/h/Gyr<br>vt :3.30e+01 kpc/h/Gyr<br>tcr_idx :18<br>tcr_sparta_idx :7713<br>born_in_halo :born outside<br>",
          "host_radius :1.07e+01 kpc/h<br>host_mass :3.44e+10 SM/h<br>host_idx :69<br>host_id :23969<br>vr :4.34e+00 kpc/h/Gyr<br>vt :3.72e+01 kpc/h/Gyr<br>tcr_idx :18<br>tcr_sparta_idx :7713<br>born_in_halo :born outside<br>",
          "host_radius :1.07e+01 kpc/h<br>host_mass :3.44e+10 SM/h<br>host_idx :69<br>host_id :26555<br>vr :2.59e+01 kpc/h/Gyr<br>vt :4.01e+01 kpc/h/Gyr<br>tcr_idx :18<br>tcr_sparta_idx :7713<br>born_in_halo :born outside<br>",
          "host_radius :1.11e+01 kpc/h<br>host_mass :3.44e+10 SM/h<br>host_idx :69<br>host_id :29354<br>vr :-8.51e-01 kpc/h/Gyr<br>vt :3.76e+01 kpc/h/Gyr<br>tcr_idx :18<br>tcr_sparta_idx :7713<br>born_in_halo :born outside<br>",
          "host_radius :1.14e+01 kpc/h<br>host_mass :3.44e+10 SM/h<br>host_idx :69<br>host_id :32391<br>vr :-9.95e+00 kpc/h/Gyr<br>vt :3.69e+01 kpc/h/Gyr<br>tcr_idx :18<br>tcr_sparta_idx :7713<br>born_in_halo :born outside<br>",
          "host_radius :1.16e+01 kpc/h<br>host_mass :3.44e+10 SM/h<br>host_idx :69<br>host_id :35637<br>vr :-1.57e+01 kpc/h/Gyr<br>vt :3.85e+01 kpc/h/Gyr<br>tcr_idx :18<br>tcr_sparta_idx :7713<br>born_in_halo :born outside<br>"
         ],
         "mode": "lines+markers",
         "name": "7125",
         "type": "scatter",
         "x": [
          7.392077922821045,
          7.287750720977783,
          7.184645652770996,
          7.082767486572266,
          6.982120513916016,
          6.8827056884765625,
          6.784523963928223,
          6.687576770782471,
          6.592438220977783,
          6.49793815612793,
          6.404116630554199,
          6.312079906463623,
          6.221259593963623,
          6.131649971008301,
          6.042749404907227
         ],
         "y": [
          10.881839004547672,
          0.21345497385746703,
          12.26251819422388,
          12.889181970823335,
          13.269497257531507,
          12.818894742840756,
          11.731205129651638,
          10.611544146931116,
          9.768238388466878,
          9.105814452441486,
          7.539650364614058,
          7.439421062546226,
          7.311741653075154,
          7.032721044637109,
          6.953819193353427
         ]
        },
        {
         "hoverinfo": "text",
         "hovertext": [
          "host_radius :8.29e+00 kpc/h<br>host_mass :1.75e+10 SM/h<br>host_idx :76<br>host_id :10200<br>vr :-5.33e+00 kpc/h/Gyr<br>vt :2.00e+01 kpc/h/Gyr<br>tcr_idx :20<br>tcr_sparta_idx :7856<br>born_in_halo :born inside<br>",
          "host_radius :8.40e+00 kpc/h<br>host_mass :1.75e+10 SM/h<br>host_idx :76<br>host_id :11593<br>vr :1.49e+01 kpc/h/Gyr<br>vt :5.56e+00 kpc/h/Gyr<br>tcr_idx :20<br>tcr_sparta_idx :7856<br>born_in_halo :born inside<br>",
          "host_radius :8.50e+00 kpc/h<br>host_mass :1.75e+10 SM/h<br>host_idx :76<br>host_id :13119<br>vr :7.51e+00 kpc/h/Gyr<br>vt :2.11e+01 kpc/h/Gyr<br>tcr_idx :20<br>tcr_sparta_idx :7856<br>born_in_halo :born inside<br>",
          "host_radius :8.61e+00 kpc/h<br>host_mass :1.75e+10 SM/h<br>host_idx :76<br>host_id :14755<br>vr :-1.13e+01 kpc/h/Gyr<br>vt :2.74e+01 kpc/h/Gyr<br>tcr_idx :20<br>tcr_sparta_idx :7856<br>born_in_halo :born inside<br>",
          "host_radius :6.05e+00 kpc/h<br>host_mass :1.75e+10 SM/h<br>host_idx :76<br>host_id :16611<br>vr :2.06e+01 kpc/h/Gyr<br>vt :9.70e+01 kpc/h/Gyr<br>tcr_idx :20<br>tcr_sparta_idx :7856<br>born_in_halo :born inside<br>",
          "host_radius :5.74e+00 kpc/h<br>host_mass :1.75e+10 SM/h<br>host_idx :76<br>host_id :18596<br>vr :-2.26e+01 kpc/h/Gyr<br>vt :1.29e+01 kpc/h/Gyr<br>tcr_idx :20<br>tcr_sparta_idx :7856<br>born_in_halo :born inside<br>",
          "host_radius :7.22e+00 kpc/h<br>host_mass :1.75e+10 SM/h<br>host_idx :76<br>host_id :20723<br>vr :-1.06e+01 kpc/h/Gyr<br>vt :2.84e+01 kpc/h/Gyr<br>tcr_idx :20<br>tcr_sparta_idx :7856<br>born_in_halo :born inside<br>",
          "host_radius :9.89e+00 kpc/h<br>host_mass :1.75e+10 SM/h<br>host_idx :76<br>host_id :23039<br>vr :1.40e+01 kpc/h/Gyr<br>vt :6.64e+01 kpc/h/Gyr<br>tcr_idx :20<br>tcr_sparta_idx :7856<br>born_in_halo :born inside<br>",
          "host_radius :1.07e+01 kpc/h<br>host_mass :1.75e+10 SM/h<br>host_idx :76<br>host_id :25585<br>vr :1.01e+01 kpc/h/Gyr<br>vt :6.81e+01 kpc/h/Gyr<br>tcr_idx :20<br>tcr_sparta_idx :7856<br>born_in_halo :born inside<br>",
          "host_radius :9.62e+00 kpc/h<br>host_mass :1.75e+10 SM/h<br>host_idx :76<br>host_id :28301<br>vr :-1.50e+01 kpc/h/Gyr<br>vt :3.66e+01 kpc/h/Gyr<br>tcr_idx :20<br>tcr_sparta_idx :7856<br>born_in_halo :born inside<br>",
          "host_radius :9.40e+00 kpc/h<br>host_mass :1.75e+10 SM/h<br>host_idx :76<br>host_id :31238<br>vr :-2.84e+01 kpc/h/Gyr<br>vt :3.97e+01 kpc/h/Gyr<br>tcr_idx :20<br>tcr_sparta_idx :7856<br>born_in_halo :born inside<br>",
          "host_radius :1.01e+01 kpc/h<br>host_mass :1.75e+10 SM/h<br>host_idx :76<br>host_id :34433<br>vr :-3.15e+01 kpc/h/Gyr<br>vt :3.38e+01 kpc/h/Gyr<br>tcr_idx :20<br>tcr_sparta_idx :7856<br>born_in_halo :born inside<br>",
          "host_radius :9.23e+00 kpc/h<br>host_mass :1.75e+10 SM/h<br>host_idx :76<br>host_id :37825<br>vr :-2.79e+01 kpc/h/Gyr<br>vt :2.57e+01 kpc/h/Gyr<br>tcr_idx :20<br>tcr_sparta_idx :7856<br>born_in_halo :born inside<br>"
         ],
         "mode": "lines+markers",
         "name": "10199",
         "type": "scatter",
         "x": [
          7.184645652770996,
          7.082767486572266,
          6.982120513916016,
          6.8827056884765625,
          6.784523963928223,
          6.687576770782471,
          6.592438220977783,
          6.49793815612793,
          6.404116630554199,
          6.312079906463623,
          6.221259593963623,
          6.131649971008301,
          6.042749404907227
         ],
         "y": [
          0.36875320421483193,
          0.1757010162539532,
          0.36200550301266,
          4.70933117677441,
          9.559686723910579,
          5.991193126569717,
          6.103744627227736,
          10.138165012447159,
          9.485938488662958,
          4.676659430422577,
          4.686689449866623,
          4.423546704621646,
          4.049489617401324
         ]
        },
        {
         "hoverinfo": "text",
         "hovertext": [
          "host_radius :1.04e+01 kpc/h<br>host_mass :1.02e+10 SM/h<br>host_idx :107<br>host_id :18751<br>vr :1.55e+01 kpc/h/Gyr<br>vt :1.14e+01 kpc/h/Gyr<br>tcr_idx :26<br>tcr_sparta_idx :328<br>born_in_halo :born inside<br>",
          "host_radius :1.07e+01 kpc/h<br>host_mass :1.02e+10 SM/h<br>host_idx :107<br>host_id :20899<br>vr :9.13e+00 kpc/h/Gyr<br>vt :7.42e+01 kpc/h/Gyr<br>tcr_idx :26<br>tcr_sparta_idx :328<br>born_in_halo :born inside<br>",
          "host_radius :1.22e+01 kpc/h<br>host_mass :1.02e+10 SM/h<br>host_idx :107<br>host_id :23232<br>vr :-5.12e+00 kpc/h/Gyr<br>vt :7.80e+01 kpc/h/Gyr<br>tcr_idx :26<br>tcr_sparta_idx :328<br>born_in_halo :born inside<br>",
          "host_radius :1.32e+01 kpc/h<br>host_mass :1.02e+10 SM/h<br>host_idx :107<br>host_id :25805<br>vr :-2.04e+02 kpc/h/Gyr<br>vt :1.27e+01 kpc/h/Gyr<br>tcr_idx :26<br>tcr_sparta_idx :328<br>born_in_halo :born inside<br>"
         ],
         "mode": "lines+markers",
         "name": "18741",
         "type": "scatter",
         "x": [
          6.687576770782471,
          6.592438220977783,
          6.49793815612793,
          6.404116630554199
         ],
         "y": [
          0.09671683431708696,
          6.81219850835294,
          6.070549990251895,
          2.5698237341494603
         ]
        },
        {
         "hoverinfo": "text",
         "hovertext": [
          "host_radius :9.19e+00 kpc/h<br>host_mass :1.05e+11 SM/h<br>host_idx :144<br>host_id :11003<br>vr :nan kpc/h/Gyr<br>vt :0.00e+00 kpc/h/Gyr<br>tcr_idx :37<br>tcr_sparta_idx :231<br>born_in_halo :born outside<br>",
          "host_radius :9.39e+00 kpc/h<br>host_mass :1.05e+11 SM/h<br>host_idx :144<br>host_id :12468<br>vr :nan kpc/h/Gyr<br>vt :0.00e+00 kpc/h/Gyr<br>tcr_idx :37<br>tcr_sparta_idx :231<br>born_in_halo :born outside<br>",
          "host_radius :9.19e+00 kpc/h<br>host_mass :1.05e+11 SM/h<br>host_idx :144<br>host_id :14046<br>vr :nan kpc/h/Gyr<br>vt :0.00e+00 kpc/h/Gyr<br>tcr_idx :37<br>tcr_sparta_idx :231<br>born_in_halo :born outside<br>",
          "host_radius :9.37e+00 kpc/h<br>host_mass :1.05e+11 SM/h<br>host_idx :144<br>host_id :15823<br>vr :-2.63e+00 kpc/h/Gyr<br>vt :6.82e+00 kpc/h/Gyr<br>tcr_idx :37<br>tcr_sparta_idx :231<br>born_in_halo :born outside<br>",
          "host_radius :1.15e+01 kpc/h<br>host_mass :1.05e+11 SM/h<br>host_idx :144<br>host_id :17733<br>vr :-7.04e+00 kpc/h/Gyr<br>vt :6.65e+01 kpc/h/Gyr<br>tcr_idx :37<br>tcr_sparta_idx :231<br>born_in_halo :born outside<br>",
          "host_radius :1.07e+01 kpc/h<br>host_mass :1.05e+11 SM/h<br>host_idx :144<br>host_id :19790<br>vr :3.13e+00 kpc/h/Gyr<br>vt :7.03e+01 kpc/h/Gyr<br>tcr_idx :37<br>tcr_sparta_idx :231<br>born_in_halo :born outside<br>",
          "host_radius :1.13e+01 kpc/h<br>host_mass :1.05e+11 SM/h<br>host_idx :144<br>host_id :22040<br>vr :9.84e+00 kpc/h/Gyr<br>vt :6.71e+01 kpc/h/Gyr<br>tcr_idx :37<br>tcr_sparta_idx :231<br>born_in_halo :born outside<br>",
          "host_radius :1.16e+01 kpc/h<br>host_mass :1.05e+11 SM/h<br>host_idx :144<br>host_id :24491<br>vr :-3.01e-01 kpc/h/Gyr<br>vt :6.53e+01 kpc/h/Gyr<br>tcr_idx :37<br>tcr_sparta_idx :231<br>born_in_halo :born outside<br>",
          "host_radius :1.34e+01 kpc/h<br>host_mass :1.05e+11 SM/h<br>host_idx :144<br>host_id :27132<br>vr :-5.67e+00 kpc/h/Gyr<br>vt :5.31e+01 kpc/h/Gyr<br>tcr_idx :37<br>tcr_sparta_idx :231<br>born_in_halo :born outside<br>",
          "host_radius :1.38e+01 kpc/h<br>host_mass :1.05e+11 SM/h<br>host_idx :144<br>host_id :29990<br>vr :-1.39e+01 kpc/h/Gyr<br>vt :5.67e+01 kpc/h/Gyr<br>tcr_idx :37<br>tcr_sparta_idx :231<br>born_in_halo :born outside<br>",
          "host_radius :1.36e+01 kpc/h<br>host_mass :1.05e+11 SM/h<br>host_idx :144<br>host_id :33080<br>vr :-1.71e+01 kpc/h/Gyr<br>vt :6.05e+01 kpc/h/Gyr<br>tcr_idx :37<br>tcr_sparta_idx :231<br>born_in_halo :born outside<br>",
          "host_radius :1.45e+01 kpc/h<br>host_mass :1.05e+11 SM/h<br>host_idx :144<br>host_id :36382<br>vr :-2.14e+01 kpc/h/Gyr<br>vt :6.54e+01 kpc/h/Gyr<br>tcr_idx :37<br>tcr_sparta_idx :231<br>born_in_halo :born outside<br>",
          "host_radius :1.50e+01 kpc/h<br>host_mass :1.05e+11 SM/h<br>host_idx :144<br>host_id :39891<br>vr :-3.00e+01 kpc/h/Gyr<br>vt :6.08e+01 kpc/h/Gyr<br>tcr_idx :37<br>tcr_sparta_idx :231<br>born_in_halo :born outside<br>",
          "host_radius :1.55e+01 kpc/h<br>host_mass :1.05e+11 SM/h<br>host_idx :144<br>host_id :43642<br>vr :-2.56e+01 kpc/h/Gyr<br>vt :4.69e+01 kpc/h/Gyr<br>tcr_idx :37<br>tcr_sparta_idx :231<br>born_in_halo :born outside<br>",
          "host_radius :1.60e+01 kpc/h<br>host_mass :1.05e+11 SM/h<br>host_idx :144<br>host_id :47605<br>vr :-3.37e+01 kpc/h/Gyr<br>vt :4.81e+01 kpc/h/Gyr<br>tcr_idx :37<br>tcr_sparta_idx :231<br>born_in_halo :born outside<br>",
          "host_radius :1.67e+01 kpc/h<br>host_mass :1.05e+11 SM/h<br>host_idx :144<br>host_id :51861<br>vr :-4.47e+01 kpc/h/Gyr<br>vt :4.55e+01 kpc/h/Gyr<br>tcr_idx :37<br>tcr_sparta_idx :231<br>born_in_halo :born outside<br>",
          "host_radius :1.74e+01 kpc/h<br>host_mass :1.05e+11 SM/h<br>host_idx :144<br>host_id :56398<br>vr :-4.52e+01 kpc/h/Gyr<br>vt :4.34e+01 kpc/h/Gyr<br>tcr_idx :37<br>tcr_sparta_idx :231<br>born_in_halo :born outside<br>",
          "host_radius :1.81e+01 kpc/h<br>host_mass :1.05e+11 SM/h<br>host_idx :144<br>host_id :61287<br>vr :-5.89e+01 kpc/h/Gyr<br>vt :3.47e+01 kpc/h/Gyr<br>tcr_idx :37<br>tcr_sparta_idx :231<br>born_in_halo :born outside<br>"
         ],
         "mode": "lines+markers",
         "name": "3213",
         "type": "scatter",
         "x": [
          7.082767486572266,
          6.982120513916016,
          6.8827056884765625,
          6.784523963928223,
          6.687576770782471,
          6.592438220977783,
          6.49793815612793,
          6.404116630554199,
          6.312079906463623,
          6.221259593963623,
          6.131649971008301,
          6.042749404907227,
          5.955070495605469,
          5.868603229522705,
          5.782879829406738,
          5.698821067810059,
          5.615506649017334,
          5.532958507537842
         ],
         "y": [
          5.583048881816644,
          7.091567382108924,
          5.988296816597604,
          0.20509619704634507,
          5.253089775331806,
          5.282010144458936,
          4.902155254367566,
          4.659404664869683,
          4.001941802015837,
          3.6251149703489154,
          4.4803985500203405,
          4.0600479953624315,
          3.869617155981349,
          3.6623303924910107,
          3.552844686772504,
          3.121151166101333,
          3.1749472589563323,
          2.9975466251048024
         ]
        },
        {
         "hoverinfo": "text",
         "hovertext": [
          "host_radius :1.22e+01 kpc/h<br>host_mass :1.63e+11 SM/h<br>host_idx :156<br>host_id :14708<br>vr :nan kpc/h/Gyr<br>vt :0.00e+00 kpc/h/Gyr<br>tcr_idx :40<br>tcr_sparta_idx :157<br>born_in_halo :born outside<br>",
          "host_radius :1.31e+01 kpc/h<br>host_mass :1.63e+11 SM/h<br>host_idx :156<br>host_id :16561<br>vr :nan kpc/h/Gyr<br>vt :0.00e+00 kpc/h/Gyr<br>tcr_idx :40<br>tcr_sparta_idx :157<br>born_in_halo :born outside<br>",
          "host_radius :1.37e+01 kpc/h<br>host_mass :1.63e+11 SM/h<br>host_idx :156<br>host_id :18535<br>vr :nan kpc/h/Gyr<br>vt :0.00e+00 kpc/h/Gyr<br>tcr_idx :40<br>tcr_sparta_idx :157<br>born_in_halo :born outside<br>",
          "host_radius :1.43e+01 kpc/h<br>host_mass :1.63e+11 SM/h<br>host_idx :156<br>host_id :20660<br>vr :-6.10e+01 kpc/h/Gyr<br>vt :3.89e+01 kpc/h/Gyr<br>tcr_idx :40<br>tcr_sparta_idx :157<br>born_in_halo :born outside<br>",
          "host_radius :1.08e+01 kpc/h<br>host_mass :1.63e+11 SM/h<br>host_idx :156<br>host_id :22969<br>vr :-1.33e+02 kpc/h/Gyr<br>vt :2.27e+01 kpc/h/Gyr<br>tcr_idx :40<br>tcr_sparta_idx :157<br>born_in_halo :born outside<br>",
          "host_radius :1.61e+01 kpc/h<br>host_mass :1.63e+11 SM/h<br>host_idx :156<br>host_id :25509<br>vr :-1.07e+02 kpc/h/Gyr<br>vt :4.21e+01 kpc/h/Gyr<br>tcr_idx :40<br>tcr_sparta_idx :157<br>born_in_halo :born outside<br>",
          "host_radius :1.65e+01 kpc/h<br>host_mass :1.63e+11 SM/h<br>host_idx :156<br>host_id :28224<br>vr :-1.10e+02 kpc/h/Gyr<br>vt :4.95e+01 kpc/h/Gyr<br>tcr_idx :40<br>tcr_sparta_idx :157<br>born_in_halo :born outside<br>",
          "host_radius :1.72e+01 kpc/h<br>host_mass :1.63e+11 SM/h<br>host_idx :156<br>host_id :31159<br>vr :-1.13e+02 kpc/h/Gyr<br>vt :5.13e+01 kpc/h/Gyr<br>tcr_idx :40<br>tcr_sparta_idx :157<br>born_in_halo :born outside<br>",
          "host_radius :1.78e+01 kpc/h<br>host_mass :1.63e+11 SM/h<br>host_idx :156<br>host_id :34347<br>vr :-1.16e+02 kpc/h/Gyr<br>vt :4.66e+01 kpc/h/Gyr<br>tcr_idx :40<br>tcr_sparta_idx :157<br>born_in_halo :born outside<br>",
          "host_radius :1.83e+01 kpc/h<br>host_mass :1.63e+11 SM/h<br>host_idx :156<br>host_id :37735<br>vr :-1.29e+02 kpc/h/Gyr<br>vt :4.81e+01 kpc/h/Gyr<br>tcr_idx :40<br>tcr_sparta_idx :157<br>born_in_halo :born outside<br>",
          "host_radius :1.87e+01 kpc/h<br>host_mass :1.63e+11 SM/h<br>host_idx :156<br>host_id :41354<br>vr :-1.40e+02 kpc/h/Gyr<br>vt :5.73e+01 kpc/h/Gyr<br>tcr_idx :40<br>tcr_sparta_idx :157<br>born_in_halo :born outside<br>",
          "host_radius :1.94e+01 kpc/h<br>host_mass :1.63e+11 SM/h<br>host_idx :156<br>host_id :45210<br>vr :-1.40e+02 kpc/h/Gyr<br>vt :8.54e+01 kpc/h/Gyr<br>tcr_idx :40<br>tcr_sparta_idx :157<br>born_in_halo :born outside<br>",
          "host_radius :1.99e+01 kpc/h<br>host_mass :1.63e+11 SM/h<br>host_idx :156<br>host_id :49274<br>vr :-1.51e+02 kpc/h/Gyr<br>vt :9.85e+01 kpc/h/Gyr<br>tcr_idx :40<br>tcr_sparta_idx :157<br>born_in_halo :born outside<br>",
          "host_radius :2.05e+01 kpc/h<br>host_mass :1.63e+11 SM/h<br>host_idx :156<br>host_id :53649<br>vr :9.13e+00 kpc/h/Gyr<br>vt :9.72e+01 kpc/h/Gyr<br>tcr_idx :40<br>tcr_sparta_idx :157<br>born_in_halo :born outside<br>",
          "host_radius :2.18e+01 kpc/h<br>host_mass :1.63e+11 SM/h<br>host_idx :156<br>host_id :58333<br>vr :-1.12e+01 kpc/h/Gyr<br>vt :9.99e+01 kpc/h/Gyr<br>tcr_idx :40<br>tcr_sparta_idx :157<br>born_in_halo :born outside<br>"
         ],
         "mode": "lines+markers",
         "name": "6704",
         "type": "scatter",
         "x": [
          6.8827056884765625,
          6.784523963928223,
          6.687576770782471,
          6.592438220977783,
          6.49793815612793,
          6.404116630554199,
          6.312079906463623,
          6.221259593963623,
          6.131649971008301,
          6.042749404907227,
          5.955070495605469,
          5.868603229522705,
          5.782879829406738,
          5.698821067810059,
          5.615506649017334
         ],
         "y": [
          1.4174977255498071,
          1.337733532576845,
          1.0963401399601795,
          0.9478130423217557,
          5.121702697105351,
          3.002241863891951,
          2.588299656451428,
          2.321844637456356,
          2.094486113161614,
          1.9922396685143,
          1.8270023465568168,
          1.5868580452676417,
          1.4444073086667895,
          0.24226626366197435,
          0.20663572807490158
         ]
        },
        {
         "hoverinfo": "text",
         "hovertext": [
          "host_radius :1.07e+01 kpc/h<br>host_mass :4.99e+10 SM/h<br>host_idx :171<br>host_id :15986<br>vr :nan kpc/h/Gyr<br>vt :0.00e+00 kpc/h/Gyr<br>tcr_idx :45<br>tcr_sparta_idx :1289<br>born_in_halo :born outside<br>",
          "host_radius :1.08e+01 kpc/h<br>host_mass :4.99e+10 SM/h<br>host_idx :171<br>host_id :17907<br>vr :2.66e+01 kpc/h/Gyr<br>vt :2.68e+01 kpc/h/Gyr<br>tcr_idx :45<br>tcr_sparta_idx :1289<br>born_in_halo :born outside<br>",
          "host_radius :1.09e+01 kpc/h<br>host_mass :4.99e+10 SM/h<br>host_idx :171<br>host_id :19979<br>vr :7.66e+00 kpc/h/Gyr<br>vt :2.53e+01 kpc/h/Gyr<br>tcr_idx :45<br>tcr_sparta_idx :1289<br>born_in_halo :born outside<br>",
          "host_radius :1.12e+01 kpc/h<br>host_mass :4.99e+10 SM/h<br>host_idx :171<br>host_id :22236<br>vr :2.28e+01 kpc/h/Gyr<br>vt :1.67e+00 kpc/h/Gyr<br>tcr_idx :45<br>tcr_sparta_idx :1289<br>born_in_halo :born outside<br>",
          "host_radius :1.14e+01 kpc/h<br>host_mass :4.99e+10 SM/h<br>host_idx :171<br>host_id :24699<br>vr :2.55e+00 kpc/h/Gyr<br>vt :1.30e+00 kpc/h/Gyr<br>tcr_idx :45<br>tcr_sparta_idx :1289<br>born_in_halo :born outside<br>",
          "host_radius :1.16e+01 kpc/h<br>host_mass :4.99e+10 SM/h<br>host_idx :171<br>host_id :27353<br>vr :-2.74e+01 kpc/h/Gyr<br>vt :3.42e+01 kpc/h/Gyr<br>tcr_idx :45<br>tcr_sparta_idx :1289<br>born_in_halo :born outside<br>",
          "host_radius :1.11e+01 kpc/h<br>host_mass :4.99e+10 SM/h<br>host_idx :171<br>host_id :30221<br>vr :-3.85e+01 kpc/h/Gyr<br>vt :2.90e+01 kpc/h/Gyr<br>tcr_idx :45<br>tcr_sparta_idx :1289<br>born_in_halo :born outside<br>",
          "host_radius :1.14e+01 kpc/h<br>host_mass :4.99e+10 SM/h<br>host_idx :171<br>host_id :33318<br>vr :-5.02e+00 kpc/h/Gyr<br>vt :4.66e+00 kpc/h/Gyr<br>tcr_idx :45<br>tcr_sparta_idx :1289<br>born_in_halo :born outside<br>",
          "host_radius :8.46e+00 kpc/h<br>host_mass :4.99e+10 SM/h<br>host_idx :171<br>host_id :36635<br>vr :-2.41e+01 kpc/h/Gyr<br>vt :5.70e+01 kpc/h/Gyr<br>tcr_idx :45<br>tcr_sparta_idx :1289<br>born_in_halo :born outside<br>",
          "host_radius :8.40e+00 kpc/h<br>host_mass :4.99e+10 SM/h<br>host_idx :171<br>host_id :40155<br>vr :-5.00e+01 kpc/h/Gyr<br>vt :4.00e+01 kpc/h/Gyr<br>tcr_idx :45<br>tcr_sparta_idx :1289<br>born_in_halo :born outside<br>",
          "host_radius :8.40e+00 kpc/h<br>host_mass :4.99e+10 SM/h<br>host_idx :171<br>host_id :43927<br>vr :-5.50e+01 kpc/h/Gyr<br>vt :4.50e+01 kpc/h/Gyr<br>tcr_idx :45<br>tcr_sparta_idx :1289<br>born_in_halo :born outside<br>",
          "host_radius :9.31e+00 kpc/h<br>host_mass :4.99e+10 SM/h<br>host_idx :171<br>host_id :47910<br>vr :-6.37e+01 kpc/h/Gyr<br>vt :4.04e+01 kpc/h/Gyr<br>tcr_idx :45<br>tcr_sparta_idx :1289<br>born_in_halo :born outside<br>",
          "host_radius :1.13e+01 kpc/h<br>host_mass :4.99e+10 SM/h<br>host_idx :171<br>host_id :52183<br>vr :-6.25e+01 kpc/h/Gyr<br>vt :3.97e+01 kpc/h/Gyr<br>tcr_idx :45<br>tcr_sparta_idx :1289<br>born_in_halo :born outside<br>",
          "host_radius :1.12e+01 kpc/h<br>host_mass :4.99e+10 SM/h<br>host_idx :171<br>host_id :56742<br>vr :-4.75e+01 kpc/h/Gyr<br>vt :4.52e+01 kpc/h/Gyr<br>tcr_idx :45<br>tcr_sparta_idx :1289<br>born_in_halo :born outside<br>",
          "host_radius :1.34e+01 kpc/h<br>host_mass :4.99e+10 SM/h<br>host_idx :171<br>host_id :61649<br>vr :-8.50e+01 kpc/h/Gyr<br>vt :5.36e+01 kpc/h/Gyr<br>tcr_idx :45<br>tcr_sparta_idx :1289<br>born_in_halo :born outside<br>",
          "host_radius :1.43e+01 kpc/h<br>host_mass :4.99e+10 SM/h<br>host_idx :171<br>host_id :66858<br>vr :-7.09e+01 kpc/h/Gyr<br>vt :6.91e+01 kpc/h/Gyr<br>tcr_idx :45<br>tcr_sparta_idx :1289<br>born_in_halo :born outside<br>"
         ],
         "mode": "lines+markers",
         "name": "15985",
         "type": "scatter",
         "x": [
          6.784523963928223,
          6.687576770782471,
          6.592438220977783,
          6.49793815612793,
          6.404116630554199,
          6.312079906463623,
          6.221259593963623,
          6.131649971008301,
          6.042749404907227,
          5.955070495605469,
          5.868603229522705,
          5.782879829406738,
          5.698821067810059,
          5.615506649017334,
          5.532958507537842,
          5.451612949371338
         ],
         "y": [
          2.90887054057095,
          0.377609022833768,
          0.4009903711649454,
          0.06711282706092117,
          0.08565512262964177,
          3.1394630971963156,
          2.9624820751203487,
          0.3349977350941456,
          1.8021352180849626,
          4.060267939962622,
          4.199365677791442,
          3.665325710900316,
          2.983370866848426,
          1.6909262398186082,
          2.3931492150230884,
          1.8746888779852737
         ]
        },
        {
         "hoverinfo": "text",
         "hovertext": [
          "host_radius :1.00e+01 kpc/h<br>host_mass :2.77e+10 SM/h<br>host_idx :181<br>host_id :31522<br>vr :-1.71e+01 kpc/h/Gyr<br>vt :7.98e+00 kpc/h/Gyr<br>tcr_idx :47<br>tcr_sparta_idx :36727<br>born_in_halo :born inside<br>",
          "host_radius :1.02e+01 kpc/h<br>host_mass :2.77e+10 SM/h<br>host_idx :181<br>host_id :34737<br>vr :-1.57e+01 kpc/h/Gyr<br>vt :8.34e+00 kpc/h/Gyr<br>tcr_idx :47<br>tcr_sparta_idx :36727<br>born_in_halo :born inside<br>",
          "host_radius :1.06e+01 kpc/h<br>host_mass :2.77e+10 SM/h<br>host_idx :181<br>host_id :38149<br>vr :-3.87e+01 kpc/h/Gyr<br>vt :1.31e+02 kpc/h/Gyr<br>tcr_idx :47<br>tcr_sparta_idx :36727<br>born_in_halo :born inside<br>",
          "host_radius :8.78e+00 kpc/h<br>host_mass :2.77e+10 SM/h<br>host_idx :181<br>host_id :41785<br>vr :9.37e+00 kpc/h/Gyr<br>vt :2.60e+01 kpc/h/Gyr<br>tcr_idx :47<br>tcr_sparta_idx :36727<br>born_in_halo :born inside<br>",
          "host_radius :1.08e+01 kpc/h<br>host_mass :2.77e+10 SM/h<br>host_idx :181<br>host_id :45664<br>vr :-5.63e+01 kpc/h/Gyr<br>vt :9.51e+01 kpc/h/Gyr<br>tcr_idx :47<br>tcr_sparta_idx :36727<br>born_in_halo :born inside<br>",
          "host_radius :1.28e+01 kpc/h<br>host_mass :2.77e+10 SM/h<br>host_idx :181<br>host_id :49757<br>vr :-5.57e+01 kpc/h/Gyr<br>vt :1.06e+02 kpc/h/Gyr<br>tcr_idx :47<br>tcr_sparta_idx :36727<br>born_in_halo :born inside<br>",
          "host_radius :1.41e+01 kpc/h<br>host_mass :2.77e+10 SM/h<br>host_idx :181<br>host_id :54160<br>vr :-5.06e+01 kpc/h/Gyr<br>vt :1.23e+02 kpc/h/Gyr<br>tcr_idx :47<br>tcr_sparta_idx :36727<br>born_in_halo :born inside<br>",
          "host_radius :1.16e+01 kpc/h<br>host_mass :2.77e+10 SM/h<br>host_idx :181<br>host_id :58870<br>vr :-4.42e+01 kpc/h/Gyr<br>vt :1.09e+02 kpc/h/Gyr<br>tcr_idx :47<br>tcr_sparta_idx :36727<br>born_in_halo :born inside<br>"
         ],
         "mode": "lines+markers",
         "name": "28554",
         "type": "scatter",
         "x": [
          6.221259593963623,
          6.131649971008301,
          6.042749404907227,
          5.955070495605469,
          5.868603229522705,
          5.782879829406738,
          5.698821067810059,
          5.615506649017334
         ],
         "y": [
          0.2104867343978102,
          0.1694059288292718,
          4.561479343027359,
          7.417129628321845,
          2.356966577439106,
          1.9776718380102654,
          1.6171314075805643,
          1.63047204731344
         ]
        },
        {
         "hoverinfo": "text",
         "hovertext": [
          "host_radius :1.10e+01 kpc/h<br>host_mass :3.49e+10 SM/h<br>host_idx :220<br>host_id :44855<br>vr :6.35e+00 kpc/h/Gyr<br>vt :7.26e+00 kpc/h/Gyr<br>tcr_idx :55<br>tcr_sparta_idx :4011<br>born_in_halo :born inside<br>",
          "host_radius :1.13e+01 kpc/h<br>host_mass :3.49e+10 SM/h<br>host_idx :220<br>host_id :48899<br>vr :-5.96e+00 kpc/h/Gyr<br>vt :6.61e+01 kpc/h/Gyr<br>tcr_idx :55<br>tcr_sparta_idx :4011<br>born_in_halo :born inside<br>",
          "host_radius :1.17e+01 kpc/h<br>host_mass :3.49e+10 SM/h<br>host_idx :220<br>host_id :53243<br>vr :-6.42e+00 kpc/h/Gyr<br>vt :6.68e+01 kpc/h/Gyr<br>tcr_idx :55<br>tcr_sparta_idx :4011<br>born_in_halo :born inside<br>",
          "host_radius :1.20e+01 kpc/h<br>host_mass :3.49e+10 SM/h<br>host_idx :220<br>host_id :57893<br>vr :-9.83e+00 kpc/h/Gyr<br>vt :6.84e+01 kpc/h/Gyr<br>tcr_idx :55<br>tcr_sparta_idx :4011<br>born_in_halo :born inside<br>",
          "host_radius :1.24e+01 kpc/h<br>host_mass :3.49e+10 SM/h<br>host_idx :220<br>host_id :62872<br>vr :6.65e-01 kpc/h/Gyr<br>vt :9.37e+01 kpc/h/Gyr<br>tcr_idx :55<br>tcr_sparta_idx :4011<br>born_in_halo :born inside<br>",
          "host_radius :1.26e+01 kpc/h<br>host_mass :3.49e+10 SM/h<br>host_idx :220<br>host_id :68160<br>vr :-1.71e+01 kpc/h/Gyr<br>vt :3.46e+01 kpc/h/Gyr<br>tcr_idx :55<br>tcr_sparta_idx :4011<br>born_in_halo :born inside<br>",
          "host_radius :1.28e+01 kpc/h<br>host_mass :3.49e+10 SM/h<br>host_idx :220<br>host_id :73717<br>vr :-1.73e+01 kpc/h/Gyr<br>vt :3.57e+01 kpc/h/Gyr<br>tcr_idx :55<br>tcr_sparta_idx :4011<br>born_in_halo :born inside<br>",
          "host_radius :1.30e+01 kpc/h<br>host_mass :3.49e+10 SM/h<br>host_idx :220<br>host_id :79567<br>vr :-8.63e+01 kpc/h/Gyr<br>vt :6.99e+01 kpc/h/Gyr<br>tcr_idx :55<br>tcr_sparta_idx :4011<br>born_in_halo :born inside<br>"
         ],
         "mode": "lines+markers",
         "name": "44852",
         "type": "scatter",
         "x": [
          5.868603229522705,
          5.782879829406738,
          5.698821067810059,
          5.615506649017334,
          5.532958507537842,
          5.451612949371338,
          5.371456146240234,
          5.292078018188477
         ],
         "y": [
          0.9045886006934,
          10.223565981859583,
          9.885330173649573,
          9.280854228763875,
          9.148723071681745,
          6.828450313352031,
          6.711809509108164,
          3.6059429570146238
         ]
        },
        {
         "hoverinfo": "text",
         "hovertext": [
          "host_radius :9.46e+00 kpc/h<br>host_mass :1.44e+10 SM/h<br>host_idx :262<br>host_id :24913<br>vr :-2.10e+01 kpc/h/Gyr<br>vt :1.08e+01 kpc/h/Gyr<br>tcr_idx :66<br>tcr_sparta_idx :29895<br>born_in_halo :born inside<br>",
          "host_radius :9.73e+00 kpc/h<br>host_mass :1.44e+10 SM/h<br>host_idx :262<br>host_id :27586<br>vr :1.48e+01 kpc/h/Gyr<br>vt :7.81e+00 kpc/h/Gyr<br>tcr_idx :66<br>tcr_sparta_idx :29895<br>born_in_halo :born inside<br>",
          "host_radius :9.97e+00 kpc/h<br>host_mass :1.44e+10 SM/h<br>host_idx :262<br>host_id :30473<br>vr :-5.20e+00 kpc/h/Gyr<br>vt :7.12e+00 kpc/h/Gyr<br>tcr_idx :66<br>tcr_sparta_idx :29895<br>born_in_halo :born inside<br>",
          "host_radius :1.02e+01 kpc/h<br>host_mass :1.44e+10 SM/h<br>host_idx :262<br>host_id :33591<br>vr :-1.81e+00 kpc/h/Gyr<br>vt :6.77e+01 kpc/h/Gyr<br>tcr_idx :66<br>tcr_sparta_idx :29895<br>born_in_halo :born inside<br>",
          "host_radius :1.04e+01 kpc/h<br>host_mass :1.44e+10 SM/h<br>host_idx :262<br>host_id :36924<br>vr :-7.56e+00 kpc/h/Gyr<br>vt :5.96e+00 kpc/h/Gyr<br>tcr_idx :66<br>tcr_sparta_idx :29895<br>born_in_halo :born inside<br>",
          "host_radius :9.66e+00 kpc/h<br>host_mass :1.44e+10 SM/h<br>host_idx :262<br>host_id :40465<br>vr :-3.59e+01 kpc/h/Gyr<br>vt :8.96e+00 kpc/h/Gyr<br>tcr_idx :66<br>tcr_sparta_idx :29895<br>born_in_halo :born inside<br>",
          "host_radius :1.08e+01 kpc/h<br>host_mass :1.44e+10 SM/h<br>host_idx :262<br>host_id :44263<br>vr :-3.99e+01 kpc/h/Gyr<br>vt :3.32e+01 kpc/h/Gyr<br>tcr_idx :66<br>tcr_sparta_idx :29895<br>born_in_halo :born inside<br>",
          "host_radius :1.31e+01 kpc/h<br>host_mass :1.44e+10 SM/h<br>host_idx :262<br>host_id :48269<br>vr :-5.37e+01 kpc/h/Gyr<br>vt :3.56e+01 kpc/h/Gyr<br>tcr_idx :66<br>tcr_sparta_idx :29895<br>born_in_halo :born inside<br>",
          "host_radius :1.40e+01 kpc/h<br>host_mass :1.44e+10 SM/h<br>host_idx :262<br>host_id :52571<br>vr :-5.52e+01 kpc/h/Gyr<br>vt :3.62e+01 kpc/h/Gyr<br>tcr_idx :66<br>tcr_sparta_idx :29895<br>born_in_halo :born inside<br>",
          "host_radius :1.26e+01 kpc/h<br>host_mass :1.44e+10 SM/h<br>host_idx :262<br>host_id :57166<br>vr :-6.31e+01 kpc/h/Gyr<br>vt :3.56e+01 kpc/h/Gyr<br>tcr_idx :66<br>tcr_sparta_idx :29895<br>born_in_halo :born inside<br>",
          "host_radius :1.31e+01 kpc/h<br>host_mass :1.44e+10 SM/h<br>host_idx :262<br>host_id :62099<br>vr :-6.82e+01 kpc/h/Gyr<br>vt :4.47e+01 kpc/h/Gyr<br>tcr_idx :66<br>tcr_sparta_idx :29895<br>born_in_halo :born inside<br>",
          "host_radius :1.29e+01 kpc/h<br>host_mass :1.44e+10 SM/h<br>host_idx :262<br>host_id :67339<br>vr :-6.51e+01 kpc/h/Gyr<br>vt :4.88e+01 kpc/h/Gyr<br>tcr_idx :66<br>tcr_sparta_idx :29895<br>born_in_halo :born inside<br>",
          "host_radius :1.30e+01 kpc/h<br>host_mass :1.44e+10 SM/h<br>host_idx :262<br>host_id :72848<br>vr :-7.27e+01 kpc/h/Gyr<br>vt :4.68e+01 kpc/h/Gyr<br>tcr_idx :66<br>tcr_sparta_idx :29895<br>born_in_halo :born inside<br>",
          "host_radius :1.34e+01 kpc/h<br>host_mass :1.44e+10 SM/h<br>host_idx :262<br>host_id :78661<br>vr :-6.80e+01 kpc/h/Gyr<br>vt :4.74e+01 kpc/h/Gyr<br>tcr_idx :66<br>tcr_sparta_idx :29895<br>born_in_halo :born inside<br>",
          "host_radius :1.36e+01 kpc/h<br>host_mass :1.44e+10 SM/h<br>host_idx :262<br>host_id :84767<br>vr :-7.07e+01 kpc/h/Gyr<br>vt :5.05e+01 kpc/h/Gyr<br>tcr_idx :66<br>tcr_sparta_idx :29895<br>born_in_halo :born inside<br>"
         ],
         "mode": "lines+markers",
         "name": "20166",
         "type": "scatter",
         "x": [
          6.404116630554199,
          6.312079906463623,
          6.221259593963623,
          6.131649971008301,
          6.042749404907227,
          5.955070495605469,
          5.868603229522705,
          5.782879829406738,
          5.698821067810059,
          5.615506649017334,
          5.532958507537842,
          5.451612949371338,
          5.371456146240234,
          5.292078018188477,
          5.213881969451904
         ],
         "y": [
          0.14210395629487005,
          0.09067047748295054,
          0.09801458041721642,
          4.879468671609931,
          0.1313139247742083,
          2.80543256153495,
          2.476520869500589,
          2.1624585341664533,
          2.0163472800524085,
          2.1901403503160988,
          1.9938057593697531,
          2.089886812682005,
          1.8884748874882469,
          1.6153809560840768,
          1.545720605569295
         ]
        },
        {
         "hoverinfo": "text",
         "hovertext": [
          "host_radius :6.25e+00 kpc/h<br>host_mass :1.05e+11 SM/h<br>host_idx :314<br>host_id :11404<br>vr :nan kpc/h/Gyr<br>vt :0.00e+00 kpc/h/Gyr<br>tcr_idx :74<br>tcr_sparta_idx :32337<br>born_in_halo :born outside<br>",
          "host_radius :6.65e+00 kpc/h<br>host_mass :1.05e+11 SM/h<br>host_idx :314<br>host_id :12912<br>vr :nan kpc/h/Gyr<br>vt :0.00e+00 kpc/h/Gyr<br>tcr_idx :74<br>tcr_sparta_idx :32337<br>born_in_halo :born outside<br>",
          "host_radius :6.88e+00 kpc/h<br>host_mass :1.05e+11 SM/h<br>host_idx :314<br>host_id :14527<br>vr :1.94e+01 kpc/h/Gyr<br>vt :1.15e+01 kpc/h/Gyr<br>tcr_idx :74<br>tcr_sparta_idx :32337<br>born_in_halo :born outside<br>",
          "host_radius :7.12e+00 kpc/h<br>host_mass :1.05e+11 SM/h<br>host_idx :314<br>host_id :16358<br>vr :1.84e+01 kpc/h/Gyr<br>vt :7.40e-01 kpc/h/Gyr<br>tcr_idx :74<br>tcr_sparta_idx :32337<br>born_in_halo :born outside<br>",
          "host_radius :7.35e+00 kpc/h<br>host_mass :1.05e+11 SM/h<br>host_idx :314<br>host_id :18314<br>vr :2.35e+00 kpc/h/Gyr<br>vt :2.24e+00 kpc/h/Gyr<br>tcr_idx :74<br>tcr_sparta_idx :32337<br>born_in_halo :born outside<br>",
          "host_radius :7.54e+00 kpc/h<br>host_mass :1.05e+11 SM/h<br>host_idx :314<br>host_id :20421<br>vr :-2.57e+01 kpc/h/Gyr<br>vt :7.11e+01 kpc/h/Gyr<br>tcr_idx :74<br>tcr_sparta_idx :32337<br>born_in_halo :born outside<br>",
          "host_radius :7.35e+00 kpc/h<br>host_mass :1.05e+11 SM/h<br>host_idx :314<br>host_id :22707<br>vr :-2.42e+01 kpc/h/Gyr<br>vt :7.17e+01 kpc/h/Gyr<br>tcr_idx :74<br>tcr_sparta_idx :32337<br>born_in_halo :born outside<br>",
          "host_radius :8.47e+00 kpc/h<br>host_mass :1.05e+11 SM/h<br>host_idx :314<br>host_id :25213<br>vr :-2.95e+01 kpc/h/Gyr<br>vt :2.51e+01 kpc/h/Gyr<br>tcr_idx :74<br>tcr_sparta_idx :32337<br>born_in_halo :born outside<br>",
          "host_radius :8.83e+00 kpc/h<br>host_mass :1.05e+11 SM/h<br>host_idx :314<br>host_id :27910<br>vr :-1.84e+01 kpc/h/Gyr<br>vt :6.73e+01 kpc/h/Gyr<br>tcr_idx :74<br>tcr_sparta_idx :32337<br>born_in_halo :born outside<br>",
          "host_radius :9.20e+00 kpc/h<br>host_mass :1.05e+11 SM/h<br>host_idx :314<br>host_id :30817<br>vr :-3.68e+01 kpc/h/Gyr<br>vt :6.97e+01 kpc/h/Gyr<br>tcr_idx :74<br>tcr_sparta_idx :32337<br>born_in_halo :born outside<br>",
          "host_radius :9.69e+00 kpc/h<br>host_mass :1.05e+11 SM/h<br>host_idx :314<br>host_id :33972<br>vr :-6.15e+00 kpc/h/Gyr<br>vt :6.38e+01 kpc/h/Gyr<br>tcr_idx :74<br>tcr_sparta_idx :32337<br>born_in_halo :born outside<br>",
          "host_radius :1.01e+01 kpc/h<br>host_mass :1.05e+11 SM/h<br>host_idx :314<br>host_id :37329<br>vr :-3.40e+01 kpc/h/Gyr<br>vt :8.25e+01 kpc/h/Gyr<br>tcr_idx :74<br>tcr_sparta_idx :32337<br>born_in_halo :born outside<br>",
          "host_radius :1.06e+01 kpc/h<br>host_mass :1.05e+11 SM/h<br>host_idx :314<br>host_id :40911<br>vr :-4.41e+01 kpc/h/Gyr<br>vt :7.91e+01 kpc/h/Gyr<br>tcr_idx :74<br>tcr_sparta_idx :32337<br>born_in_halo :born outside<br>",
          "host_radius :1.10e+01 kpc/h<br>host_mass :1.05e+11 SM/h<br>host_idx :314<br>host_id :44739<br>vr :-3.20e+01 kpc/h/Gyr<br>vt :6.18e+01 kpc/h/Gyr<br>tcr_idx :74<br>tcr_sparta_idx :32337<br>born_in_halo :born outside<br>",
          "host_radius :1.14e+01 kpc/h<br>host_mass :1.05e+11 SM/h<br>host_idx :314<br>host_id :48776<br>vr :-4.75e+01 kpc/h/Gyr<br>vt :7.44e+01 kpc/h/Gyr<br>tcr_idx :74<br>tcr_sparta_idx :32337<br>born_in_halo :born outside<br>",
          "host_radius :1.23e+01 kpc/h<br>host_mass :1.05e+11 SM/h<br>host_idx :314<br>host_id :53114<br>vr :-4.24e+01 kpc/h/Gyr<br>vt :7.11e+01 kpc/h/Gyr<br>tcr_idx :74<br>tcr_sparta_idx :32337<br>born_in_halo :born outside<br>"
         ],
         "mode": "lines+markers",
         "name": "11403",
         "type": "scatter",
         "x": [
          7.082767486572266,
          6.982120513916016,
          6.8827056884765625,
          6.784523963928223,
          6.687576770782471,
          6.592438220977783,
          6.49793815612793,
          6.404116630554199,
          6.312079906463623,
          6.221259593963623,
          6.131649971008301,
          6.042749404907227,
          5.955070495605469,
          5.868603229522705,
          5.782879829406738,
          5.698821067810059
         ],
         "y": [
          9.74937287771186,
          0.46012403699991944,
          0.41639828365087345,
          0.41800370970083955,
          0.41499985863700656,
          5.879908207308253,
          5.9580686673581,
          8.115116964847674,
          3.469438158710645,
          4.1921089274087615,
          3.000022340556091,
          4.08403706224665,
          4.00724712402955,
          3.4725667378908875,
          3.5254593812822557,
          3.0636518925930933
         ]
        },
        {
         "hoverinfo": "text",
         "hovertext": [
          "host_radius :1.06e+01 kpc/h<br>host_mass :1.05e+11 SM/h<br>host_idx :314<br>host_id :40911<br>vr :-7.46e+00 kpc/h/Gyr<br>vt :1.85e+01 kpc/h/Gyr<br>tcr_idx :76<br>tcr_sparta_idx :3383<br>born_in_halo :born inside<br>",
          "host_radius :1.10e+01 kpc/h<br>host_mass :1.05e+11 SM/h<br>host_idx :314<br>host_id :44739<br>vr :-7.51e+00 kpc/h/Gyr<br>vt :3.21e+01 kpc/h/Gyr<br>tcr_idx :76<br>tcr_sparta_idx :3383<br>born_in_halo :born inside<br>",
          "host_radius :1.14e+01 kpc/h<br>host_mass :1.05e+11 SM/h<br>host_idx :314<br>host_id :48776<br>vr :-8.41e+00 kpc/h/Gyr<br>vt :3.24e+01 kpc/h/Gyr<br>tcr_idx :76<br>tcr_sparta_idx :3383<br>born_in_halo :born inside<br>",
          "host_radius :1.23e+01 kpc/h<br>host_mass :1.05e+11 SM/h<br>host_idx :314<br>host_id :53114<br>vr :-3.15e+00 kpc/h/Gyr<br>vt :2.47e+01 kpc/h/Gyr<br>tcr_idx :76<br>tcr_sparta_idx :3383<br>born_in_halo :born inside<br>"
         ],
         "mode": "lines+markers",
         "name": "40913",
         "type": "scatter",
         "x": [
          5.955070495605469,
          5.868603229522705,
          5.782879829406738,
          5.698821067810059
         ],
         "y": [
          0.09158506612622434,
          9.160530259740911,
          8.813030072153902,
          8.003476767499052
         ]
        },
        {
         "hoverinfo": "text",
         "hovertext": [
          "host_radius :9.07e+00 kpc/h<br>host_mass :6.76e+10 SM/h<br>host_idx :324<br>host_id :11479<br>vr :-1.36e+00 kpc/h/Gyr<br>vt :7.86e+00 kpc/h/Gyr<br>tcr_idx :78<br>tcr_sparta_idx :34<br>born_in_halo :born inside<br>",
          "host_radius :9.20e+00 kpc/h<br>host_mass :6.76e+10 SM/h<br>host_idx :324<br>host_id :12993<br>vr :-1.95e+01 kpc/h/Gyr<br>vt :8.17e+01 kpc/h/Gyr<br>tcr_idx :78<br>tcr_sparta_idx :34<br>born_in_halo :born inside<br>",
          "host_radius :9.37e+00 kpc/h<br>host_mass :6.76e+10 SM/h<br>host_idx :324<br>host_id :14615<br>vr :-1.05e+01 kpc/h/Gyr<br>vt :8.72e+01 kpc/h/Gyr<br>tcr_idx :78<br>tcr_sparta_idx :34<br>born_in_halo :born inside<br>",
          "host_radius :9.60e+00 kpc/h<br>host_mass :6.76e+10 SM/h<br>host_idx :324<br>host_id :16453<br>vr :1.07e+00 kpc/h/Gyr<br>vt :9.43e+01 kpc/h/Gyr<br>tcr_idx :78<br>tcr_sparta_idx :34<br>born_in_halo :born inside<br>",
          "host_radius :9.69e+00 kpc/h<br>host_mass :6.76e+10 SM/h<br>host_idx :324<br>host_id :18418<br>vr :1.02e+01 kpc/h/Gyr<br>vt :1.01e+02 kpc/h/Gyr<br>tcr_idx :78<br>tcr_sparta_idx :34<br>born_in_halo :born inside<br>",
          "host_radius :9.93e+00 kpc/h<br>host_mass :6.76e+10 SM/h<br>host_idx :324<br>host_id :20535<br>vr :3.89e+01 kpc/h/Gyr<br>vt :8.47e+01 kpc/h/Gyr<br>tcr_idx :78<br>tcr_sparta_idx :34<br>born_in_halo :born inside<br>"
         ],
         "mode": "lines+markers",
         "name": "11478",
         "type": "scatter",
         "x": [
          7.082767486572266,
          6.982120513916016,
          6.8827056884765625,
          6.784523963928223,
          6.687576770782471,
          6.592438220977783
         ],
         "y": [
          0.19958800967353654,
          5.558973948796074,
          5.43463575377989,
          5.309522236861774,
          5.264987740524299,
          4.702187557746351
         ]
        },
        {
         "hoverinfo": "text",
         "hovertext": [
          "host_radius :6.37e+00 kpc/h<br>host_mass :2.58e+10 SM/h<br>host_idx :331<br>host_id :64591<br>vr :2.07e-01 kpc/h/Gyr<br>vt :2.62e+00 kpc/h/Gyr<br>tcr_idx :80<br>tcr_sparta_idx :7139<br>born_in_halo :born inside<br>",
          "host_radius :5.37e+00 kpc/h<br>host_mass :2.58e+10 SM/h<br>host_idx :331<br>host_id :69950<br>vr :-1.68e+01 kpc/h/Gyr<br>vt :5.52e+01 kpc/h/Gyr<br>tcr_idx :80<br>tcr_sparta_idx :7139<br>born_in_halo :born inside<br>",
          "host_radius :7.38e+00 kpc/h<br>host_mass :2.58e+10 SM/h<br>host_idx :331<br>host_id :75585<br>vr :-3.56e+00 kpc/h/Gyr<br>vt :6.27e+00 kpc/h/Gyr<br>tcr_idx :80<br>tcr_sparta_idx :7139<br>born_in_halo :born inside<br>",
          "host_radius :8.56e+00 kpc/h<br>host_mass :2.58e+10 SM/h<br>host_idx :331<br>host_id :81539<br>vr :5.87e+01 kpc/h/Gyr<br>vt :4.09e+01 kpc/h/Gyr<br>tcr_idx :80<br>tcr_sparta_idx :7139<br>born_in_halo :born inside<br>",
          "host_radius :9.48e+00 kpc/h<br>host_mass :2.58e+10 SM/h<br>host_idx :331<br>host_id :87801<br>vr :5.91e+01 kpc/h/Gyr<br>vt :4.05e+01 kpc/h/Gyr<br>tcr_idx :80<br>tcr_sparta_idx :7139<br>born_in_halo :born inside<br>",
          "host_radius :1.03e+01 kpc/h<br>host_mass :2.58e+10 SM/h<br>host_idx :331<br>host_id :94371<br>vr :5.96e+01 kpc/h/Gyr<br>vt :5.20e+01 kpc/h/Gyr<br>tcr_idx :80<br>tcr_sparta_idx :7139<br>born_in_halo :born inside<br>",
          "host_radius :1.23e+01 kpc/h<br>host_mass :2.58e+10 SM/h<br>host_idx :331<br>host_id :101266<br>vr :6.29e+01 kpc/h/Gyr<br>vt :4.80e+01 kpc/h/Gyr<br>tcr_idx :80<br>tcr_sparta_idx :7139<br>born_in_halo :born inside<br>",
          "host_radius :1.25e+01 kpc/h<br>host_mass :2.58e+10 SM/h<br>host_idx :331<br>host_id :108482<br>vr :6.55e+01 kpc/h/Gyr<br>vt :3.78e+01 kpc/h/Gyr<br>tcr_idx :80<br>tcr_sparta_idx :7139<br>born_in_halo :born inside<br>"
         ],
         "mode": "lines+markers",
         "name": "59629",
         "type": "scatter",
         "x": [
          5.451612949371338,
          5.371456146240234,
          5.292078018188477,
          5.213881969451904,
          5.136475563049316,
          5.060238361358643,
          4.984798431396484,
          4.910165309906006
         ],
         "y": [
          0.5100778108120384,
          0.6148614294370827,
          0.3724458535450584,
          8.40151472449539,
          7.722795153961223,
          7.230561175131434,
          5.7749849665642925,
          5.848672339194044
         ]
        },
        {
         "hoverinfo": "text",
         "hovertext": [
          "host_radius :1.11e+01 kpc/h<br>host_mass :2.44e+10 SM/h<br>host_idx :339<br>host_id :35968<br>vr :nan kpc/h/Gyr<br>vt :0.00e+00 kpc/h/Gyr<br>tcr_idx :82<br>tcr_sparta_idx :4358<br>born_in_halo :born outside<br>",
          "host_radius :1.15e+01 kpc/h<br>host_mass :2.44e+10 SM/h<br>host_idx :339<br>host_id :39445<br>vr :8.47e+00 kpc/h/Gyr<br>vt :1.22e+01 kpc/h/Gyr<br>tcr_idx :82<br>tcr_sparta_idx :4358<br>born_in_halo :born outside<br>",
          "host_radius :1.18e+01 kpc/h<br>host_mass :2.44e+10 SM/h<br>host_idx :339<br>host_id :43162<br>vr :-4.04e+00 kpc/h/Gyr<br>vt :1.22e+01 kpc/h/Gyr<br>tcr_idx :82<br>tcr_sparta_idx :4358<br>born_in_halo :born outside<br>",
          "host_radius :1.14e+01 kpc/h<br>host_mass :2.44e+10 SM/h<br>host_idx :339<br>host_id :47096<br>vr :4.07e+01 kpc/h/Gyr<br>vt :6.99e+01 kpc/h/Gyr<br>tcr_idx :82<br>tcr_sparta_idx :4358<br>born_in_halo :born outside<br>",
          "host_radius :1.20e+01 kpc/h<br>host_mass :2.44e+10 SM/h<br>host_idx :339<br>host_id :51324<br>vr :3.19e+01 kpc/h/Gyr<br>vt :7.89e+01 kpc/h/Gyr<br>tcr_idx :82<br>tcr_sparta_idx :4358<br>born_in_halo :born outside<br>",
          "host_radius :1.18e+01 kpc/h<br>host_mass :2.44e+10 SM/h<br>host_idx :339<br>host_id :55824<br>vr :3.67e+01 kpc/h/Gyr<br>vt :6.86e+01 kpc/h/Gyr<br>tcr_idx :82<br>tcr_sparta_idx :4358<br>born_in_halo :born outside<br>",
          "host_radius :1.31e+01 kpc/h<br>host_mass :2.44e+10 SM/h<br>host_idx :339<br>host_id :60656<br>vr :2.73e+01 kpc/h/Gyr<br>vt :6.95e+01 kpc/h/Gyr<br>tcr_idx :82<br>tcr_sparta_idx :4358<br>born_in_halo :born outside<br>",
          "host_radius :1.39e+01 kpc/h<br>host_mass :2.44e+10 SM/h<br>host_idx :339<br>host_id :65798<br>vr :3.09e+01 kpc/h/Gyr<br>vt :7.29e+01 kpc/h/Gyr<br>tcr_idx :82<br>tcr_sparta_idx :4358<br>born_in_halo :born outside<br>",
          "host_radius :1.39e+01 kpc/h<br>host_mass :2.44e+10 SM/h<br>host_idx :339<br>host_id :71219<br>vr :3.46e+01 kpc/h/Gyr<br>vt :8.29e+01 kpc/h/Gyr<br>tcr_idx :82<br>tcr_sparta_idx :4358<br>born_in_halo :born outside<br>",
          "host_radius :1.45e+01 kpc/h<br>host_mass :2.44e+10 SM/h<br>host_idx :339<br>host_id :76923<br>vr :3.98e+01 kpc/h/Gyr<br>vt :8.45e+01 kpc/h/Gyr<br>tcr_idx :82<br>tcr_sparta_idx :4358<br>born_in_halo :born outside<br>"
         ],
         "mode": "lines+markers",
         "name": "17512",
         "type": "scatter",
         "x": [
          6.042749404907227,
          5.955070495605469,
          5.868603229522705,
          5.782879829406738,
          5.698821067810059,
          5.615506649017334,
          5.532958507537842,
          5.451612949371338,
          5.371456146240234,
          5.292078018188477
         ],
         "y": [
          8.389481775595222,
          0.754093159140794,
          0.742068961041279,
          8.075403909736202,
          7.727822691394458,
          8.53321535266967,
          7.8150220836871815,
          7.43041546958635,
          7.6284686300591105,
          7.302226031443935
         ]
        },
        {
         "hoverinfo": "text",
         "hovertext": [
          "host_radius :1.07e+01 kpc/h<br>host_mass :3.93e+10 SM/h<br>host_idx :356<br>host_id :57511<br>vr :1.95e+00 kpc/h/Gyr<br>vt :9.60e+00 kpc/h/Gyr<br>tcr_idx :84<br>tcr_sparta_idx :1961<br>born_in_halo :born inside<br>",
          "host_radius :1.08e+01 kpc/h<br>host_mass :3.93e+10 SM/h<br>host_idx :356<br>host_id :62476<br>vr :-3.03e+00 kpc/h/Gyr<br>vt :2.53e+01 kpc/h/Gyr<br>tcr_idx :84<br>tcr_sparta_idx :1961<br>born_in_halo :born inside<br>",
          "host_radius :1.10e+01 kpc/h<br>host_mass :3.93e+10 SM/h<br>host_idx :356<br>host_id :67743<br>vr :-3.69e+00 kpc/h/Gyr<br>vt :2.12e+01 kpc/h/Gyr<br>tcr_idx :84<br>tcr_sparta_idx :1961<br>born_in_halo :born inside<br>",
          "host_radius :1.11e+01 kpc/h<br>host_mass :3.93e+10 SM/h<br>host_idx :356<br>host_id :73275<br>vr :-2.52e+00 kpc/h/Gyr<br>vt :1.85e+01 kpc/h/Gyr<br>tcr_idx :84<br>tcr_sparta_idx :1961<br>born_in_halo :born inside<br>",
          "host_radius :1.15e+01 kpc/h<br>host_mass :3.93e+10 SM/h<br>host_idx :356<br>host_id :79106<br>vr :-2.29e+00 kpc/h/Gyr<br>vt :1.39e+01 kpc/h/Gyr<br>tcr_idx :84<br>tcr_sparta_idx :1961<br>born_in_halo :born inside<br>",
          "host_radius :1.19e+01 kpc/h<br>host_mass :3.93e+10 SM/h<br>host_idx :356<br>host_id :85239<br>vr :-1.75e-01 kpc/h/Gyr<br>vt :1.08e+01 kpc/h/Gyr<br>tcr_idx :84<br>tcr_sparta_idx :1961<br>born_in_halo :born inside<br>",
          "host_radius :1.22e+01 kpc/h<br>host_mass :3.93e+10 SM/h<br>host_idx :356<br>host_id :91695<br>vr :2.83e+00 kpc/h/Gyr<br>vt :2.38e+01 kpc/h/Gyr<br>tcr_idx :84<br>tcr_sparta_idx :1961<br>born_in_halo :born inside<br>",
          "host_radius :1.25e+01 kpc/h<br>host_mass :3.93e+10 SM/h<br>host_idx :356<br>host_id :98465<br>vr :1.19e+00 kpc/h/Gyr<br>vt :2.66e+01 kpc/h/Gyr<br>tcr_idx :84<br>tcr_sparta_idx :1961<br>born_in_halo :born inside<br>",
          "host_radius :1.27e+01 kpc/h<br>host_mass :3.93e+10 SM/h<br>host_idx :356<br>host_id :105544<br>vr :-5.98e+00 kpc/h/Gyr<br>vt :2.12e+01 kpc/h/Gyr<br>tcr_idx :84<br>tcr_sparta_idx :1961<br>born_in_halo :born inside<br>",
          "host_radius :1.44e+01 kpc/h<br>host_mass :3.93e+10 SM/h<br>host_idx :356<br>host_id :112954<br>vr :-6.78e+00 kpc/h/Gyr<br>vt :2.29e+01 kpc/h/Gyr<br>tcr_idx :84<br>tcr_sparta_idx :1961<br>born_in_halo :born inside<br>"
         ],
         "mode": "lines+markers",
         "name": "57512",
         "type": "scatter",
         "x": [
          5.615506649017334,
          5.532958507537842,
          5.451612949371338,
          5.371456146240234,
          5.292078018188477,
          5.213881969451904,
          5.136475563049316,
          5.060238361358643,
          4.984798431396484,
          4.910165309906006
         ],
         "y": [
          0.16123054278961899,
          6.32201071669667,
          5.966165466511935,
          5.897702483333876,
          5.833437218495054,
          5.6317237465049,
          5.725287172540734,
          5.468817119008103,
          5.118979416143062,
          4.566237551447875
         ]
        },
        {
         "hoverinfo": "text",
         "hovertext": [
          "host_radius :7.03e+00 kpc/h<br>host_mass :2.10e+10 SM/h<br>host_idx :424<br>host_id :10529<br>vr :nan kpc/h/Gyr<br>vt :0.00e+00 kpc/h/Gyr<br>tcr_idx :94<br>tcr_sparta_idx :67<br>born_in_halo :born outside<br>",
          "host_radius :6.75e+00 kpc/h<br>host_mass :2.10e+10 SM/h<br>host_idx :424<br>host_id :11948<br>vr :-1.97e+01 kpc/h/Gyr<br>vt :2.15e+01 kpc/h/Gyr<br>tcr_idx :94<br>tcr_sparta_idx :67<br>born_in_halo :born outside<br>",
          "host_radius :6.97e+00 kpc/h<br>host_mass :2.10e+10 SM/h<br>host_idx :424<br>host_id :13488<br>vr :2.28e+01 kpc/h/Gyr<br>vt :1.75e+01 kpc/h/Gyr<br>tcr_idx :94<br>tcr_sparta_idx :67<br>born_in_halo :born outside<br>",
          "host_radius :7.79e+00 kpc/h<br>host_mass :2.10e+10 SM/h<br>host_idx :424<br>host_id :15204<br>vr :2.00e+01 kpc/h/Gyr<br>vt :1.12e+02 kpc/h/Gyr<br>tcr_idx :94<br>tcr_sparta_idx :67<br>born_in_halo :born outside<br>",
          "host_radius :8.43e+00 kpc/h<br>host_mass :2.10e+10 SM/h<br>host_idx :424<br>host_id :17062<br>vr :2.92e+01 kpc/h/Gyr<br>vt :1.21e+02 kpc/h/Gyr<br>tcr_idx :94<br>tcr_sparta_idx :67<br>born_in_halo :born outside<br>",
          "host_radius :9.02e+00 kpc/h<br>host_mass :2.10e+10 SM/h<br>host_idx :424<br>host_id :19063<br>vr :3.16e+01 kpc/h/Gyr<br>vt :1.14e+02 kpc/h/Gyr<br>tcr_idx :94<br>tcr_sparta_idx :67<br>born_in_halo :born outside<br>",
          "host_radius :9.58e+00 kpc/h<br>host_mass :2.10e+10 SM/h<br>host_idx :424<br>host_id :21253<br>vr :5.46e+01 kpc/h/Gyr<br>vt :9.70e+01 kpc/h/Gyr<br>tcr_idx :94<br>tcr_sparta_idx :67<br>born_in_halo :born outside<br>",
          "host_radius :1.01e+01 kpc/h<br>host_mass :2.10e+10 SM/h<br>host_idx :424<br>host_id :23632<br>vr :5.12e+01 kpc/h/Gyr<br>vt :1.22e+02 kpc/h/Gyr<br>tcr_idx :94<br>tcr_sparta_idx :67<br>born_in_halo :born outside<br>",
          "host_radius :1.07e+01 kpc/h<br>host_mass :2.10e+10 SM/h<br>host_idx :424<br>host_id :26194<br>vr :4.21e+01 kpc/h/Gyr<br>vt :1.06e+02 kpc/h/Gyr<br>tcr_idx :94<br>tcr_sparta_idx :67<br>born_in_halo :born outside<br>",
          "host_radius :1.09e+01 kpc/h<br>host_mass :2.10e+10 SM/h<br>host_idx :424<br>host_id :28973<br>vr :6.38e+01 kpc/h/Gyr<br>vt :9.14e+01 kpc/h/Gyr<br>tcr_idx :94<br>tcr_sparta_idx :67<br>born_in_halo :born outside<br>",
          "host_radius :1.12e+01 kpc/h<br>host_mass :2.10e+10 SM/h<br>host_idx :424<br>host_id :31978<br>vr :7.10e+01 kpc/h/Gyr<br>vt :7.28e+01 kpc/h/Gyr<br>tcr_idx :94<br>tcr_sparta_idx :67<br>born_in_halo :born outside<br>",
          "host_radius :1.16e+01 kpc/h<br>host_mass :2.10e+10 SM/h<br>host_idx :424<br>host_id :35194<br>vr :8.85e+01 kpc/h/Gyr<br>vt :8.96e+01 kpc/h/Gyr<br>tcr_idx :94<br>tcr_sparta_idx :67<br>born_in_halo :born outside<br>"
         ],
         "mode": "lines+markers",
         "name": "10528",
         "type": "scatter",
         "x": [
          7.082767486572266,
          6.982120513916016,
          6.8827056884765625,
          6.784523963928223,
          6.687576770782471,
          6.592438220977783,
          6.49793815612793,
          6.404116630554199,
          6.312079906463623,
          6.221259593963623,
          6.131649971008301,
          6.042749404907227
         ],
         "y": [
          19.81735047016991,
          0.23976832026362216,
          0.5286020327910055,
          4.063862817831532,
          3.955648058510822,
          3.69587459347692,
          3.6689333667429933,
          2.606764975202824,
          3.3959421693247656,
          3.4588933978653773,
          3.61325779593776,
          3.0272113559597975
         ]
        },
        {
         "hoverinfo": "text",
         "hovertext": [
          "host_radius :6.86e+00 kpc/h<br>host_mass :8.09e+10 SM/h<br>host_idx :437<br>host_id :22103<br>vr :nan kpc/h/Gyr<br>vt :0.00e+00 kpc/h/Gyr<br>tcr_idx :97<br>tcr_sparta_idx :281<br>born_in_halo :born outside<br>",
          "host_radius :6.75e+00 kpc/h<br>host_mass :8.09e+10 SM/h<br>host_idx :437<br>host_id :24561<br>vr :3.29e+00 kpc/h/Gyr<br>vt :2.78e+00 kpc/h/Gyr<br>tcr_idx :97<br>tcr_sparta_idx :281<br>born_in_halo :born outside<br>",
          "host_radius :8.11e+00 kpc/h<br>host_mass :8.09e+10 SM/h<br>host_idx :437<br>host_id :27207<br>vr :-6.35e+00 kpc/h/Gyr<br>vt :3.99e+01 kpc/h/Gyr<br>tcr_idx :97<br>tcr_sparta_idx :281<br>born_in_halo :born outside<br>",
          "host_radius :7.88e+00 kpc/h<br>host_mass :8.09e+10 SM/h<br>host_idx :437<br>host_id :30064<br>vr :9.83e-01 kpc/h/Gyr<br>vt :4.80e+01 kpc/h/Gyr<br>tcr_idx :97<br>tcr_sparta_idx :281<br>born_in_halo :born outside<br>",
          "host_radius :8.86e+00 kpc/h<br>host_mass :8.09e+10 SM/h<br>host_idx :437<br>host_id :33153<br>vr :1.05e+01 kpc/h/Gyr<br>vt :3.58e+01 kpc/h/Gyr<br>tcr_idx :97<br>tcr_sparta_idx :281<br>born_in_halo :born outside<br>",
          "host_radius :9.11e+00 kpc/h<br>host_mass :8.09e+10 SM/h<br>host_idx :437<br>host_id :36455<br>vr :-7.70e+00 kpc/h/Gyr<br>vt :3.77e+01 kpc/h/Gyr<br>tcr_idx :97<br>tcr_sparta_idx :281<br>born_in_halo :born outside<br>",
          "host_radius :8.40e+00 kpc/h<br>host_mass :8.09e+10 SM/h<br>host_idx :437<br>host_id :39967<br>vr :-3.98e+01 kpc/h/Gyr<br>vt :8.69e+01 kpc/h/Gyr<br>tcr_idx :97<br>tcr_sparta_idx :281<br>born_in_halo :born outside<br>",
          "host_radius :7.54e+00 kpc/h<br>host_mass :8.09e+10 SM/h<br>host_idx :437<br>host_id :43728<br>vr :-5.84e+01 kpc/h/Gyr<br>vt :1.24e+02 kpc/h/Gyr<br>tcr_idx :97<br>tcr_sparta_idx :281<br>born_in_halo :born outside<br>",
          "host_radius :8.54e+00 kpc/h<br>host_mass :8.09e+10 SM/h<br>host_idx :437<br>host_id :47697<br>vr :-8.37e-01 kpc/h/Gyr<br>vt :3.79e+01 kpc/h/Gyr<br>tcr_idx :97<br>tcr_sparta_idx :281<br>born_in_halo :born outside<br>",
          "host_radius :9.41e+00 kpc/h<br>host_mass :8.09e+10 SM/h<br>host_idx :437<br>host_id :51956<br>vr :-2.54e+01 kpc/h/Gyr<br>vt :7.78e+01 kpc/h/Gyr<br>tcr_idx :97<br>tcr_sparta_idx :281<br>born_in_halo :born outside<br>",
          "host_radius :1.02e+01 kpc/h<br>host_mass :8.09e+10 SM/h<br>host_idx :437<br>host_id :56500<br>vr :-2.87e+01 kpc/h/Gyr<br>vt :7.57e+01 kpc/h/Gyr<br>tcr_idx :97<br>tcr_sparta_idx :281<br>born_in_halo :born outside<br>",
          "host_radius :1.09e+01 kpc/h<br>host_mass :8.09e+10 SM/h<br>host_idx :437<br>host_id :61392<br>vr :-3.51e+01 kpc/h/Gyr<br>vt :2.31e+01 kpc/h/Gyr<br>tcr_idx :97<br>tcr_sparta_idx :281<br>born_in_halo :born outside<br>",
          "host_radius :1.15e+01 kpc/h<br>host_mass :8.09e+10 SM/h<br>host_idx :437<br>host_id :66592<br>vr :-3.99e+01 kpc/h/Gyr<br>vt :2.88e+01 kpc/h/Gyr<br>tcr_idx :97<br>tcr_sparta_idx :281<br>born_in_halo :born outside<br>",
          "host_radius :1.09e+01 kpc/h<br>host_mass :8.09e+10 SM/h<br>host_idx :437<br>host_id :72072<br>vr :-1.02e+02 kpc/h/Gyr<br>vt :9.87e+01 kpc/h/Gyr<br>tcr_idx :97<br>tcr_sparta_idx :281<br>born_in_halo :born outside<br>",
          "host_radius :1.45e+01 kpc/h<br>host_mass :8.09e+10 SM/h<br>host_idx :437<br>host_id :77821<br>vr :-3.73e+01 kpc/h/Gyr<br>vt :6.56e+01 kpc/h/Gyr<br>tcr_idx :97<br>tcr_sparta_idx :281<br>born_in_halo :born outside<br>",
          "host_radius :1.31e+01 kpc/h<br>host_mass :8.09e+10 SM/h<br>host_idx :437<br>host_id :83888<br>vr :-1.32e+02 kpc/h/Gyr<br>vt :1.57e+02 kpc/h/Gyr<br>tcr_idx :97<br>tcr_sparta_idx :281<br>born_in_halo :born outside<br>",
          "host_radius :1.41e+01 kpc/h<br>host_mass :8.09e+10 SM/h<br>host_idx :437<br>host_id :90272<br>vr :-1.25e+02 kpc/h/Gyr<br>vt :1.36e+02 kpc/h/Gyr<br>tcr_idx :97<br>tcr_sparta_idx :281<br>born_in_halo :born outside<br>",
          "host_radius :1.62e+01 kpc/h<br>host_mass :8.09e+10 SM/h<br>host_idx :437<br>host_id :96963<br>vr :-9.55e+01 kpc/h/Gyr<br>vt :1.28e+02 kpc/h/Gyr<br>tcr_idx :97<br>tcr_sparta_idx :281<br>born_in_halo :born outside<br>"
         ],
         "mode": "lines+markers",
         "name": "22105",
         "type": "scatter",
         "x": [
          6.49793815612793,
          6.404116630554199,
          6.312079906463623,
          6.221259593963623,
          6.131649971008301,
          6.042749404907227,
          5.955070495605469,
          5.868603229522705,
          5.782879829406738,
          5.698821067810059,
          5.615506649017334,
          5.532958507537842,
          5.451612949371338,
          5.371456146240234,
          5.292078018188477,
          5.213881969451904,
          5.136475563049316,
          5.060238361358643
         ],
         "y": [
          11.816454099478273,
          0.16019333607801534,
          0.5637258216934238,
          8.829520883308689,
          7.7563521828622,
          5.110450593282726,
          4.669000502993053,
          8.306554546863461,
          1.341279366573857,
          3.847274600994999,
          3.4452530791437868,
          2.8554450529653446,
          4.7602151118932,
          6.572112759306383,
          5.550660818516002,
          11.089184262552958,
          10.921374059438847,
          9.080747957088327
         ]
        },
        {
         "hoverinfo": "text",
         "hovertext": [
          "host_radius :1.09e+01 kpc/h<br>host_mass :6.20e+10 SM/h<br>host_idx :458<br>host_id :42330<br>vr :-3.39e+01 kpc/h/Gyr<br>vt :2.24e+01 kpc/h/Gyr<br>tcr_idx :99<br>tcr_sparta_idx :2827<br>born_in_halo :born inside<br>",
          "host_radius :1.14e+01 kpc/h<br>host_mass :6.20e+10 SM/h<br>host_idx :458<br>host_id :46217<br>vr :-1.80e+01 kpc/h/Gyr<br>vt :4.53e+01 kpc/h/Gyr<br>tcr_idx :99<br>tcr_sparta_idx :2827<br>born_in_halo :born inside<br>",
          "host_radius :1.16e+01 kpc/h<br>host_mass :6.20e+10 SM/h<br>host_idx :458<br>host_id :50386<br>vr :-1.83e+01 kpc/h/Gyr<br>vt :4.52e+01 kpc/h/Gyr<br>tcr_idx :99<br>tcr_sparta_idx :2827<br>born_in_halo :born inside<br>",
          "host_radius :1.19e+01 kpc/h<br>host_mass :6.20e+10 SM/h<br>host_idx :458<br>host_id :54835<br>vr :-2.24e+01 kpc/h/Gyr<br>vt :4.89e+01 kpc/h/Gyr<br>tcr_idx :99<br>tcr_sparta_idx :2827<br>born_in_halo :born inside<br>",
          "host_radius :1.25e+01 kpc/h<br>host_mass :6.20e+10 SM/h<br>host_idx :458<br>host_id :59598<br>vr :-2.49e+01 kpc/h/Gyr<br>vt :8.75e+01 kpc/h/Gyr<br>tcr_idx :99<br>tcr_sparta_idx :2827<br>born_in_halo :born inside<br>",
          "host_radius :1.30e+01 kpc/h<br>host_mass :6.20e+10 SM/h<br>host_idx :458<br>host_id :64668<br>vr :-2.52e+01 kpc/h/Gyr<br>vt :8.79e+01 kpc/h/Gyr<br>tcr_idx :99<br>tcr_sparta_idx :2827<br>born_in_halo :born inside<br>",
          "host_radius :1.39e+01 kpc/h<br>host_mass :6.20e+10 SM/h<br>host_idx :458<br>host_id :70027<br>vr :-2.07e+01 kpc/h/Gyr<br>vt :9.50e+01 kpc/h/Gyr<br>tcr_idx :99<br>tcr_sparta_idx :2827<br>born_in_halo :born inside<br>",
          "host_radius :1.50e+01 kpc/h<br>host_mass :6.20e+10 SM/h<br>host_idx :458<br>host_id :75664<br>vr :-1.40e+01 kpc/h/Gyr<br>vt :9.63e+01 kpc/h/Gyr<br>tcr_idx :99<br>tcr_sparta_idx :2827<br>born_in_halo :born inside<br>",
          "host_radius :1.53e+01 kpc/h<br>host_mass :6.20e+10 SM/h<br>host_idx :458<br>host_id :81622<br>vr :-1.15e+01 kpc/h/Gyr<br>vt :5.29e+01 kpc/h/Gyr<br>tcr_idx :99<br>tcr_sparta_idx :2827<br>born_in_halo :born inside<br>",
          "host_radius :1.60e+01 kpc/h<br>host_mass :6.20e+10 SM/h<br>host_idx :458<br>host_id :87885<br>vr :-1.68e+01 kpc/h/Gyr<br>vt :3.80e+01 kpc/h/Gyr<br>tcr_idx :99<br>tcr_sparta_idx :2827<br>born_in_halo :born inside<br>",
          "host_radius :1.65e+01 kpc/h<br>host_mass :6.20e+10 SM/h<br>host_idx :458<br>host_id :94461<br>vr :-4.33e+00 kpc/h/Gyr<br>vt :6.02e+01 kpc/h/Gyr<br>tcr_idx :99<br>tcr_sparta_idx :2827<br>born_in_halo :born inside<br>",
          "host_radius :1.82e+01 kpc/h<br>host_mass :6.20e+10 SM/h<br>host_idx :458<br>host_id :101358<br>vr :-1.69e+01 kpc/h/Gyr<br>vt :7.00e+01 kpc/h/Gyr<br>tcr_idx :99<br>tcr_sparta_idx :2827<br>born_in_halo :born inside<br>",
          "host_radius :1.78e+01 kpc/h<br>host_mass :6.20e+10 SM/h<br>host_idx :458<br>host_id :108574<br>vr :-1.94e+01 kpc/h/Gyr<br>vt :8.50e+01 kpc/h/Gyr<br>tcr_idx :99<br>tcr_sparta_idx :2827<br>born_in_halo :born inside<br>",
          "host_radius :2.11e+01 kpc/h<br>host_mass :6.20e+10 SM/h<br>host_idx :458<br>host_id :116145<br>vr :-1.72e+01 kpc/h/Gyr<br>vt :9.62e+01 kpc/h/Gyr<br>tcr_idx :99<br>tcr_sparta_idx :2827<br>born_in_halo :born inside<br>",
          "host_radius :2.28e+01 kpc/h<br>host_mass :6.20e+10 SM/h<br>host_idx :458<br>host_id :124096<br>vr :-9.20e+00 kpc/h/Gyr<br>vt :1.06e+02 kpc/h/Gyr<br>tcr_idx :99<br>tcr_sparta_idx :2827<br>born_in_halo :born inside<br>"
         ],
         "mode": "lines+markers",
         "name": "42331",
         "type": "scatter",
         "x": [
          5.868603229522705,
          5.782879829406738,
          5.698821067810059,
          5.615506649017334,
          5.532958507537842,
          5.451612949371338,
          5.371456146240234,
          5.292078018188477,
          5.213881969451904,
          5.136475563049316,
          5.060238361358643,
          4.984798431396484,
          4.910165309906006,
          4.836689472198486,
          4.764020919799805
         ],
         "y": [
          0.6164360559281058,
          5.943323852721848,
          5.771470487766832,
          5.614036978982936,
          7.184076911595221,
          6.863364761560833,
          6.277920025149944,
          5.780130721405195,
          3.6861288467112208,
          4.269946286388263,
          4.371381597125958,
          4.531530068360673,
          4.5016603114862095,
          3.7720135049551087,
          3.4043312349788675
         ]
        }
       ],
       "layout": {
        "template": {
         "data": {
          "bar": [
           {
            "error_x": {
             "color": "#2a3f5f"
            },
            "error_y": {
             "color": "#2a3f5f"
            },
            "marker": {
             "line": {
              "color": "#E5ECF6",
              "width": 0.5
             },
             "pattern": {
              "fillmode": "overlay",
              "size": 10,
              "solidity": 0.2
             }
            },
            "type": "bar"
           }
          ],
          "barpolar": [
           {
            "marker": {
             "line": {
              "color": "#E5ECF6",
              "width": 0.5
             },
             "pattern": {
              "fillmode": "overlay",
              "size": 10,
              "solidity": 0.2
             }
            },
            "type": "barpolar"
           }
          ],
          "carpet": [
           {
            "aaxis": {
             "endlinecolor": "#2a3f5f",
             "gridcolor": "white",
             "linecolor": "white",
             "minorgridcolor": "white",
             "startlinecolor": "#2a3f5f"
            },
            "baxis": {
             "endlinecolor": "#2a3f5f",
             "gridcolor": "white",
             "linecolor": "white",
             "minorgridcolor": "white",
             "startlinecolor": "#2a3f5f"
            },
            "type": "carpet"
           }
          ],
          "choropleth": [
           {
            "colorbar": {
             "outlinewidth": 0,
             "ticks": ""
            },
            "type": "choropleth"
           }
          ],
          "contour": [
           {
            "colorbar": {
             "outlinewidth": 0,
             "ticks": ""
            },
            "colorscale": [
             [
              0,
              "#0d0887"
             ],
             [
              0.1111111111111111,
              "#46039f"
             ],
             [
              0.2222222222222222,
              "#7201a8"
             ],
             [
              0.3333333333333333,
              "#9c179e"
             ],
             [
              0.4444444444444444,
              "#bd3786"
             ],
             [
              0.5555555555555556,
              "#d8576b"
             ],
             [
              0.6666666666666666,
              "#ed7953"
             ],
             [
              0.7777777777777778,
              "#fb9f3a"
             ],
             [
              0.8888888888888888,
              "#fdca26"
             ],
             [
              1,
              "#f0f921"
             ]
            ],
            "type": "contour"
           }
          ],
          "contourcarpet": [
           {
            "colorbar": {
             "outlinewidth": 0,
             "ticks": ""
            },
            "type": "contourcarpet"
           }
          ],
          "heatmap": [
           {
            "colorbar": {
             "outlinewidth": 0,
             "ticks": ""
            },
            "colorscale": [
             [
              0,
              "#0d0887"
             ],
             [
              0.1111111111111111,
              "#46039f"
             ],
             [
              0.2222222222222222,
              "#7201a8"
             ],
             [
              0.3333333333333333,
              "#9c179e"
             ],
             [
              0.4444444444444444,
              "#bd3786"
             ],
             [
              0.5555555555555556,
              "#d8576b"
             ],
             [
              0.6666666666666666,
              "#ed7953"
             ],
             [
              0.7777777777777778,
              "#fb9f3a"
             ],
             [
              0.8888888888888888,
              "#fdca26"
             ],
             [
              1,
              "#f0f921"
             ]
            ],
            "type": "heatmap"
           }
          ],
          "heatmapgl": [
           {
            "colorbar": {
             "outlinewidth": 0,
             "ticks": ""
            },
            "colorscale": [
             [
              0,
              "#0d0887"
             ],
             [
              0.1111111111111111,
              "#46039f"
             ],
             [
              0.2222222222222222,
              "#7201a8"
             ],
             [
              0.3333333333333333,
              "#9c179e"
             ],
             [
              0.4444444444444444,
              "#bd3786"
             ],
             [
              0.5555555555555556,
              "#d8576b"
             ],
             [
              0.6666666666666666,
              "#ed7953"
             ],
             [
              0.7777777777777778,
              "#fb9f3a"
             ],
             [
              0.8888888888888888,
              "#fdca26"
             ],
             [
              1,
              "#f0f921"
             ]
            ],
            "type": "heatmapgl"
           }
          ],
          "histogram": [
           {
            "marker": {
             "pattern": {
              "fillmode": "overlay",
              "size": 10,
              "solidity": 0.2
             }
            },
            "type": "histogram"
           }
          ],
          "histogram2d": [
           {
            "colorbar": {
             "outlinewidth": 0,
             "ticks": ""
            },
            "colorscale": [
             [
              0,
              "#0d0887"
             ],
             [
              0.1111111111111111,
              "#46039f"
             ],
             [
              0.2222222222222222,
              "#7201a8"
             ],
             [
              0.3333333333333333,
              "#9c179e"
             ],
             [
              0.4444444444444444,
              "#bd3786"
             ],
             [
              0.5555555555555556,
              "#d8576b"
             ],
             [
              0.6666666666666666,
              "#ed7953"
             ],
             [
              0.7777777777777778,
              "#fb9f3a"
             ],
             [
              0.8888888888888888,
              "#fdca26"
             ],
             [
              1,
              "#f0f921"
             ]
            ],
            "type": "histogram2d"
           }
          ],
          "histogram2dcontour": [
           {
            "colorbar": {
             "outlinewidth": 0,
             "ticks": ""
            },
            "colorscale": [
             [
              0,
              "#0d0887"
             ],
             [
              0.1111111111111111,
              "#46039f"
             ],
             [
              0.2222222222222222,
              "#7201a8"
             ],
             [
              0.3333333333333333,
              "#9c179e"
             ],
             [
              0.4444444444444444,
              "#bd3786"
             ],
             [
              0.5555555555555556,
              "#d8576b"
             ],
             [
              0.6666666666666666,
              "#ed7953"
             ],
             [
              0.7777777777777778,
              "#fb9f3a"
             ],
             [
              0.8888888888888888,
              "#fdca26"
             ],
             [
              1,
              "#f0f921"
             ]
            ],
            "type": "histogram2dcontour"
           }
          ],
          "mesh3d": [
           {
            "colorbar": {
             "outlinewidth": 0,
             "ticks": ""
            },
            "type": "mesh3d"
           }
          ],
          "parcoords": [
           {
            "line": {
             "colorbar": {
              "outlinewidth": 0,
              "ticks": ""
             }
            },
            "type": "parcoords"
           }
          ],
          "pie": [
           {
            "automargin": true,
            "type": "pie"
           }
          ],
          "scatter": [
           {
            "fillpattern": {
             "fillmode": "overlay",
             "size": 10,
             "solidity": 0.2
            },
            "type": "scatter"
           }
          ],
          "scatter3d": [
           {
            "line": {
             "colorbar": {
              "outlinewidth": 0,
              "ticks": ""
             }
            },
            "marker": {
             "colorbar": {
              "outlinewidth": 0,
              "ticks": ""
             }
            },
            "type": "scatter3d"
           }
          ],
          "scattercarpet": [
           {
            "marker": {
             "colorbar": {
              "outlinewidth": 0,
              "ticks": ""
             }
            },
            "type": "scattercarpet"
           }
          ],
          "scattergeo": [
           {
            "marker": {
             "colorbar": {
              "outlinewidth": 0,
              "ticks": ""
             }
            },
            "type": "scattergeo"
           }
          ],
          "scattergl": [
           {
            "marker": {
             "colorbar": {
              "outlinewidth": 0,
              "ticks": ""
             }
            },
            "type": "scattergl"
           }
          ],
          "scattermapbox": [
           {
            "marker": {
             "colorbar": {
              "outlinewidth": 0,
              "ticks": ""
             }
            },
            "type": "scattermapbox"
           }
          ],
          "scatterpolar": [
           {
            "marker": {
             "colorbar": {
              "outlinewidth": 0,
              "ticks": ""
             }
            },
            "type": "scatterpolar"
           }
          ],
          "scatterpolargl": [
           {
            "marker": {
             "colorbar": {
              "outlinewidth": 0,
              "ticks": ""
             }
            },
            "type": "scatterpolargl"
           }
          ],
          "scatterternary": [
           {
            "marker": {
             "colorbar": {
              "outlinewidth": 0,
              "ticks": ""
             }
            },
            "type": "scatterternary"
           }
          ],
          "surface": [
           {
            "colorbar": {
             "outlinewidth": 0,
             "ticks": ""
            },
            "colorscale": [
             [
              0,
              "#0d0887"
             ],
             [
              0.1111111111111111,
              "#46039f"
             ],
             [
              0.2222222222222222,
              "#7201a8"
             ],
             [
              0.3333333333333333,
              "#9c179e"
             ],
             [
              0.4444444444444444,
              "#bd3786"
             ],
             [
              0.5555555555555556,
              "#d8576b"
             ],
             [
              0.6666666666666666,
              "#ed7953"
             ],
             [
              0.7777777777777778,
              "#fb9f3a"
             ],
             [
              0.8888888888888888,
              "#fdca26"
             ],
             [
              1,
              "#f0f921"
             ]
            ],
            "type": "surface"
           }
          ],
          "table": [
           {
            "cells": {
             "fill": {
              "color": "#EBF0F8"
             },
             "line": {
              "color": "white"
             }
            },
            "header": {
             "fill": {
              "color": "#C8D4E3"
             },
             "line": {
              "color": "white"
             }
            },
            "type": "table"
           }
          ]
         },
         "layout": {
          "annotationdefaults": {
           "arrowcolor": "#2a3f5f",
           "arrowhead": 0,
           "arrowwidth": 1
          },
          "autotypenumbers": "strict",
          "coloraxis": {
           "colorbar": {
            "outlinewidth": 0,
            "ticks": ""
           }
          },
          "colorscale": {
           "diverging": [
            [
             0,
             "#8e0152"
            ],
            [
             0.1,
             "#c51b7d"
            ],
            [
             0.2,
             "#de77ae"
            ],
            [
             0.3,
             "#f1b6da"
            ],
            [
             0.4,
             "#fde0ef"
            ],
            [
             0.5,
             "#f7f7f7"
            ],
            [
             0.6,
             "#e6f5d0"
            ],
            [
             0.7,
             "#b8e186"
            ],
            [
             0.8,
             "#7fbc41"
            ],
            [
             0.9,
             "#4d9221"
            ],
            [
             1,
             "#276419"
            ]
           ],
           "sequential": [
            [
             0,
             "#0d0887"
            ],
            [
             0.1111111111111111,
             "#46039f"
            ],
            [
             0.2222222222222222,
             "#7201a8"
            ],
            [
             0.3333333333333333,
             "#9c179e"
            ],
            [
             0.4444444444444444,
             "#bd3786"
            ],
            [
             0.5555555555555556,
             "#d8576b"
            ],
            [
             0.6666666666666666,
             "#ed7953"
            ],
            [
             0.7777777777777778,
             "#fb9f3a"
            ],
            [
             0.8888888888888888,
             "#fdca26"
            ],
            [
             1,
             "#f0f921"
            ]
           ],
           "sequentialminus": [
            [
             0,
             "#0d0887"
            ],
            [
             0.1111111111111111,
             "#46039f"
            ],
            [
             0.2222222222222222,
             "#7201a8"
            ],
            [
             0.3333333333333333,
             "#9c179e"
            ],
            [
             0.4444444444444444,
             "#bd3786"
            ],
            [
             0.5555555555555556,
             "#d8576b"
            ],
            [
             0.6666666666666666,
             "#ed7953"
            ],
            [
             0.7777777777777778,
             "#fb9f3a"
            ],
            [
             0.8888888888888888,
             "#fdca26"
            ],
            [
             1,
             "#f0f921"
            ]
           ]
          },
          "colorway": [
           "#636efa",
           "#EF553B",
           "#00cc96",
           "#ab63fa",
           "#FFA15A",
           "#19d3f3",
           "#FF6692",
           "#B6E880",
           "#FF97FF",
           "#FECB52"
          ],
          "font": {
           "color": "#2a3f5f"
          },
          "geo": {
           "bgcolor": "white",
           "lakecolor": "white",
           "landcolor": "#E5ECF6",
           "showlakes": true,
           "showland": true,
           "subunitcolor": "white"
          },
          "hoverlabel": {
           "align": "left"
          },
          "hovermode": "closest",
          "mapbox": {
           "style": "light"
          },
          "paper_bgcolor": "white",
          "plot_bgcolor": "#E5ECF6",
          "polar": {
           "angularaxis": {
            "gridcolor": "white",
            "linecolor": "white",
            "ticks": ""
           },
           "bgcolor": "#E5ECF6",
           "radialaxis": {
            "gridcolor": "white",
            "linecolor": "white",
            "ticks": ""
           }
          },
          "scene": {
           "xaxis": {
            "backgroundcolor": "#E5ECF6",
            "gridcolor": "white",
            "gridwidth": 2,
            "linecolor": "white",
            "showbackground": true,
            "ticks": "",
            "zerolinecolor": "white"
           },
           "yaxis": {
            "backgroundcolor": "#E5ECF6",
            "gridcolor": "white",
            "gridwidth": 2,
            "linecolor": "white",
            "showbackground": true,
            "ticks": "",
            "zerolinecolor": "white"
           },
           "zaxis": {
            "backgroundcolor": "#E5ECF6",
            "gridcolor": "white",
            "gridwidth": 2,
            "linecolor": "white",
            "showbackground": true,
            "ticks": "",
            "zerolinecolor": "white"
           }
          },
          "shapedefaults": {
           "line": {
            "color": "#2a3f5f"
           }
          },
          "ternary": {
           "aaxis": {
            "gridcolor": "white",
            "linecolor": "white",
            "ticks": ""
           },
           "baxis": {
            "gridcolor": "white",
            "linecolor": "white",
            "ticks": ""
           },
           "bgcolor": "#E5ECF6",
           "caxis": {
            "gridcolor": "white",
            "linecolor": "white",
            "ticks": ""
           }
          },
          "title": {
           "x": 0.05
          },
          "xaxis": {
           "automargin": true,
           "gridcolor": "white",
           "linecolor": "white",
           "ticks": "",
           "title": {
            "standoff": 15
           },
           "zerolinecolor": "white",
           "zerolinewidth": 2
          },
          "yaxis": {
           "automargin": true,
           "gridcolor": "white",
           "linecolor": "white",
           "ticks": "",
           "title": {
            "standoff": 15
           },
           "zerolinecolor": "white",
           "zerolinewidth": 2
          }
         }
        },
        "title": {
         "text": "Escaping Subhalos"
        },
        "xaxis": {
         "autorange": "reversed",
         "title": {
          "text": "z"
         }
        },
        "yaxis": {
         "title": {
          "text": "R / R200m"
         }
        }
       }
      }
     },
     "metadata": {},
     "output_type": "display_data"
    }
   ],
   "source": [
    "\n",
    "esc_tjy = data['res_tjy'][mask]\n",
    "tcr_idxs = np.arange(len(mask))[mask]\n",
    "\n",
    "\n",
    "fig = go.Figure()\n",
    "for i in range(20):\n",
    "    r = esc_tjy['r'][i]\n",
    "    hostr = data['hosts']['R200m'][mask][i]\n",
    "    alive = r > 0\n",
    "    \n",
    "    rnorm = r[alive] / hostr[alive]\n",
    "    \n",
    "    lndata = {\n",
    "        'host_radius' : hostr[alive],\n",
    "        'host_mass' : data['hosts']['M200m'][mask][i, alive],\n",
    "        'host_idx' : data['hosts']['sparta_idx'][mask][i],\n",
    "        'host_id' : data['hosts']['id'][mask][i, alive],\n",
    "        'vr' : esc_tjy['vr'][i, alive],\n",
    "        'vt' : esc_tjy['vt'][i, alive],\n",
    "        'tcr_idx' : tcr_idxs[i],\n",
    "        'tcr_sparta_idx' : data['tcr_halos']['sparta_idx'][mask][i],\n",
    "        'born_in_halo' : data['res_ifl']['born_in_halo'][mask][i]\n",
    "    }\n",
    "    if lndata['host_idx'] == 16:\n",
    "        print(rnorm)\n",
    "    hover = np.empty_like(rnorm, dtype=object)\n",
    "    for j in range(len(rnorm)):\n",
    "        text = ''\n",
    "        for k, v in lndata.items():\n",
    "            text += k + ' :'\n",
    "            if k == 'host_radius':\n",
    "                text += '%.2e kpc/h'%v[j]\n",
    "            elif k == 'host_id':\n",
    "                text+= '%d'%v[j]\n",
    "            elif 'mass' in k:\n",
    "                text += '%.2e SM/h'%v[j]\n",
    "            elif 'v' in k:\n",
    "                text += '%.2e kpc/h/Gyr'%v[j]\n",
    "            elif k == 'host_idx' or k == 'tcr_idx' or k == 'tcr_sparta_idx':\n",
    "                text += '%d'%v\n",
    "            elif k == 'born_in_halo':\n",
    "                if v == 0:\n",
    "                    text += 'born outside'\n",
    "                else:\n",
    "                    text += 'born inside'\n",
    "            text += '<br>'\n",
    "        hover[j] = text\n",
    "    scat = go.Scatter(\n",
    "        x = data['sim']['snap_z'][alive],\n",
    "        y = rnorm,\n",
    "        name = \"%d\"%esc_tjy['tracer_id'][i],\n",
    "        hoverinfo='text',\n",
    "        hovertext=hover,\n",
    "        mode='lines+markers'\n",
    "    )\n",
    "    fig.add_trace(scat)\n",
    "fig.update_layout(\n",
    "    title = 'Escaping Subhalos',\n",
    "    yaxis_title = 'R / R200m',\n",
    "    xaxis_title = 'z',\n",
    "    xaxis_autorange = 'reversed'\n",
    ")\n",
    "fig.show()\n"
   ]
  },
  {
   "cell_type": "code",
   "execution_count": 11,
   "metadata": {},
   "outputs": [
    {
     "name": "stdout",
     "output_type": "stream",
     "text": [
      "sparta.load: Loading file /Users/cosinga/sims/sparta_output/L0063_N0256_CBol//sparta_no_cuts.hdf5.\n",
      "sparta.load: Loading 38867/38867 halos from SPARTA file (entire array)...\n",
      "sparta.load: Matching result IDs in tracer sho, halo 3887/38867\n",
      "sparta.load: Matching result IDs in tracer sho, halo 7773/38867\n",
      "sparta.load: Matching result IDs in tracer sho, halo 11659/38867\n",
      "sparta.load: Matching result IDs in tracer sho, halo 15545/38867\n",
      "sparta.load: Matching result IDs in tracer sho, halo 19431/38867\n",
      "sparta.load: Matching result IDs in tracer sho, halo 23317/38867\n",
      "sparta.load: Matching result IDs in tracer sho, halo 27203/38867\n",
      "sparta.load: Matching result IDs in tracer sho, halo 31089/38867\n",
      "sparta.load: Matching result IDs in tracer sho, halo 34975/38867\n",
      "sparta.load: Matching result IDs in tracer sho, halo 38861/38867\n"
     ]
    },
    {
     "data": {
      "text/plain": [
       "dict_keys(['config', 'simulation', 'anl_hps', 'anl_rsp', 'tcr_sho', 'halos'])"
      ]
     },
     "execution_count": 11,
     "metadata": {},
     "output_type": "execute_result"
    }
   ],
   "source": [
    "sdata = sparta.load(SIMPATH + '%s/%s'%(SIMNAME, SPARTA_FILE), load_halo_data = True, \n",
    "                    anl_match = ['hps', 'rsp'], anl_pad_unmatched = True,\n",
    "                    res_match = ['ifl', 'oct', 'tjy'], res_pad_unmatched = True)\n",
    "sdata.keys()"
   ]
  },
  {
   "cell_type": "code",
   "execution_count": 14,
   "metadata": {},
   "outputs": [
    {
     "data": {
      "text/plain": [
       "Text(0, 0.5, 'r (kpc/h)')"
      ]
     },
     "execution_count": 14,
     "metadata": {},
     "output_type": "execute_result"
    },
    {
     "data": {
      "image/png": "[encoded data removed]",
      "text/plain": [
       "<Figure size 432x288 with 1 Axes>"
      ]
     },
     "metadata": {
      "needs_background": "light"
     },
     "output_type": "display_data"
    }
   ],
   "source": [
    "#\n",
    "HOI = 69\n",
    "TOI = 18\n",
    "hostr = sdata['halos']['R200m'][HOI]\n",
    "tcrr = sdata['tcr_sho']['res_tjy']['r'][TOI]\n",
    "snaps = np.arange(tcrr.shape[0])\n",
    "alive = tcrr > 0\n",
    "plt.plot(snaps[hostr > 0], hostr[hostr > 0], label = 'host R200m, orig_id:%d'%(sdata['halos']['id'][HOI, sdata['halos']['first_snap'][HOI]]))\n",
    "plt.plot(snaps[tcrr > 0], tcrr[tcrr > 0], label = 'tracer radius')\n",
    "plt.vlines([22], 0, 100, color = 'gray')\n",
    "plt.legend()\n",
    "plt.xlabel('snapshot')\n",
    "plt.ylabel('r (kpc/h)')"
   ]
  },
  {
   "cell_type": "code",
   "execution_count": 25,
   "metadata": {},
   "outputs": [
    {
     "data": {
      "application/vnd.plotly.v1+json": {
       "config": {
        "plotlyServerURL": "https://plot.ly"
       },
       "data": [
        {
         "customdata": [
          [
           13
          ],
          [
           13
          ],
          [
           13
          ],
          [
           13
          ],
          [
           13
          ],
          [
           13
          ],
          [
           13
          ],
          [
           13
          ],
          [
           13
          ],
          [
           13
          ],
          [
           13
          ],
          [
           13
          ]
         ],
         "mode": "lines",
         "type": "scatter3d",
         "x": [
          -4.906265735626221,
          35.959083557128906,
          30.746366500854492,
          28.272380828857422,
          25.998279571533203,
          23.058868408203125,
          22.344640731811523,
          20.013931274414062,
          15.532919883728027,
          13.256913185119629,
          -1.3479070663452148,
          -0.15107697248458862
         ],
         "y": [
          7.254641056060791,
          -25.476465225219727,
          -25.4937686920166,
          -20.472993850708008,
          -19.28780174255371,
          -19.619482040405273,
          -18.86346435546875,
          -17.651641845703125,
          -18.360368728637695,
          -19.525432586669922,
          4.019804000854492,
          4.211126327514648
         ],
         "z": [
          -10.29285717010498,
          33.22090530395508,
          27.428396224975586,
          24.626232147216797,
          23.48482322692871,
          21.90402603149414,
          21.64645767211914,
          21.361539840698242,
          19.10291290283203,
          16.305688858032227,
          -2.5944504737854004,
          -1.5903445482254028
         ]
        },
        {
         "customdata": [
          [
           16
          ],
          [
           16
          ],
          [
           16
          ],
          [
           16
          ],
          [
           16
          ],
          [
           16
          ],
          [
           16
          ],
          [
           16
          ],
          [
           16
          ],
          [
           16
          ],
          [
           16
          ],
          [
           16
          ],
          [
           16
          ],
          [
           16
          ],
          [
           16
          ],
          [
           16
          ],
          [
           16
          ],
          [
           16
          ],
          [
           16
          ],
          [
           16
          ],
          [
           16
          ],
          [
           16
          ],
          [
           16
          ],
          [
           16
          ],
          [
           16
          ],
          [
           16
          ],
          [
           16
          ],
          [
           16
          ],
          [
           16
          ],
          [
           16
          ],
          [
           16
          ],
          [
           16
          ],
          [
           16
          ],
          [
           16
          ],
          [
           16
          ],
          [
           16
          ],
          [
           16
          ],
          [
           16
          ],
          [
           16
          ],
          [
           16
          ],
          [
           16
          ],
          [
           16
          ],
          [
           16
          ],
          [
           16
          ],
          [
           16
          ],
          [
           16
          ],
          [
           16
          ],
          [
           16
          ],
          [
           16
          ],
          [
           16
          ],
          [
           16
          ],
          [
           16
          ],
          [
           16
          ],
          [
           16
          ],
          [
           16
          ],
          [
           16
          ],
          [
           16
          ],
          [
           16
          ],
          [
           16
          ],
          [
           16
          ],
          [
           16
          ],
          [
           16
          ],
          [
           16
          ],
          [
           16
          ],
          [
           16
          ],
          [
           16
          ],
          [
           16
          ],
          [
           16
          ],
          [
           16
          ],
          [
           16
          ],
          [
           16
          ],
          [
           16
          ],
          [
           16
          ],
          [
           16
          ],
          [
           16
          ],
          [
           16
          ],
          [
           16
          ],
          [
           16
          ],
          [
           16
          ],
          [
           16
          ],
          [
           16
          ],
          [
           16
          ],
          [
           16
          ],
          [
           16
          ],
          [
           16
          ],
          [
           16
          ],
          [
           16
          ],
          [
           16
          ],
          [
           16
          ],
          [
           16
          ],
          [
           16
          ],
          [
           16
          ],
          [
           16
          ],
          [
           16
          ],
          [
           16
          ],
          [
           16
          ],
          [
           16
          ],
          [
           16
          ],
          [
           16
          ],
          [
           16
          ],
          [
           16
          ],
          [
           16
          ],
          [
           16
          ],
          [
           16
          ],
          [
           16
          ],
          [
           16
          ],
          [
           16
          ],
          [
           16
          ],
          [
           16
          ],
          [
           16
          ],
          [
           16
          ],
          [
           16
          ],
          [
           16
          ],
          [
           16
          ],
          [
           16
          ],
          [
           16
          ],
          [
           16
          ],
          [
           16
          ],
          [
           16
          ],
          [
           16
          ],
          [
           16
          ],
          [
           16
          ],
          [
           16
          ],
          [
           16
          ],
          [
           16
          ],
          [
           16
          ],
          [
           16
          ],
          [
           16
          ],
          [
           16
          ],
          [
           16
          ],
          [
           16
          ],
          [
           16
          ],
          [
           16
          ],
          [
           16
          ],
          [
           16
          ],
          [
           16
          ],
          [
           16
          ],
          [
           16
          ],
          [
           16
          ],
          [
           16
          ],
          [
           16
          ],
          [
           16
          ],
          [
           16
          ],
          [
           16
          ],
          [
           16
          ],
          [
           16
          ],
          [
           16
          ],
          [
           16
          ],
          [
           16
          ],
          [
           16
          ],
          [
           16
          ],
          [
           16
          ],
          [
           16
          ],
          [
           16
          ],
          [
           16
          ],
          [
           16
          ],
          [
           16
          ],
          [
           16
          ],
          [
           16
          ],
          [
           16
          ],
          [
           16
          ],
          [
           16
          ],
          [
           16
          ],
          [
           16
          ],
          [
           16
          ],
          [
           16
          ],
          [
           16
          ],
          [
           16
          ],
          [
           16
          ],
          [
           16
          ],
          [
           16
          ],
          [
           16
          ],
          [
           16
          ],
          [
           16
          ],
          [
           16
          ],
          [
           16
          ],
          [
           16
          ],
          [
           16
          ],
          [
           16
          ],
          [
           16
          ],
          [
           16
          ],
          [
           16
          ],
          [
           16
          ],
          [
           16
          ],
          [
           16
          ],
          [
           16
          ],
          [
           16
          ],
          [
           16
          ],
          [
           16
          ],
          [
           16
          ],
          [
           16
          ],
          [
           16
          ],
          [
           16
          ]
         ],
         "type": "surface",
         "x": [
          [
           0,
           -0.1645945902807339,
           -0.32469946920468346,
           -0.4759473930370735,
           -0.6142127126896678,
           -0.7357239106731316,
           -0.8371664782625285,
           -0.9157733266550574,
           -0.9694002659393304,
           -0.9965844930066698,
           -0.9965844930066698,
           -0.9694002659393304,
           -0.9157733266550575,
           -0.8371664782625288,
           -0.7357239106731317,
           -0.6142127126896679,
           -0.4759473930370737,
           -0.3246994692046836,
           -0.16459459028073403,
           -1.2246467991473532e-16
          ],
          [
           0,
           -0.16246313356537806,
           -0.3204946963568737,
           -0.46978399929907333,
           -0.6062588193758816,
           -0.7261964792589068,
           -0.8263253922406854,
           -0.9039143025916696,
           -0.9568467870966786,
           -0.9836789855631047,
           -0.9836789855631047,
           -0.9568467870966786,
           -0.9039143025916697,
           -0.8263253922406856,
           -0.726196479258907,
           -0.6062588193758817,
           -0.4697839992990735,
           -0.3204946963568739,
           -0.16246313356537817,
           -1.2087879447370743e-16
          ],
          [
           0,
           -0.15612396702863554,
           -0.3079892792215372,
           -0.45145344674540533,
           -0.5826031410933619,
           -0.6978609404853318,
           -0.7940829126085611,
           -0.8686443728954891,
           -0.919511479076709,
           -0.9452967090962465,
           -0.9452967090962465,
           -0.919511479076709,
           -0.8686443728954892,
           -0.7940829126085613,
           -0.6978609404853319,
           -0.582603141093362,
           -0.45145344674540544,
           -0.30798927922153735,
           -0.15612396702863568,
           -1.161622117505191e-16
          ],
          [
           0,
           -0.1457412717539971,
           -0.28750710153368586,
           -0.42143048705861336,
           -0.5438583474838702,
           -0.6514511699226683,
           -0.7412741026524329,
           -0.8108770102192059,
           -0.8583613067458042,
           -0.882431744405305,
           -0.882431744405305,
           -0.8583613067458042,
           -0.810877010219206,
           -0.7412741026524331,
           -0.6514511699226684,
           -0.5438583474838703,
           -0.42143048705861347,
           -0.28750710153368597,
           -0.1457412717539972,
           -1.0843708876019402e-16
          ],
          [
           0,
           -0.13158395409529697,
           -0.2595786409366422,
           -0.3804926991242503,
           -0.4910279083501888,
           -0.588169156250559,
           -0.6692666828109729,
           -0.7321083589123363,
           -0.7749800274466272,
           -0.7967122610543294,
           -0.7967122610543294,
           -0.7749800274466272,
           -0.7321083589123364,
           -0.6692666828109731,
           -0.5881691562505591,
           -0.49102790835018884,
           -0.3804926991242505,
           -0.2595786409366423,
           -0.13158395409529708,
           -9.790350213036125e-17
          ],
          [
           0,
           -0.11401868114339879,
           -0.22492722988972447,
           -0.329700350146186,
           -0.4254801043153275,
           -0.5096538703825993,
           -0.5799256074343183,
           -0.6343784856684599,
           -0.6715271725148565,
           -0.6903583486357373,
           -0.6903583486357373,
           -0.6715271725148565,
           -0.63437848566846,
           -0.5799256074343184,
           -0.5096538703825995,
           -0.42548010431532757,
           -0.3297003501461861,
           -0.22492722988972458,
           -0.11401868114339889,
           -8.483426622169505e-17
          ],
          [
           0,
           -0.09350038424114347,
           -0.18445032173749926,
           -0.2703689352829591,
           -0.3489125890731124,
           -0.4179388169805881,
           -0.475564763446017,
           -0.5202185428694533,
           -0.5506821165519409,
           -0.5661245176160313,
           -0.5661245176160313,
           -0.5506821165519409,
           -0.5202185428694533,
           -0.47556476344601717,
           -0.41793881698058816,
           -0.34891258907311246,
           -0.2703689352829592,
           -0.18445032173749937,
           -0.09350038424114356,
           -6.95678673792762e-17
          ],
          [
           0,
           -0.07056047650053407,
           -0.13919624713956788,
           -0.20403510701416921,
           -0.26330842104925195,
           -0.31539936775193667,
           -0.35888704188713766,
           -0.3925852130683524,
           -0.41557468303033346,
           -0.4272283589615935,
           -0.4272283589615935,
           -0.41557468303033346,
           -0.3925852130683525,
           -0.35888704188713777,
           -0.3153993677519367,
           -0.26330842104925195,
           -0.2040351070141693,
           -0.13919624713956794,
           -0.07056047650053413,
           -5.2499697314053056e-17
          ],
          [
           0,
           -0.045793089482273404,
           -0.09033706285714538,
           -0.13241687664842175,
           -0.1708847032297642,
           -0.2046912405701735,
           -0.23291433445806886,
           -0.2547841324643033,
           -0.26970408350957537,
           -0.2772672102227795,
           -0.2772672102227795,
           -0.26970408350957537,
           -0.25478413246430337,
           -0.23291433445806892,
           -0.20469124057017352,
           -0.17088470322976423,
           -0.1324168766484218,
           -0.09033706285714542,
           -0.045793089482273446,
           -3.407181266521781e-17
          ],
          [
           0,
           -0.019839685500424753,
           -0.0391381960985981,
           -0.057369118732864384,
           -0.0740351613582292,
           -0.08868171777700325,
           -0.1009092681108054,
           -0.11038427666137432,
           -0.11684828989495437,
           -0.12012498638095837,
           -0.12012498638095837,
           -0.11684828989495437,
           -0.11038427666137433,
           -0.10090926811080543,
           -0.08868171777700326,
           -0.07403516135822921,
           -0.057369118732864405,
           -0.03913819609859812,
           -0.01983968550042477,
           -1.4761485965452956e-17
          ],
          [
           0,
           0.006627555914577715,
           0.013074329380554592,
           0.019164469223262957,
           0.024731852303603426,
           0.029624614924228836,
           0.03370929527532877,
           0.03687447392489219,
           0.03903381305036396,
           0.04012841150937818,
           0.04012841150937818,
           0.03903381305036396,
           0.036874473924892195,
           0.033709295275328774,
           0.02962461492422884,
           0.02473185230360343,
           0.019164469223262964,
           0.013074329380554599,
           0.00662755591457772,
           4.9311554669653986e-18
          ],
          [
           0,
           0.03292314711268756,
           0.06494823659638016,
           0.09520170749314029,
           0.122858323981817,
           0.1471636856600176,
           0.16745480562051002,
           0.18317819500577392,
           0.19390496074119645,
           0.19934250462010655,
           0.19934250462010655,
           0.19390496074119645,
           0.18317819500577395,
           0.16745480562051007,
           0.14716368566001764,
           0.12285832398181702,
           0.09520170749314032,
           0.06494823659638019,
           0.03292314711268759,
           2.4496082563006136e-17
          ],
          [
           0,
           0.05836604609431205,
           0.115140018600098,
           0.16877327154610067,
           0.21780282960340894,
           0.26089129423873825,
           0.2968633244600811,
           0.32473769705508354,
           0.34375407180242007,
           0.35339373157097265,
           0.35339373157097265,
           0.34375407180242007,
           0.3247376970550836,
           0.29686332446008123,
           0.2608912942387383,
           0.21780282960340897,
           0.16877327154610072,
           0.11514001860009805,
           0.0583660460943121,
           4.342657398786498e-17
          ],
          [
           0,
           0.0822972951403669,
           0.16234973460234164,
           0.23797369651853664,
           0.3071063563448338,
           0.3678619553365656,
           0.4185832391312641,
           0.4578866633275285,
           0.48470013296966497,
           0.4982922465033347,
           0.4982922465033347,
           0.48470013296966497,
           0.45788666332752853,
           0.4185832391312642,
           0.3678619553365657,
           0.30710635634483385,
           0.23797369651853673,
           0.16234973460234173,
           0.08229729514036697,
           6.123233995736764e-17
          ],
          [
           0,
           0.10409708747106597,
           0.20535467775677563,
           0.30101072775297255,
           0.3884559897724724,
           0.46530518502016843,
           0.529462067780604,
           0.5791766055365858,
           0.6130927152942584,
           0.6302852539921319,
           0.6302852539921319,
           0.6130927152942584,
           0.5791766055365859,
           0.5294620677806041,
           0.4653051850201685,
           0.38845598977247253,
           0.30101072775297266,
           0.20535467775677574,
           0.10409708747106605,
           7.745222048584242e-17
          ],
          [
           0,
           0.12320081991594793,
           0.24304104262515694,
           0.3562517392522649,
           0.4597448171115447,
           0.550697254825314,
           0.6266281069880509,
           0.685466177889715,
           0.7256065183355124,
           0.7459542044761397,
           0.7459542044761397,
           0.7256065183355124,
           0.6854661778897151,
           0.626628106988051,
           0.550697254825314,
           0.45974481711154475,
           0.356251739252265,
           0.24304104262515705,
           0.12320081991594804,
           9.166612918751292e-17
          ],
          [
           0,
           0.1391137158394193,
           0.2744327721531311,
           0.4022660178353502,
           0.5191264951802664,
           0.6218265549984392,
           0.7075648073771038,
           0.7740025362943134,
           0.8193274936954399,
           0.8423033328959264,
           0.8423033328959264,
           0.8193274936954399,
           0.7740025362943134,
           0.7075648073771039,
           0.6218265549984393,
           0.5191264951802665,
           0.4022660178353503,
           0.2744327721531313,
           0.13911371583941942,
           1.0350593329322857e-16
          ],
          [
           0,
           0.1514236395957217,
           0.2987168370352402,
           0.43786181785711464,
           0.5650630697084178,
           0.676850874027562,
           0.7701759509217782,
           0.8424926355737105,
           0.8918283173415814,
           0.9168372474352875,
           0.9168372474352875,
           0.8918283173415814,
           0.8424926355737105,
           0.7701759509217784,
           0.6768508740275622,
           0.5650630697084179,
           0.4378618178571148,
           0.2987168370352404,
           0.1514236395957218,
           1.126649880958142e-16
          ],
          [
           0,
           0.15981177062567214,
           0.31526429274686973,
           0.4621172267946076,
           0.5963648075450915,
           0.7143451109527726,
           0.8128399418923868,
           0.8891626181327629,
           0.9412312560244315,
           0.9676255588585165,
           0.9676255588585165,
           0.9412312560244315,
           0.889162618132763,
           0.8128399418923871,
           0.7143451109527728,
           0.5963648075450916,
           0.46211722679460776,
           0.3152642927468699,
           0.15981177062567228,
           1.1890607888691283e-16
          ],
          [
           0,
           0.1640608607416775,
           0.32364656887706705,
           0.4744040422971282,
           0.6122210101223642,
           0.7333381847325245,
           0.8344518053331546,
           0.9128037559378055,
           0.9662567995822742,
           0.9933528765776246,
           0.9933528765776246,
           0.9662567995822742,
           0.9128037559378056,
           0.8344518053331548,
           0.7333381847325247,
           0.6122210101223643,
           0.47440404229712835,
           0.3236465688770672,
           0.16406086074167764,
           1.2206756469332921e-16
          ],
          [
           0,
           0.16406086074167753,
           0.3236465688770671,
           0.47440404229712824,
           0.6122210101223643,
           0.7333381847325247,
           0.8344518053331547,
           0.9128037559378056,
           0.9662567995822743,
           0.9933528765776247,
           0.9933528765776247,
           0.9662567995822743,
           0.9128037559378057,
           0.8344518053331549,
           0.7333381847325248,
           0.6122210101223644,
           0.4744040422971284,
           0.3236465688770673,
           0.16406086074167767,
           1.2206756469332924e-16
          ],
          [
           0,
           0.15981177062567217,
           0.3152642927468698,
           0.4621172267946077,
           0.5963648075450917,
           0.7143451109527728,
           0.8128399418923871,
           0.8891626181327631,
           0.9412312560244317,
           0.9676255588585168,
           0.9676255588585168,
           0.9412312560244317,
           0.8891626181327632,
           0.8128399418923873,
           0.7143451109527729,
           0.5963648075450918,
           0.46211722679460787,
           0.31526429274686996,
           0.1598117706256723,
           1.1890607888691286e-16
          ],
          [
           0,
           0.1514236395957217,
           0.2987168370352402,
           0.43786181785711464,
           0.5650630697084178,
           0.676850874027562,
           0.7701759509217782,
           0.8424926355737105,
           0.8918283173415814,
           0.9168372474352875,
           0.9168372474352875,
           0.8918283173415814,
           0.8424926355737105,
           0.7701759509217784,
           0.6768508740275622,
           0.5650630697084179,
           0.4378618178571148,
           0.2987168370352404,
           0.1514236395957218,
           1.126649880958142e-16
          ],
          [
           0,
           0.13911371583941937,
           0.2744327721531313,
           0.4022660178353504,
           0.5191264951802668,
           0.6218265549984395,
           0.7075648073771041,
           0.7740025362943137,
           0.8193274936954403,
           0.8423033328959268,
           0.8423033328959268,
           0.8193274936954403,
           0.7740025362943138,
           0.7075648073771044,
           0.6218265549984396,
           0.5191264951802669,
           0.40226601783535054,
           0.2744327721531314,
           0.1391137158394195,
           1.0350593329322863e-16
          ],
          [
           0,
           0.123200819915948,
           0.24304104262515708,
           0.3562517392522651,
           0.45974481711154497,
           0.5506972548253142,
           0.6266281069880513,
           0.6854661778897153,
           0.7256065183355127,
           0.7459542044761401,
           0.7459542044761401,
           0.7256065183355127,
           0.6854661778897154,
           0.6266281069880514,
           0.5506972548253143,
           0.459744817111545,
           0.3562517392522652,
           0.24304104262515722,
           0.12320081991594811,
           9.166612918751298e-17
          ],
          [
           0,
           0.10409708747106605,
           0.20535467775677582,
           0.30101072775297283,
           0.3884559897724728,
           0.4653051850201688,
           0.5294620677806045,
           0.5791766055365863,
           0.6130927152942588,
           0.6302852539921324,
           0.6302852539921324,
           0.6130927152942588,
           0.5791766055365863,
           0.5294620677806047,
           0.46530518502016893,
           0.38845598977247286,
           0.30101072775297294,
           0.2053546777567759,
           0.10409708747106615,
           7.745222048584248e-17
          ],
          [
           0,
           0.08229729514036702,
           0.16234973460234187,
           0.23797369651853698,
           0.3071063563448342,
           0.3678619553365661,
           0.41858323913126466,
           0.4578866633275291,
           0.48470013296966563,
           0.49829224650333537,
           0.49829224650333537,
           0.48470013296966563,
           0.45788666332752914,
           0.4185832391312648,
           0.3678619553365662,
           0.30710635634483424,
           0.23797369651853706,
           0.16234973460234195,
           0.08229729514036709,
           6.123233995736771e-17
          ],
          [
           0,
           0.05836604609431212,
           0.11514001860009813,
           0.1687732715461009,
           0.21780282960340921,
           0.2608912942387386,
           0.2968633244600815,
           0.324737697055084,
           0.3437540718024205,
           0.3533937315709731,
           0.3533937315709731,
           0.3437540718024205,
           0.324737697055084,
           0.2968633244600816,
           0.26089129423873864,
           0.21780282960340924,
           0.16877327154610094,
           0.1151400186000982,
           0.05836604609431217,
           4.3426573987865036e-17
          ],
          [
           0,
           0.0329231471126876,
           0.06494823659638023,
           0.0952017074931404,
           0.12285832398181716,
           0.1471636856600178,
           0.16745480562051024,
           0.18317819500577417,
           0.1939049607411967,
           0.1993425046201068,
           0.1993425046201068,
           0.1939049607411967,
           0.1831781950057742,
           0.16745480562051027,
           0.14716368566001783,
           0.12285832398181717,
           0.09520170749314044,
           0.06494823659638027,
           0.03292314711268763,
           2.4496082563006167e-17
          ],
          [
           0,
           0.006627555914577754,
           0.013074329380554668,
           0.019164469223263068,
           0.02473185230360357,
           0.02962461492422901,
           0.03370929527532896,
           0.036874473924892404,
           0.039033813050364186,
           0.04012841150937842,
           0.04012841150937842,
           0.039033813050364186,
           0.03687447392489241,
           0.033709295275328975,
           0.029624614924229013,
           0.024731852303603575,
           0.019164469223263075,
           0.013074329380554675,
           0.006627555914577759,
           4.931155466965427e-18
          ],
          [
           0,
           -0.019839685500424604,
           -0.03913819609859781,
           -0.057369118732863954,
           -0.07403516135822864,
           -0.08868171777700258,
           -0.10090926811080465,
           -0.1103842766613735,
           -0.1168482898949535,
           -0.12012498638095748,
           -0.12012498638095748,
           -0.1168482898949535,
           -0.11038427666137351,
           -0.10090926811080468,
           -0.0886817177770026,
           -0.07403516135822866,
           -0.057369118732863975,
           -0.03913819609859783,
           -0.01983968550042462,
           -1.4761485965452845e-17
          ],
          [
           0,
           -0.04579308948227329,
           -0.09033706285714516,
           -0.13241687664842144,
           -0.1708847032297638,
           -0.204691240570173,
           -0.2329143344580683,
           -0.2547841324643027,
           -0.2697040835095747,
           -0.27726721022277884,
           -0.27726721022277884,
           -0.2697040835095747,
           -0.25478413246430276,
           -0.23291433445806836,
           -0.20469124057017304,
           -0.17088470322976385,
           -0.13241687664842147,
           -0.09033706285714521,
           -0.045793089482273334,
           -3.4071812665217726e-17
          ],
          [
           0,
           -0.070560476500534,
           -0.13919624713956774,
           -0.20403510701416902,
           -0.2633084210492517,
           -0.31539936775193633,
           -0.3588870418871373,
           -0.39258521306835203,
           -0.41557468303033307,
           -0.42722835896159306,
           -0.42722835896159306,
           -0.41557468303033307,
           -0.3925852130683521,
           -0.3588870418871374,
           -0.3153993677519364,
           -0.2633084210492517,
           -0.20403510701416908,
           -0.1391962471395678,
           -0.07056047650053406,
           -5.2499697314053e-17
          ],
          [
           0,
           -0.09350038424114342,
           -0.18445032173749917,
           -0.2703689352829589,
           -0.3489125890731122,
           -0.4179388169805878,
           -0.4755647634460167,
           -0.520218542869453,
           -0.5506821165519405,
           -0.566124517616031,
           -0.566124517616031,
           -0.5506821165519405,
           -0.520218542869453,
           -0.4755647634460169,
           -0.4179388169805879,
           -0.34891258907311223,
           -0.270368935282959,
           -0.18445032173749926,
           -0.0935003842411435,
           -6.956786737927616e-17
          ],
          [
           0,
           -0.11401868114339876,
           -0.22492722988972438,
           -0.32970035014618587,
           -0.4254801043153274,
           -0.5096538703825992,
           -0.5799256074343181,
           -0.6343784856684597,
           -0.6715271725148563,
           -0.6903583486357371,
           -0.6903583486357371,
           -0.6715271725148563,
           -0.6343784856684598,
           -0.5799256074343182,
           -0.5096538703825993,
           -0.42548010431532746,
           -0.329700350146186,
           -0.2249272298897245,
           -0.11401868114339886,
           -8.483426622169503e-17
          ],
          [
           0,
           -0.13158395409529686,
           -0.259578640936642,
           -0.3804926991242501,
           -0.4910279083501884,
           -0.5881691562505585,
           -0.6692666828109725,
           -0.7321083589123357,
           -0.7749800274466266,
           -0.7967122610543288,
           -0.7967122610543288,
           -0.7749800274466266,
           -0.7321083589123358,
           -0.6692666828109727,
           -0.5881691562505587,
           -0.4910279083501885,
           -0.3804926991242502,
           -0.2595786409366421,
           -0.13158395409529697,
           -9.790350213036119e-17
          ],
          [
           0,
           -0.14574127175399704,
           -0.28750710153368575,
           -0.4214304870586132,
           -0.54385834748387,
           -0.651451169922668,
           -0.7412741026524325,
           -0.8108770102192056,
           -0.8583613067458039,
           -0.8824317444053047,
           -0.8824317444053047,
           -0.8583613067458039,
           -0.8108770102192057,
           -0.7412741026524328,
           -0.6514511699226682,
           -0.5438583474838701,
           -0.4214304870586133,
           -0.28750710153368586,
           -0.14574127175399715,
           -1.0843708876019398e-16
          ],
          [
           0,
           -0.1561239670286355,
           -0.3079892792215371,
           -0.4514534467454053,
           -0.5826031410933618,
           -0.6978609404853316,
           -0.794082912608561,
           -0.868644372895489,
           -0.9195114790767089,
           -0.9452967090962464,
           -0.9452967090962464,
           -0.9195114790767089,
           -0.8686443728954891,
           -0.7940829126085612,
           -0.6978609404853318,
           -0.5826031410933619,
           -0.45145344674540544,
           -0.3079892792215373,
           -0.15612396702863565,
           -1.1616221175051907e-16
          ],
          [
           0,
           -0.16246313356537806,
           -0.3204946963568737,
           -0.46978399929907333,
           -0.6062588193758816,
           -0.7261964792589068,
           -0.8263253922406854,
           -0.9039143025916696,
           -0.9568467870966786,
           -0.9836789855631047,
           -0.9836789855631047,
           -0.9568467870966786,
           -0.9039143025916697,
           -0.8263253922406856,
           -0.726196479258907,
           -0.6062588193758817,
           -0.4697839992990735,
           -0.3204946963568739,
           -0.16246313356537817,
           -1.2087879447370743e-16
          ],
          [
           0,
           -0.1645945902807339,
           -0.32469946920468346,
           -0.4759473930370735,
           -0.6142127126896678,
           -0.7357239106731316,
           -0.8371664782625285,
           -0.9157733266550574,
           -0.9694002659393304,
           -0.9965844930066698,
           -0.9965844930066698,
           -0.9694002659393304,
           -0.9157733266550575,
           -0.8371664782625288,
           -0.7357239106731317,
           -0.6142127126896679,
           -0.4759473930370737,
           -0.3246994692046836,
           -0.16459459028073403,
           -1.2246467991473532e-16
          ]
         ],
         "y": [
          [
           0,
           0,
           0,
           0,
           0,
           0,
           0,
           0,
           0,
           0,
           0,
           0,
           0,
           0,
           0,
           0,
           0,
           0,
           0,
           0
          ],
          [
           0,
           -0.02640282904919078,
           -0.05208545774895815,
           -0.0763473309379888,
           -0.0985266479616691,
           -0.11801841486875742,
           -0.1342909470692725,
           -0.14690037230410982,
           -0.1555027383231814,
           -0.15986339500618152,
           -0.15986339500618152,
           -0.1555027383231814,
           -0.14690037230410985,
           -0.13429094706927253,
           -0.11801841486875744,
           -0.09852664796166911,
           -0.07634733093798883,
           -0.052085457748958175,
           -0.0264028290491908,
           -1.964471616495832e-17
          ],
          [
           0,
           -0.052121838694775345,
           -0.10282192950145011,
           -0.15071730610809098,
           -0.19450150749479733,
           -0.23298021478463432,
           -0.2651038291492389,
           -0.28999610212875754,
           -0.30697803740562163,
           -0.3155864120540797,
           -0.3155864120540797,
           -0.30697803740562163,
           -0.2899961021287576,
           -0.265103829149239,
           -0.23298021478463435,
           -0.19450150749479736,
           -0.15071730610809103,
           -0.10282192950145015,
           -0.05212183869477539,
           -3.878064450013872e-17
          ],
          [
           0,
           -0.07649092009650708,
           -0.1508953672897284,
           -0.22118378221815102,
           -0.28543888015075025,
           -0.3419079495164639,
           -0.3890506613068728,
           -0.42558108523621246,
           -0.45050276656739835,
           -0.46313590679969047,
           -0.46313590679969047,
           -0.45050276656739835,
           -0.4255810852362125,
           -0.38905066130687294,
           -0.34190794951646397,
           -0.2854388801507503,
           -0.2211837822181511,
           -0.1508953672897285,
           -0.07649092009650715,
           -5.691217451330058e-17
          ],
          [
           0,
           -0.0988789268465705,
           -0.1950606943268914,
           -0.28592171455125476,
           -0.3689835357449422,
           -0.44198044795179753,
           -0.502921285695566,
           -0.5501437417835053,
           -0.5823597107132922,
           -0.598690424833285,
           -0.598690424833285,
           -0.5823597107132922,
           -0.5501437417835054,
           -0.5029212856955663,
           -0.44198044795179764,
           -0.36898353574494225,
           -0.28592171455125487,
           -0.19506069432689152,
           -0.09887892684657058,
           -7.356970910115742e-17
          ],
          [
           0,
           -0.11870602133001767,
           -0.23417405184165518,
           -0.3432544246652457,
           -0.44297171158147153,
           -0.5306058849468244,
           -0.6037665129571377,
           -0.6604579643958137,
           -0.6991338442511895,
           -0.7187391753413047,
           -0.7187391753413047,
           -0.6991338442511895,
           -0.6604579643958138,
           -0.6037665129571379,
           -0.5306058849468245,
           -0.4429717115814716,
           -0.3432544246652458,
           -0.2341740518416553,
           -0.11870602133001779,
           -8.832182686768398e-17
          ],
          [
           0,
           -0.1354586922144208,
           -0.26722242441968863,
           -0.39169702548365826,
           -0.5054871527703725,
           -0.605488908236173,
           -0.6889745046770733,
           -0.7536666726528733,
           -0.7978007784610887,
           -0.8201729587442986,
           -0.8201729587442986,
           -0.7978007784610887,
           -0.7536666726528733,
           -0.6889745046770736,
           -0.6054889082361731,
           -0.5054871527703726,
           -0.39169702548365837,
           -0.26722242441968874,
           -0.13545869221442092,
           -1.0078645571165809e-16
          ],
          [
           0,
           -0.14870305412364682,
           -0.2933498765707317,
           -0.42999487909102246,
           -0.5549107422227022,
           -0.6646900868508907,
           -0.7563384186275245,
           -0.8273558099711071,
           -0.8758050915743081,
           -0.9003646933328433,
           -0.9003646933328433,
           -0.8758050915743081,
           -0.8273558099711072,
           -0.7563384186275247,
           -0.6646900868508908,
           -0.5549107422227023,
           -0.42999487909102263,
           -0.29334987657073186,
           -0.14870305412364695,
           -1.1064076829338897e-16
          ],
          [
           0,
           -0.15809608504118994,
           -0.31187972100819145,
           -0.4571560911958444,
           -0.5899624349326623,
           -0.7066761413618048,
           -0.8041135648218102,
           -0.8796168664010955,
           -0.9311265128549957,
           -0.957237455303875,
           -0.957237455303875,
           -0.9311265128549957,
           -0.8796168664010956,
           -0.8041135648218104,
           -0.7066761413618049,
           -0.5899624349326624,
           -0.45715609119584455,
           -0.3118797210081916,
           -0.15809608504119008,
           -1.1762954309324202e-16
          ],
          [
           0,
           -0.16339451040021785,
           -0.32233204449441705,
           -0.4724772006717372,
           -0.6097344104708716,
           -0.7303596550113417,
           -0.8310625920686276,
           -0.9090963080327714,
           -0.9623322465509867,
           -0.9893182699962312,
           -0.9893182699962312,
           -0.9623322465509867,
           -0.9090963080327715,
           -0.8310625920686279,
           -0.7303596550113418,
           -0.6097344104708717,
           -0.4724772006717374,
           -0.3223320444944172,
           -0.163394510400218,
           -1.2157177451493547e-16
          ],
          [
           0,
           -0.1644611037670665,
           -0.3244361373414681,
           -0.4755613988310838,
           -0.6137145850566313,
           -0.7351272372363558,
           -0.8364875347179571,
           -0.9150306328127125,
           -0.9686140805511727,
           -0.9957762611606562,
           -0.9957762611606562,
           -0.9686140805511727,
           -0.9150306328127126,
           -0.8364875347179573,
           -0.7351272372363559,
           -0.6137145850566315,
           -0.47556139883108395,
           -0.32443613734146826,
           -0.16446110376706663,
           -1.2236536083540634e-16
          ],
          [
           0,
           -0.16126824093379016,
           -0.31813750464983503,
           -0.4663288065616117,
           -0.6017998742588596,
           -0.7208554101615147,
           -0.8202478896047718,
           -0.8972661448462753,
           -0.9498093186546442,
           -0.9764441702182178,
           -0.9764441702182178,
           -0.9498093186546442,
           -0.8972661448462754,
           -0.820247889604772,
           -0.7208554101615148,
           -0.6017998742588597,
           -0.46632880656161185,
           -0.3181375046498352,
           -0.1612682409337903,
           -1.1998974858580612e-16
          ],
          [
           0,
           -0.15389861537063712,
           -0.3035992776977117,
           -0.4450185431534429,
           -0.5742988628287095,
           -0.6879138066114113,
           -0.7827642550072106,
           -0.856262935040535,
           -0.9064049943168347,
           -0.9318226881696456,
           -0.9318226881696456,
           -0.9064049943168347,
           -0.8562629350405351,
           -0.7827642550072108,
           -0.6879138066114114,
           -0.5742988628287096,
           -0.445018543153443,
           -0.3035992776977119,
           -0.15389861537063726,
           -1.1450646487554783e-16
          ],
          [
           0,
           -0.14254309650860683,
           -0.28119798892657893,
           -0.4121825332350826,
           -0.531923812516605,
           -0.6371555968145651,
           -0.7250074373721029,
           -0.7930829649914649,
           -0.8395252567388509,
           -0.8630674879614115,
           -0.8630674879614115,
           -0.8395252567388509,
           -0.7930829649914649,
           -0.725007437372103,
           -0.6371555968145652,
           -0.5319238125166051,
           -0.41218253323508275,
           -0.2811979889265791,
           -0.14254309650860697,
           -1.0605752387249072e-16
          ],
          [
           0,
           -0.12749578632144634,
           -0.25151381994875355,
           -0.36867121221545407,
           -0.4757722148670404,
           -0.5698953917426539,
           -0.648473307937938,
           -0.7093625627364251,
           -0.7509022559936533,
           -0.7719592931634641,
           -0.7719592931634641,
           -0.7509022559936533,
           -0.7093625627364252,
           -0.6484733079379382,
           -0.569895391742654,
           -0.47577221486704047,
           -0.36867121221545424,
           -0.2515138199487537,
           -0.12749578632144645,
           -9.48617487105895e-17
          ],
          [
           0,
           -0.10914640223901485,
           -0.21531557514838498,
           -0.3156115004535208,
           -0.40729836676406245,
           -0.4878751953768805,
           -0.555144060455533,
           -0.6072700427175179,
           -0.6428312812490228,
           -0.6608577581641383,
           -0.6608577581641383,
           -0.6428312812490228,
           -0.607270042717518,
           -0.5551440604555331,
           -0.4878751953768806,
           -0.40729836676406256,
           -0.31561150045352093,
           -0.2153155751483851,
           -0.10914640223901494,
           -8.120910408566743e-17
          ],
          [
           0,
           -0.08797018367055941,
           -0.1735407700517397,
           -0.2543776166129328,
           -0.32827570490588115,
           -0.3932192877198919,
           -0.4474368734110843,
           -0.48944954757650005,
           -0.5181113139837744,
           -0.5326403543609658,
           -0.5326403543609658,
           -0.5181113139837744,
           -0.4894495475765001,
           -0.4474368734110844,
           -0.393219287719892,
           -0.3282757049058812,
           -0.2543776166129329,
           -0.1735407700517398,
           -0.08797018367055948,
           -6.545318632210576e-17
          ],
          [
           0,
           -0.06451558355364734,
           -0.12727135016752564,
           -0.18655548612048245,
           -0.24075087472592946,
           -0.2883792070595441,
           -0.3281413063730616,
           -0.358952566249266,
           -0.3799725358376946,
           -0.39062784516294613,
           -0.39062784516294613,
           -0.3799725358376946,
           -0.3589525662492661,
           -0.3281413063730617,
           -0.2883792070595442,
           -0.2407508747259295,
           -0.1865554861204825,
           -0.12727135016752572,
           -0.0645155835536474,
           -4.800206541377804e-17
          ],
          [
           0,
           -0.039390063711172284,
           -0.07770566916653633,
           -0.11390166653059874,
           -0.14699072335119093,
           -0.17607025641498053,
           -0.20034705186467258,
           -0.21915890200528199,
           -0.23199266860380632,
           -0.2384982799625705,
           -0.2384982799625705,
           -0.23199266860380632,
           -0.219158902005282,
           -0.20034705186467264,
           -0.17607025641498056,
           -0.14699072335119096,
           -0.11390166653059879,
           -0.07770566916653637,
           -0.03939006371117232,
           -2.930771622555806e-17
          ],
          [
           0,
           -0.013244361909226048,
           -0.026127452151043146,
           -0.03829785360736431,
           -0.04942358945232989,
           -0.059201178614717985,
           -0.06736391395045133,
           -0.07368913731823402,
           -0.07800431311321966,
           -0.08019173458854482,
           -0.08019173458854482,
           -0.07800431311321966,
           -0.07368913731823402,
           -0.06736391395045134,
           -0.05920117861471799,
           -0.0494235894523299,
           -0.038297853607364325,
           -0.02612745215104316,
           -0.01324436190922606,
           -9.854312581730915e-18
          ],
          [
           0,
           0.013244361909225935,
           0.02612745215104292,
           0.038297853607363985,
           0.04942358945232946,
           0.05920117861471748,
           0.06736391395045074,
           0.07368913731823339,
           0.078004313113219,
           0.08019173458854413,
           0.08019173458854413,
           0.078004313113219,
           0.07368913731823339,
           0.06736391395045076,
           0.059201178614717485,
           0.049423589452329476,
           0.038297853607364,
           0.026127452151042934,
           0.013244361909225946,
           9.854312581730829e-18
          ],
          [
           0,
           0.03939006371117218,
           0.07770566916653612,
           0.11390166653059845,
           0.14699072335119054,
           0.1760702564149801,
           0.20034705186467205,
           0.2191589020052814,
           0.2319926686038057,
           0.23849827996256986,
           0.23849827996256986,
           0.2319926686038057,
           0.21915890200528143,
           0.2003470518646721,
           0.1760702564149801,
           0.14699072335119057,
           0.11390166653059848,
           0.07770566916653616,
           0.039390063711172214,
           2.930771622555798e-17
          ],
          [
           0,
           0.0645155835536473,
           0.12727135016752558,
           0.18655548612048234,
           0.24075087472592932,
           0.288379207059544,
           0.32814130637306144,
           0.35895256624926586,
           0.37997253583769436,
           0.3906278451629459,
           0.3906278451629459,
           0.37997253583769436,
           0.35895256624926586,
           0.3281413063730615,
           0.288379207059544,
           0.24075087472592935,
           0.1865554861204824,
           0.12727135016752564,
           0.06451558355364735,
           4.8002065413778013e-17
          ],
          [
           0,
           0.08797018367055931,
           0.1735407700517395,
           0.25437761661293257,
           0.3282757049058808,
           0.3932192877198915,
           0.44743687341108385,
           0.48944954757649956,
           0.5181113139837739,
           0.5326403543609652,
           0.5326403543609652,
           0.5181113139837739,
           0.4894495475764996,
           0.44743687341108396,
           0.39321928771989156,
           0.32827570490588087,
           0.2543776166129326,
           0.17354077005173962,
           0.0879701836705594,
           6.54531863221057e-17
          ],
          [
           0,
           0.10914640223901477,
           0.21531557514838484,
           0.3156115004535206,
           0.40729836676406217,
           0.4878751953768802,
           0.5551440604555327,
           0.6072700427175175,
           0.6428312812490223,
           0.6608577581641378,
           0.6608577581641378,
           0.6428312812490223,
           0.6072700427175176,
           0.5551440604555328,
           0.4878751953768803,
           0.4072983667640623,
           0.3156115004535207,
           0.21531557514838495,
           0.10914640223901487,
           8.120910408566738e-17
          ],
          [
           0,
           0.12749578632144626,
           0.2515138199487534,
           0.36867121221545385,
           0.47577221486704,
           0.5698953917426536,
           0.6484733079379376,
           0.7093625627364246,
           0.7509022559936528,
           0.7719592931634636,
           0.7719592931634636,
           0.7509022559936528,
           0.7093625627364246,
           0.6484733079379378,
           0.5698953917426536,
           0.47577221486704013,
           0.36867121221545396,
           0.25151381994875355,
           0.12749578632144637,
           9.486174871058944e-17
          ],
          [
           0,
           0.14254309650860678,
           0.2811979889265788,
           0.41218253323508236,
           0.5319238125166048,
           0.6371555968145649,
           0.7250074373721025,
           0.7930829649914645,
           0.8395252567388505,
           0.8630674879614111,
           0.8630674879614111,
           0.8395252567388505,
           0.7930829649914646,
           0.7250074373721027,
           0.6371555968145649,
           0.5319238125166049,
           0.4121825332350825,
           0.28119798892657893,
           0.1425430965086069,
           1.0605752387249065e-16
          ],
          [
           0,
           0.1538986153706371,
           0.30359927769771167,
           0.4450185431534428,
           0.5742988628287093,
           0.6879138066114112,
           0.7827642550072104,
           0.8562629350405347,
           0.9064049943168345,
           0.9318226881696454,
           0.9318226881696454,
           0.9064049943168345,
           0.8562629350405349,
           0.7827642550072106,
           0.6879138066114113,
           0.5742988628287095,
           0.44501854315344297,
           0.3035992776977118,
           0.1538986153706372,
           1.145064648755478e-16
          ],
          [
           0,
           0.16126824093379016,
           0.31813750464983503,
           0.4663288065616117,
           0.6017998742588596,
           0.7208554101615147,
           0.8202478896047718,
           0.8972661448462753,
           0.9498093186546442,
           0.9764441702182178,
           0.9764441702182178,
           0.9498093186546442,
           0.8972661448462754,
           0.820247889604772,
           0.7208554101615148,
           0.6017998742588597,
           0.46632880656161185,
           0.3181375046498352,
           0.1612682409337903,
           1.1998974858580612e-16
          ],
          [
           0,
           0.16446110376706646,
           0.3244361373414681,
           0.4755613988310837,
           0.6137145850566313,
           0.7351272372363558,
           0.836487534717957,
           0.9150306328127124,
           0.9686140805511726,
           0.9957762611606561,
           0.9957762611606561,
           0.9686140805511726,
           0.9150306328127125,
           0.8364875347179572,
           0.7351272372363559,
           0.6137145850566315,
           0.4755613988310839,
           0.32443613734146826,
           0.1644611037670666,
           1.2236536083540631e-16
          ],
          [
           0,
           0.16339451040021785,
           0.3223320444944171,
           0.47247720067173726,
           0.6097344104708717,
           0.7303596550113418,
           0.8310625920686278,
           0.9090963080327715,
           0.9623322465509868,
           0.9893182699962313,
           0.9893182699962313,
           0.9623322465509868,
           0.9090963080327716,
           0.831062592068628,
           0.7303596550113419,
           0.6097344104708718,
           0.47247720067173743,
           0.32233204449441727,
           0.163394510400218,
           1.2157177451493547e-16
          ],
          [
           0,
           0.15809608504118997,
           0.3118797210081915,
           0.4571560911958445,
           0.5899624349326624,
           0.7066761413618049,
           0.8041135648218103,
           0.8796168664010957,
           0.9311265128549959,
           0.9572374553038753,
           0.9572374553038753,
           0.9311265128549959,
           0.8796168664010958,
           0.8041135648218105,
           0.706676141361805,
           0.5899624349326625,
           0.45715609119584466,
           0.31187972100819167,
           0.1580960850411901,
           1.1762954309324205e-16
          ],
          [
           0,
           0.14870305412364687,
           0.29334987657073175,
           0.4299948790910226,
           0.5549107422227023,
           0.6646900868508909,
           0.7563384186275247,
           0.8273558099711074,
           0.8758050915743083,
           0.9003646933328435,
           0.9003646933328435,
           0.8758050915743083,
           0.8273558099711075,
           0.7563384186275249,
           0.664690086850891,
           0.5549107422227024,
           0.42999487909102274,
           0.2933498765707319,
           0.14870305412364698,
           1.10640768293389e-16
          ],
          [
           0,
           0.13545869221442086,
           0.2672224244196887,
           0.39169702548365837,
           0.5054871527703726,
           0.6054889082361731,
           0.6889745046770736,
           0.7536666726528735,
           0.7978007784610889,
           0.8201729587442989,
           0.8201729587442989,
           0.7978007784610889,
           0.7536666726528736,
           0.6889745046770738,
           0.6054889082361732,
           0.5054871527703727,
           0.3916970254836585,
           0.2672224244196888,
           0.13545869221442097,
           1.0078645571165811e-16
          ],
          [
           0,
           0.11870602133001772,
           0.23417405184165527,
           0.3432544246652458,
           0.44297171158147164,
           0.5306058849468245,
           0.6037665129571379,
           0.660457964395814,
           0.6991338442511897,
           0.7187391753413049,
           0.7187391753413049,
           0.6991338442511897,
           0.660457964395814,
           0.6037665129571381,
           0.5306058849468246,
           0.44297171158147175,
           0.3432544246652459,
           0.23417405184165538,
           0.11870602133001781,
           8.832182686768401e-17
          ],
          [
           0,
           0.09887892684657063,
           0.19506069432689166,
           0.28592171455125515,
           0.3689835357449427,
           0.44198044795179814,
           0.5029212856955667,
           0.5501437417835061,
           0.582359710713293,
           0.5986904248332858,
           0.5986904248332858,
           0.582359710713293,
           0.5501437417835062,
           0.5029212856955668,
           0.4419804479517982,
           0.36898353574494275,
           0.28592171455125526,
           0.19506069432689177,
           0.09887892684657071,
           7.356970910115752e-17
          ],
          [
           0,
           0.0764909200965072,
           0.15089536728972863,
           0.22118378221815133,
           0.28543888015075064,
           0.3419079495164644,
           0.3890506613068734,
           0.4255810852362131,
           0.450502766567399,
           0.46313590679969113,
           0.46313590679969113,
           0.450502766567399,
           0.42558108523621313,
           0.3890506613068735,
           0.34190794951646447,
           0.2854388801507507,
           0.2211837822181514,
           0.15089536728972872,
           0.07649092009650726,
           5.691217451330067e-17
          ],
          [
           0,
           0.05212183869477543,
           0.10282192950145026,
           0.15071730610809123,
           0.19450150749479764,
           0.23298021478463468,
           0.26510382914923936,
           0.289996102128758,
           0.30697803740562213,
           0.3155864120540802,
           0.3155864120540802,
           0.30697803740562213,
           0.28999610212875804,
           0.2651038291492394,
           0.23298021478463474,
           0.19450150749479767,
           0.15071730610809128,
           0.10282192950145032,
           0.05212183869477547,
           3.878064450013878e-17
          ],
          [
           0,
           0.02640282904919084,
           0.05208545774895828,
           0.07634733093798898,
           0.09852664796166934,
           0.1180184148687577,
           0.13429094706927283,
           0.14690037230411018,
           0.15550273832318176,
           0.1598633950061819,
           0.1598633950061819,
           0.15550273832318176,
           0.1469003723041102,
           0.13429094706927286,
           0.11801841486875772,
           0.09852664796166936,
           0.07634733093798901,
           0.0520854577489583,
           0.026402829049190866,
           1.9644716164958365e-17
          ],
          [
           0,
           4.031404762885416e-17,
           7.952843312927203e-17,
           1.1657349028907586e-16,
           1.5043872651820291e-16,
           1.8020038645240475e-16,
           2.0504664959153358e-16,
           2.242997746465279e-16,
           2.3743458655503876e-16,
           2.4409280188810123e-16,
           2.4409280188810123e-16,
           2.3743458655503876e-16,
           2.2429977464652795e-16,
           2.0504664959153363e-16,
           1.802003864524048e-16,
           1.5043872651820294e-16,
           1.165734902890759e-16,
           7.952843312927208e-17,
           4.03140476288542e-17,
           2.999519565323715e-32
          ]
         ],
         "z": [
          [
           -1,
           -0.9863613034027223,
           -0.9458172417006346,
           -0.8794737512064891,
           -0.7891405093963937,
           -0.6772815716257411,
           -0.546948158122427,
           -0.40169542465296953,
           -0.24548548714079924,
           -0.0825793454723324,
           0.08257934547233228,
           0.24548548714079912,
           0.40169542465296926,
           0.5469481581224267,
           0.6772815716257409,
           0.7891405093963935,
           0.879473751206489,
           0.9458172417006346,
           0.9863613034027223,
           1
          ],
          [
           -1,
           -0.9863613034027223,
           -0.9458172417006346,
           -0.8794737512064891,
           -0.7891405093963937,
           -0.6772815716257411,
           -0.546948158122427,
           -0.40169542465296953,
           -0.24548548714079924,
           -0.0825793454723324,
           0.08257934547233228,
           0.24548548714079912,
           0.40169542465296926,
           0.5469481581224267,
           0.6772815716257409,
           0.7891405093963935,
           0.879473751206489,
           0.9458172417006346,
           0.9863613034027223,
           1
          ],
          [
           -1,
           -0.9863613034027223,
           -0.9458172417006346,
           -0.8794737512064891,
           -0.7891405093963937,
           -0.6772815716257411,
           -0.546948158122427,
           -0.40169542465296953,
           -0.24548548714079924,
           -0.0825793454723324,
           0.08257934547233228,
           0.24548548714079912,
           0.40169542465296926,
           0.5469481581224267,
           0.6772815716257409,
           0.7891405093963935,
           0.879473751206489,
           0.9458172417006346,
           0.9863613034027223,
           1
          ],
          [
           -1,
           -0.9863613034027223,
           -0.9458172417006346,
           -0.8794737512064891,
           -0.7891405093963937,
           -0.6772815716257411,
           -0.546948158122427,
           -0.40169542465296953,
           -0.24548548714079924,
           -0.0825793454723324,
           0.08257934547233228,
           0.24548548714079912,
           0.40169542465296926,
           0.5469481581224267,
           0.6772815716257409,
           0.7891405093963935,
           0.879473751206489,
           0.9458172417006346,
           0.9863613034027223,
           1
          ],
          [
           -1,
           -0.9863613034027223,
           -0.9458172417006346,
           -0.8794737512064891,
           -0.7891405093963937,
           -0.6772815716257411,
           -0.546948158122427,
           -0.40169542465296953,
           -0.24548548714079924,
           -0.0825793454723324,
           0.08257934547233228,
           0.24548548714079912,
           0.40169542465296926,
           0.5469481581224267,
           0.6772815716257409,
           0.7891405093963935,
           0.879473751206489,
           0.9458172417006346,
           0.9863613034027223,
           1
          ],
          [
           -1,
           -0.9863613034027223,
           -0.9458172417006346,
           -0.8794737512064891,
           -0.7891405093963937,
           -0.6772815716257411,
           -0.546948158122427,
           -0.40169542465296953,
           -0.24548548714079924,
           -0.0825793454723324,
           0.08257934547233228,
           0.24548548714079912,
           0.40169542465296926,
           0.5469481581224267,
           0.6772815716257409,
           0.7891405093963935,
           0.879473751206489,
           0.9458172417006346,
           0.9863613034027223,
           1
          ],
          [
           -1,
           -0.9863613034027223,
           -0.9458172417006346,
           -0.8794737512064891,
           -0.7891405093963937,
           -0.6772815716257411,
           -0.546948158122427,
           -0.40169542465296953,
           -0.24548548714079924,
           -0.0825793454723324,
           0.08257934547233228,
           0.24548548714079912,
           0.40169542465296926,
           0.5469481581224267,
           0.6772815716257409,
           0.7891405093963935,
           0.879473751206489,
           0.9458172417006346,
           0.9863613034027223,
           1
          ],
          [
           -1,
           -0.9863613034027223,
           -0.9458172417006346,
           -0.8794737512064891,
           -0.7891405093963937,
           -0.6772815716257411,
           -0.546948158122427,
           -0.40169542465296953,
           -0.24548548714079924,
           -0.0825793454723324,
           0.08257934547233228,
           0.24548548714079912,
           0.40169542465296926,
           0.5469481581224267,
           0.6772815716257409,
           0.7891405093963935,
           0.879473751206489,
           0.9458172417006346,
           0.9863613034027223,
           1
          ],
          [
           -1,
           -0.9863613034027223,
           -0.9458172417006346,
           -0.8794737512064891,
           -0.7891405093963937,
           -0.6772815716257411,
           -0.546948158122427,
           -0.40169542465296953,
           -0.24548548714079924,
           -0.0825793454723324,
           0.08257934547233228,
           0.24548548714079912,
           0.40169542465296926,
           0.5469481581224267,
           0.6772815716257409,
           0.7891405093963935,
           0.879473751206489,
           0.9458172417006346,
           0.9863613034027223,
           1
          ],
          [
           -1,
           -0.9863613034027223,
           -0.9458172417006346,
           -0.8794737512064891,
           -0.7891405093963937,
           -0.6772815716257411,
           -0.546948158122427,
           -0.40169542465296953,
           -0.24548548714079924,
           -0.0825793454723324,
           0.08257934547233228,
           0.24548548714079912,
           0.40169542465296926,
           0.5469481581224267,
           0.6772815716257409,
           0.7891405093963935,
           0.879473751206489,
           0.9458172417006346,
           0.9863613034027223,
           1
          ],
          [
           -1,
           -0.9863613034027223,
           -0.9458172417006346,
           -0.8794737512064891,
           -0.7891405093963937,
           -0.6772815716257411,
           -0.546948158122427,
           -0.40169542465296953,
           -0.24548548714079924,
           -0.0825793454723324,
           0.08257934547233228,
           0.24548548714079912,
           0.40169542465296926,
           0.5469481581224267,
           0.6772815716257409,
           0.7891405093963935,
           0.879473751206489,
           0.9458172417006346,
           0.9863613034027223,
           1
          ],
          [
           -1,
           -0.9863613034027223,
           -0.9458172417006346,
           -0.8794737512064891,
           -0.7891405093963937,
           -0.6772815716257411,
           -0.546948158122427,
           -0.40169542465296953,
           -0.24548548714079924,
           -0.0825793454723324,
           0.08257934547233228,
           0.24548548714079912,
           0.40169542465296926,
           0.5469481581224267,
           0.6772815716257409,
           0.7891405093963935,
           0.879473751206489,
           0.9458172417006346,
           0.9863613034027223,
           1
          ],
          [
           -1,
           -0.9863613034027223,
           -0.9458172417006346,
           -0.8794737512064891,
           -0.7891405093963937,
           -0.6772815716257411,
           -0.546948158122427,
           -0.40169542465296953,
           -0.24548548714079924,
           -0.0825793454723324,
           0.08257934547233228,
           0.24548548714079912,
           0.40169542465296926,
           0.5469481581224267,
           0.6772815716257409,
           0.7891405093963935,
           0.879473751206489,
           0.9458172417006346,
           0.9863613034027223,
           1
          ],
          [
           -1,
           -0.9863613034027223,
           -0.9458172417006346,
           -0.8794737512064891,
           -0.7891405093963937,
           -0.6772815716257411,
           -0.546948158122427,
           -0.40169542465296953,
           -0.24548548714079924,
           -0.0825793454723324,
           0.08257934547233228,
           0.24548548714079912,
           0.40169542465296926,
           0.5469481581224267,
           0.6772815716257409,
           0.7891405093963935,
           0.879473751206489,
           0.9458172417006346,
           0.9863613034027223,
           1
          ],
          [
           -1,
           -0.9863613034027223,
           -0.9458172417006346,
           -0.8794737512064891,
           -0.7891405093963937,
           -0.6772815716257411,
           -0.546948158122427,
           -0.40169542465296953,
           -0.24548548714079924,
           -0.0825793454723324,
           0.08257934547233228,
           0.24548548714079912,
           0.40169542465296926,
           0.5469481581224267,
           0.6772815716257409,
           0.7891405093963935,
           0.879473751206489,
           0.9458172417006346,
           0.9863613034027223,
           1
          ],
          [
           -1,
           -0.9863613034027223,
           -0.9458172417006346,
           -0.8794737512064891,
           -0.7891405093963937,
           -0.6772815716257411,
           -0.546948158122427,
           -0.40169542465296953,
           -0.24548548714079924,
           -0.0825793454723324,
           0.08257934547233228,
           0.24548548714079912,
           0.40169542465296926,
           0.5469481581224267,
           0.6772815716257409,
           0.7891405093963935,
           0.879473751206489,
           0.9458172417006346,
           0.9863613034027223,
           1
          ],
          [
           -1,
           -0.9863613034027223,
           -0.9458172417006346,
           -0.8794737512064891,
           -0.7891405093963937,
           -0.6772815716257411,
           -0.546948158122427,
           -0.40169542465296953,
           -0.24548548714079924,
           -0.0825793454723324,
           0.08257934547233228,
           0.24548548714079912,
           0.40169542465296926,
           0.5469481581224267,
           0.6772815716257409,
           0.7891405093963935,
           0.879473751206489,
           0.9458172417006346,
           0.9863613034027223,
           1
          ],
          [
           -1,
           -0.9863613034027223,
           -0.9458172417006346,
           -0.8794737512064891,
           -0.7891405093963937,
           -0.6772815716257411,
           -0.546948158122427,
           -0.40169542465296953,
           -0.24548548714079924,
           -0.0825793454723324,
           0.08257934547233228,
           0.24548548714079912,
           0.40169542465296926,
           0.5469481581224267,
           0.6772815716257409,
           0.7891405093963935,
           0.879473751206489,
           0.9458172417006346,
           0.9863613034027223,
           1
          ],
          [
           -1,
           -0.9863613034027223,
           -0.9458172417006346,
           -0.8794737512064891,
           -0.7891405093963937,
           -0.6772815716257411,
           -0.546948158122427,
           -0.40169542465296953,
           -0.24548548714079924,
           -0.0825793454723324,
           0.08257934547233228,
           0.24548548714079912,
           0.40169542465296926,
           0.5469481581224267,
           0.6772815716257409,
           0.7891405093963935,
           0.879473751206489,
           0.9458172417006346,
           0.9863613034027223,
           1
          ],
          [
           -1,
           -0.9863613034027223,
           -0.9458172417006346,
           -0.8794737512064891,
           -0.7891405093963937,
           -0.6772815716257411,
           -0.546948158122427,
           -0.40169542465296953,
           -0.24548548714079924,
           -0.0825793454723324,
           0.08257934547233228,
           0.24548548714079912,
           0.40169542465296926,
           0.5469481581224267,
           0.6772815716257409,
           0.7891405093963935,
           0.879473751206489,
           0.9458172417006346,
           0.9863613034027223,
           1
          ],
          [
           -1,
           -0.9863613034027223,
           -0.9458172417006346,
           -0.8794737512064891,
           -0.7891405093963937,
           -0.6772815716257411,
           -0.546948158122427,
           -0.40169542465296953,
           -0.24548548714079924,
           -0.0825793454723324,
           0.08257934547233228,
           0.24548548714079912,
           0.40169542465296926,
           0.5469481581224267,
           0.6772815716257409,
           0.7891405093963935,
           0.879473751206489,
           0.9458172417006346,
           0.9863613034027223,
           1
          ],
          [
           -1,
           -0.9863613034027223,
           -0.9458172417006346,
           -0.8794737512064891,
           -0.7891405093963937,
           -0.6772815716257411,
           -0.546948158122427,
           -0.40169542465296953,
           -0.24548548714079924,
           -0.0825793454723324,
           0.08257934547233228,
           0.24548548714079912,
           0.40169542465296926,
           0.5469481581224267,
           0.6772815716257409,
           0.7891405093963935,
           0.879473751206489,
           0.9458172417006346,
           0.9863613034027223,
           1
          ],
          [
           -1,
           -0.9863613034027223,
           -0.9458172417006346,
           -0.8794737512064891,
           -0.7891405093963937,
           -0.6772815716257411,
           -0.546948158122427,
           -0.40169542465296953,
           -0.24548548714079924,
           -0.0825793454723324,
           0.08257934547233228,
           0.24548548714079912,
           0.40169542465296926,
           0.5469481581224267,
           0.6772815716257409,
           0.7891405093963935,
           0.879473751206489,
           0.9458172417006346,
           0.9863613034027223,
           1
          ],
          [
           -1,
           -0.9863613034027223,
           -0.9458172417006346,
           -0.8794737512064891,
           -0.7891405093963937,
           -0.6772815716257411,
           -0.546948158122427,
           -0.40169542465296953,
           -0.24548548714079924,
           -0.0825793454723324,
           0.08257934547233228,
           0.24548548714079912,
           0.40169542465296926,
           0.5469481581224267,
           0.6772815716257409,
           0.7891405093963935,
           0.879473751206489,
           0.9458172417006346,
           0.9863613034027223,
           1
          ],
          [
           -1,
           -0.9863613034027223,
           -0.9458172417006346,
           -0.8794737512064891,
           -0.7891405093963937,
           -0.6772815716257411,
           -0.546948158122427,
           -0.40169542465296953,
           -0.24548548714079924,
           -0.0825793454723324,
           0.08257934547233228,
           0.24548548714079912,
           0.40169542465296926,
           0.5469481581224267,
           0.6772815716257409,
           0.7891405093963935,
           0.879473751206489,
           0.9458172417006346,
           0.9863613034027223,
           1
          ],
          [
           -1,
           -0.9863613034027223,
           -0.9458172417006346,
           -0.8794737512064891,
           -0.7891405093963937,
           -0.6772815716257411,
           -0.546948158122427,
           -0.40169542465296953,
           -0.24548548714079924,
           -0.0825793454723324,
           0.08257934547233228,
           0.24548548714079912,
           0.40169542465296926,
           0.5469481581224267,
           0.6772815716257409,
           0.7891405093963935,
           0.879473751206489,
           0.9458172417006346,
           0.9863613034027223,
           1
          ],
          [
           -1,
           -0.9863613034027223,
           -0.9458172417006346,
           -0.8794737512064891,
           -0.7891405093963937,
           -0.6772815716257411,
           -0.546948158122427,
           -0.40169542465296953,
           -0.24548548714079924,
           -0.0825793454723324,
           0.08257934547233228,
           0.24548548714079912,
           0.40169542465296926,
           0.5469481581224267,
           0.6772815716257409,
           0.7891405093963935,
           0.879473751206489,
           0.9458172417006346,
           0.9863613034027223,
           1
          ],
          [
           -1,
           -0.9863613034027223,
           -0.9458172417006346,
           -0.8794737512064891,
           -0.7891405093963937,
           -0.6772815716257411,
           -0.546948158122427,
           -0.40169542465296953,
           -0.24548548714079924,
           -0.0825793454723324,
           0.08257934547233228,
           0.24548548714079912,
           0.40169542465296926,
           0.5469481581224267,
           0.6772815716257409,
           0.7891405093963935,
           0.879473751206489,
           0.9458172417006346,
           0.9863613034027223,
           1
          ],
          [
           -1,
           -0.9863613034027223,
           -0.9458172417006346,
           -0.8794737512064891,
           -0.7891405093963937,
           -0.6772815716257411,
           -0.546948158122427,
           -0.40169542465296953,
           -0.24548548714079924,
           -0.0825793454723324,
           0.08257934547233228,
           0.24548548714079912,
           0.40169542465296926,
           0.5469481581224267,
           0.6772815716257409,
           0.7891405093963935,
           0.879473751206489,
           0.9458172417006346,
           0.9863613034027223,
           1
          ],
          [
           -1,
           -0.9863613034027223,
           -0.9458172417006346,
           -0.8794737512064891,
           -0.7891405093963937,
           -0.6772815716257411,
           -0.546948158122427,
           -0.40169542465296953,
           -0.24548548714079924,
           -0.0825793454723324,
           0.08257934547233228,
           0.24548548714079912,
           0.40169542465296926,
           0.5469481581224267,
           0.6772815716257409,
           0.7891405093963935,
           0.879473751206489,
           0.9458172417006346,
           0.9863613034027223,
           1
          ],
          [
           -1,
           -0.9863613034027223,
           -0.9458172417006346,
           -0.8794737512064891,
           -0.7891405093963937,
           -0.6772815716257411,
           -0.546948158122427,
           -0.40169542465296953,
           -0.24548548714079924,
           -0.0825793454723324,
           0.08257934547233228,
           0.24548548714079912,
           0.40169542465296926,
           0.5469481581224267,
           0.6772815716257409,
           0.7891405093963935,
           0.879473751206489,
           0.9458172417006346,
           0.9863613034027223,
           1
          ],
          [
           -1,
           -0.9863613034027223,
           -0.9458172417006346,
           -0.8794737512064891,
           -0.7891405093963937,
           -0.6772815716257411,
           -0.546948158122427,
           -0.40169542465296953,
           -0.24548548714079924,
           -0.0825793454723324,
           0.08257934547233228,
           0.24548548714079912,
           0.40169542465296926,
           0.5469481581224267,
           0.6772815716257409,
           0.7891405093963935,
           0.879473751206489,
           0.9458172417006346,
           0.9863613034027223,
           1
          ],
          [
           -1,
           -0.9863613034027223,
           -0.9458172417006346,
           -0.8794737512064891,
           -0.7891405093963937,
           -0.6772815716257411,
           -0.546948158122427,
           -0.40169542465296953,
           -0.24548548714079924,
           -0.0825793454723324,
           0.08257934547233228,
           0.24548548714079912,
           0.40169542465296926,
           0.5469481581224267,
           0.6772815716257409,
           0.7891405093963935,
           0.879473751206489,
           0.9458172417006346,
           0.9863613034027223,
           1
          ],
          [
           -1,
           -0.9863613034027223,
           -0.9458172417006346,
           -0.8794737512064891,
           -0.7891405093963937,
           -0.6772815716257411,
           -0.546948158122427,
           -0.40169542465296953,
           -0.24548548714079924,
           -0.0825793454723324,
           0.08257934547233228,
           0.24548548714079912,
           0.40169542465296926,
           0.5469481581224267,
           0.6772815716257409,
           0.7891405093963935,
           0.879473751206489,
           0.9458172417006346,
           0.9863613034027223,
           1
          ],
          [
           -1,
           -0.9863613034027223,
           -0.9458172417006346,
           -0.8794737512064891,
           -0.7891405093963937,
           -0.6772815716257411,
           -0.546948158122427,
           -0.40169542465296953,
           -0.24548548714079924,
           -0.0825793454723324,
           0.08257934547233228,
           0.24548548714079912,
           0.40169542465296926,
           0.5469481581224267,
           0.6772815716257409,
           0.7891405093963935,
           0.879473751206489,
           0.9458172417006346,
           0.9863613034027223,
           1
          ],
          [
           -1,
           -0.9863613034027223,
           -0.9458172417006346,
           -0.8794737512064891,
           -0.7891405093963937,
           -0.6772815716257411,
           -0.546948158122427,
           -0.40169542465296953,
           -0.24548548714079924,
           -0.0825793454723324,
           0.08257934547233228,
           0.24548548714079912,
           0.40169542465296926,
           0.5469481581224267,
           0.6772815716257409,
           0.7891405093963935,
           0.879473751206489,
           0.9458172417006346,
           0.9863613034027223,
           1
          ],
          [
           -1,
           -0.9863613034027223,
           -0.9458172417006346,
           -0.8794737512064891,
           -0.7891405093963937,
           -0.6772815716257411,
           -0.546948158122427,
           -0.40169542465296953,
           -0.24548548714079924,
           -0.0825793454723324,
           0.08257934547233228,
           0.24548548714079912,
           0.40169542465296926,
           0.5469481581224267,
           0.6772815716257409,
           0.7891405093963935,
           0.879473751206489,
           0.9458172417006346,
           0.9863613034027223,
           1
          ],
          [
           -1,
           -0.9863613034027223,
           -0.9458172417006346,
           -0.8794737512064891,
           -0.7891405093963937,
           -0.6772815716257411,
           -0.546948158122427,
           -0.40169542465296953,
           -0.24548548714079924,
           -0.0825793454723324,
           0.08257934547233228,
           0.24548548714079912,
           0.40169542465296926,
           0.5469481581224267,
           0.6772815716257409,
           0.7891405093963935,
           0.879473751206489,
           0.9458172417006346,
           0.9863613034027223,
           1
          ],
          [
           -1,
           -0.9863613034027223,
           -0.9458172417006346,
           -0.8794737512064891,
           -0.7891405093963937,
           -0.6772815716257411,
           -0.546948158122427,
           -0.40169542465296953,
           -0.24548548714079924,
           -0.0825793454723324,
           0.08257934547233228,
           0.24548548714079912,
           0.40169542465296926,
           0.5469481581224267,
           0.6772815716257409,
           0.7891405093963935,
           0.879473751206489,
           0.9458172417006346,
           0.9863613034027223,
           1
          ],
          [
           -1,
           -0.9863613034027223,
           -0.9458172417006346,
           -0.8794737512064891,
           -0.7891405093963937,
           -0.6772815716257411,
           -0.546948158122427,
           -0.40169542465296953,
           -0.24548548714079924,
           -0.0825793454723324,
           0.08257934547233228,
           0.24548548714079912,
           0.40169542465296926,
           0.5469481581224267,
           0.6772815716257409,
           0.7891405093963935,
           0.879473751206489,
           0.9458172417006346,
           0.9863613034027223,
           1
          ]
         ]
        }
       ],
       "layout": {
        "template": {
         "data": {
          "bar": [
           {
            "error_x": {
             "color": "#2a3f5f"
            },
            "error_y": {
             "color": "#2a3f5f"
            },
            "marker": {
             "line": {
              "color": "#E5ECF6",
              "width": 0.5
             },
             "pattern": {
              "fillmode": "overlay",
              "size": 10,
              "solidity": 0.2
             }
            },
            "type": "bar"
           }
          ],
          "barpolar": [
           {
            "marker": {
             "line": {
              "color": "#E5ECF6",
              "width": 0.5
             },
             "pattern": {
              "fillmode": "overlay",
              "size": 10,
              "solidity": 0.2
             }
            },
            "type": "barpolar"
           }
          ],
          "carpet": [
           {
            "aaxis": {
             "endlinecolor": "#2a3f5f",
             "gridcolor": "white",
             "linecolor": "white",
             "minorgridcolor": "white",
             "startlinecolor": "#2a3f5f"
            },
            "baxis": {
             "endlinecolor": "#2a3f5f",
             "gridcolor": "white",
             "linecolor": "white",
             "minorgridcolor": "white",
             "startlinecolor": "#2a3f5f"
            },
            "type": "carpet"
           }
          ],
          "choropleth": [
           {
            "colorbar": {
             "outlinewidth": 0,
             "ticks": ""
            },
            "type": "choropleth"
           }
          ],
          "contour": [
           {
            "colorbar": {
             "outlinewidth": 0,
             "ticks": ""
            },
            "colorscale": [
             [
              0,
              "#0d0887"
             ],
             [
              0.1111111111111111,
              "#46039f"
             ],
             [
              0.2222222222222222,
              "#7201a8"
             ],
             [
              0.3333333333333333,
              "#9c179e"
             ],
             [
              0.4444444444444444,
              "#bd3786"
             ],
             [
              0.5555555555555556,
              "#d8576b"
             ],
             [
              0.6666666666666666,
              "#ed7953"
             ],
             [
              0.7777777777777778,
              "#fb9f3a"
             ],
             [
              0.8888888888888888,
              "#fdca26"
             ],
             [
              1,
              "#f0f921"
             ]
            ],
            "type": "contour"
           }
          ],
          "contourcarpet": [
           {
            "colorbar": {
             "outlinewidth": 0,
             "ticks": ""
            },
            "type": "contourcarpet"
           }
          ],
          "heatmap": [
           {
            "colorbar": {
             "outlinewidth": 0,
             "ticks": ""
            },
            "colorscale": [
             [
              0,
              "#0d0887"
             ],
             [
              0.1111111111111111,
              "#46039f"
             ],
             [
              0.2222222222222222,
              "#7201a8"
             ],
             [
              0.3333333333333333,
              "#9c179e"
             ],
             [
              0.4444444444444444,
              "#bd3786"
             ],
             [
              0.5555555555555556,
              "#d8576b"
             ],
             [
              0.6666666666666666,
              "#ed7953"
             ],
             [
              0.7777777777777778,
              "#fb9f3a"
             ],
             [
              0.8888888888888888,
              "#fdca26"
             ],
             [
              1,
              "#f0f921"
             ]
            ],
            "type": "heatmap"
           }
          ],
          "heatmapgl": [
           {
            "colorbar": {
             "outlinewidth": 0,
             "ticks": ""
            },
            "colorscale": [
             [
              0,
              "#0d0887"
             ],
             [
              0.1111111111111111,
              "#46039f"
             ],
             [
              0.2222222222222222,
              "#7201a8"
             ],
             [
              0.3333333333333333,
              "#9c179e"
             ],
             [
              0.4444444444444444,
              "#bd3786"
             ],
             [
              0.5555555555555556,
              "#d8576b"
             ],
             [
              0.6666666666666666,
              "#ed7953"
             ],
             [
              0.7777777777777778,
              "#fb9f3a"
             ],
             [
              0.8888888888888888,
              "#fdca26"
             ],
             [
              1,
              "#f0f921"
             ]
            ],
            "type": "heatmapgl"
           }
          ],
          "histogram": [
           {
            "marker": {
             "pattern": {
              "fillmode": "overlay",
              "size": 10,
              "solidity": 0.2
             }
            },
            "type": "histogram"
           }
          ],
          "histogram2d": [
           {
            "colorbar": {
             "outlinewidth": 0,
             "ticks": ""
            },
            "colorscale": [
             [
              0,
              "#0d0887"
             ],
             [
              0.1111111111111111,
              "#46039f"
             ],
             [
              0.2222222222222222,
              "#7201a8"
             ],
             [
              0.3333333333333333,
              "#9c179e"
             ],
             [
              0.4444444444444444,
              "#bd3786"
             ],
             [
              0.5555555555555556,
              "#d8576b"
             ],
             [
              0.6666666666666666,
              "#ed7953"
             ],
             [
              0.7777777777777778,
              "#fb9f3a"
             ],
             [
              0.8888888888888888,
              "#fdca26"
             ],
             [
              1,
              "#f0f921"
             ]
            ],
            "type": "histogram2d"
           }
          ],
          "histogram2dcontour": [
           {
            "colorbar": {
             "outlinewidth": 0,
             "ticks": ""
            },
            "colorscale": [
             [
              0,
              "#0d0887"
             ],
             [
              0.1111111111111111,
              "#46039f"
             ],
             [
              0.2222222222222222,
              "#7201a8"
             ],
             [
              0.3333333333333333,
              "#9c179e"
             ],
             [
              0.4444444444444444,
              "#bd3786"
             ],
             [
              0.5555555555555556,
              "#d8576b"
             ],
             [
              0.6666666666666666,
              "#ed7953"
             ],
             [
              0.7777777777777778,
              "#fb9f3a"
             ],
             [
              0.8888888888888888,
              "#fdca26"
             ],
             [
              1,
              "#f0f921"
             ]
            ],
            "type": "histogram2dcontour"
           }
          ],
          "mesh3d": [
           {
            "colorbar": {
             "outlinewidth": 0,
             "ticks": ""
            },
            "type": "mesh3d"
           }
          ],
          "parcoords": [
           {
            "line": {
             "colorbar": {
              "outlinewidth": 0,
              "ticks": ""
             }
            },
            "type": "parcoords"
           }
          ],
          "pie": [
           {
            "automargin": true,
            "type": "pie"
           }
          ],
          "scatter": [
           {
            "fillpattern": {
             "fillmode": "overlay",
             "size": 10,
             "solidity": 0.2
            },
            "type": "scatter"
           }
          ],
          "scatter3d": [
           {
            "line": {
             "colorbar": {
              "outlinewidth": 0,
              "ticks": ""
             }
            },
            "marker": {
             "colorbar": {
              "outlinewidth": 0,
              "ticks": ""
             }
            },
            "type": "scatter3d"
           }
          ],
          "scattercarpet": [
           {
            "marker": {
             "colorbar": {
              "outlinewidth": 0,
              "ticks": ""
             }
            },
            "type": "scattercarpet"
           }
          ],
          "scattergeo": [
           {
            "marker": {
             "colorbar": {
              "outlinewidth": 0,
              "ticks": ""
             }
            },
            "type": "scattergeo"
           }
          ],
          "scattergl": [
           {
            "marker": {
             "colorbar": {
              "outlinewidth": 0,
              "ticks": ""
             }
            },
            "type": "scattergl"
           }
          ],
          "scattermapbox": [
           {
            "marker": {
             "colorbar": {
              "outlinewidth": 0,
              "ticks": ""
             }
            },
            "type": "scattermapbox"
           }
          ],
          "scatterpolar": [
           {
            "marker": {
             "colorbar": {
              "outlinewidth": 0,
              "ticks": ""
             }
            },
            "type": "scatterpolar"
           }
          ],
          "scatterpolargl": [
           {
            "marker": {
             "colorbar": {
              "outlinewidth": 0,
              "ticks": ""
             }
            },
            "type": "scatterpolargl"
           }
          ],
          "scatterternary": [
           {
            "marker": {
             "colorbar": {
              "outlinewidth": 0,
              "ticks": ""
             }
            },
            "type": "scatterternary"
           }
          ],
          "surface": [
           {
            "colorbar": {
             "outlinewidth": 0,
             "ticks": ""
            },
            "colorscale": [
             [
              0,
              "#0d0887"
             ],
             [
              0.1111111111111111,
              "#46039f"
             ],
             [
              0.2222222222222222,
              "#7201a8"
             ],
             [
              0.3333333333333333,
              "#9c179e"
             ],
             [
              0.4444444444444444,
              "#bd3786"
             ],
             [
              0.5555555555555556,
              "#d8576b"
             ],
             [
              0.6666666666666666,
              "#ed7953"
             ],
             [
              0.7777777777777778,
              "#fb9f3a"
             ],
             [
              0.8888888888888888,
              "#fdca26"
             ],
             [
              1,
              "#f0f921"
             ]
            ],
            "type": "surface"
           }
          ],
          "table": [
           {
            "cells": {
             "fill": {
              "color": "#EBF0F8"
             },
             "line": {
              "color": "white"
             }
            },
            "header": {
             "fill": {
              "color": "#C8D4E3"
             },
             "line": {
              "color": "white"
             }
            },
            "type": "table"
           }
          ]
         },
         "layout": {
          "annotationdefaults": {
           "arrowcolor": "#2a3f5f",
           "arrowhead": 0,
           "arrowwidth": 1
          },
          "autotypenumbers": "strict",
          "coloraxis": {
           "colorbar": {
            "outlinewidth": 0,
            "ticks": ""
           }
          },
          "colorscale": {
           "diverging": [
            [
             0,
             "#8e0152"
            ],
            [
             0.1,
             "#c51b7d"
            ],
            [
             0.2,
             "#de77ae"
            ],
            [
             0.3,
             "#f1b6da"
            ],
            [
             0.4,
             "#fde0ef"
            ],
            [
             0.5,
             "#f7f7f7"
            ],
            [
             0.6,
             "#e6f5d0"
            ],
            [
             0.7,
             "#b8e186"
            ],
            [
             0.8,
             "#7fbc41"
            ],
            [
             0.9,
             "#4d9221"
            ],
            [
             1,
             "#276419"
            ]
           ],
           "sequential": [
            [
             0,
             "#0d0887"
            ],
            [
             0.1111111111111111,
             "#46039f"
            ],
            [
             0.2222222222222222,
             "#7201a8"
            ],
            [
             0.3333333333333333,
             "#9c179e"
            ],
            [
             0.4444444444444444,
             "#bd3786"
            ],
            [
             0.5555555555555556,
             "#d8576b"
            ],
            [
             0.6666666666666666,
             "#ed7953"
            ],
            [
             0.7777777777777778,
             "#fb9f3a"
            ],
            [
             0.8888888888888888,
             "#fdca26"
            ],
            [
             1,
             "#f0f921"
            ]
           ],
           "sequentialminus": [
            [
             0,
             "#0d0887"
            ],
            [
             0.1111111111111111,
             "#46039f"
            ],
            [
             0.2222222222222222,
             "#7201a8"
            ],
            [
             0.3333333333333333,
             "#9c179e"
            ],
            [
             0.4444444444444444,
             "#bd3786"
            ],
            [
             0.5555555555555556,
             "#d8576b"
            ],
            [
             0.6666666666666666,
             "#ed7953"
            ],
            [
             0.7777777777777778,
             "#fb9f3a"
            ],
            [
             0.8888888888888888,
             "#fdca26"
            ],
            [
             1,
             "#f0f921"
            ]
           ]
          },
          "colorway": [
           "#636efa",
           "#EF553B",
           "#00cc96",
           "#ab63fa",
           "#FFA15A",
           "#19d3f3",
           "#FF6692",
           "#B6E880",
           "#FF97FF",
           "#FECB52"
          ],
          "font": {
           "color": "#2a3f5f"
          },
          "geo": {
           "bgcolor": "white",
           "lakecolor": "white",
           "landcolor": "#E5ECF6",
           "showlakes": true,
           "showland": true,
           "subunitcolor": "white"
          },
          "hoverlabel": {
           "align": "left"
          },
          "hovermode": "closest",
          "mapbox": {
           "style": "light"
          },
          "paper_bgcolor": "white",
          "plot_bgcolor": "#E5ECF6",
          "polar": {
           "angularaxis": {
            "gridcolor": "white",
            "linecolor": "white",
            "ticks": ""
           },
           "bgcolor": "#E5ECF6",
           "radialaxis": {
            "gridcolor": "white",
            "linecolor": "white",
            "ticks": ""
           }
          },
          "scene": {
           "xaxis": {
            "backgroundcolor": "#E5ECF6",
            "gridcolor": "white",
            "gridwidth": 2,
            "linecolor": "white",
            "showbackground": true,
            "ticks": "",
            "zerolinecolor": "white"
           },
           "yaxis": {
            "backgroundcolor": "#E5ECF6",
            "gridcolor": "white",
            "gridwidth": 2,
            "linecolor": "white",
            "showbackground": true,
            "ticks": "",
            "zerolinecolor": "white"
           },
           "zaxis": {
            "backgroundcolor": "#E5ECF6",
            "gridcolor": "white",
            "gridwidth": 2,
            "linecolor": "white",
            "showbackground": true,
            "ticks": "",
            "zerolinecolor": "white"
           }
          },
          "shapedefaults": {
           "line": {
            "color": "#2a3f5f"
           }
          },
          "ternary": {
           "aaxis": {
            "gridcolor": "white",
            "linecolor": "white",
            "ticks": ""
           },
           "baxis": {
            "gridcolor": "white",
            "linecolor": "white",
            "ticks": ""
           },
           "bgcolor": "#E5ECF6",
           "caxis": {
            "gridcolor": "white",
            "linecolor": "white",
            "ticks": ""
           }
          },
          "title": {
           "x": 0.05
          },
          "xaxis": {
           "automargin": true,
           "gridcolor": "white",
           "linecolor": "white",
           "ticks": "",
           "title": {
            "standoff": 15
           },
           "zerolinecolor": "white",
           "zerolinewidth": 2
          },
          "yaxis": {
           "automargin": true,
           "gridcolor": "white",
           "linecolor": "white",
           "ticks": "",
           "title": {
            "standoff": 15
           },
           "zerolinecolor": "white",
           "zerolinewidth": 2
          }
         }
        }
       }
      }
     },
     "metadata": {},
     "output_type": "display_data"
    }
   ],
   "source": [
    "trackers = vines.createHaloTracks(16)\n",
    "host = vines.createHostSphere(16)\n",
    "\n",
    "img = Image(trackers + [host])\n",
    "fig = img.getFig()\n",
    "fig.show()"
   ]
  },
  {
   "cell_type": "markdown",
   "metadata": {},
   "source": [
    "From Logfile:\n",
    "\n",
    "[   1] *** Halo     4140, Tracer 6704 (desc_id -1, status 3): Created, first snap 22, instruction 1, r = 13.51 = 0.95 R200m.\n",
    "[   1] *** Halo        ?, Tracer 6704 (desc_id 22970, status 3): Trajectory at snap  20: halo x [32.674 55.543 35.358], tcr x [32.653 55.638 35.262], r 17.54, vr -67.71, R 13.17, r/R 1.33, entered 2.\n",
    "[   1] *** Halo        ?, Tracer 6704 (desc_id 22970, status 3): Trajectory at snap  21: halo x [32.698 55.559 35.359], tcr x [32.658 55.623 35.272], r 15.04, vr -47.10, R 13.72, r/R 1.10, entered 2.\n",
    "[   1] *** Halo        ?, Tracer 6704 (desc_id 22970, status 3): Trajectory at snap  22: halo x [32.713 55.554 35.362], tcr x [32.676 55.609 35.284], r 13.51, vr -61.00, R 14.26, r/R 0.95, entered 2.\n",
    "\n",
    "[   1] *** Halo        ?, Tracer 6704 (desc_id 25510, status 3): Trajectory at snap  23: halo x [32.691 55.591 35.290], tcr x [32.960 55.400 35.539], r 55.19, vr -133.50, R 10.85, r/R 5.09, entered 2.\n",
    "\n",
    "This feels like a bug on SPARTA's behalf, not sure what status 3 means or where the descendent id comes from. Or necessarily why there's a question mark in the halo id column\n",
    "\n",
    "1) eliminate the resolution limits in sparta (generate new moria trees)\n",
    "2) use sparta data to follow sub/host relations (not tracers) - look at host switch\n",
    "3) determine if they are phantoms\n",
    "4) plot of host mass\n",
    "5) major merger events\n",
    "6) Bakels 2022 - backsplash halos paper, energy + ang mom cuts\n",
    "7) look at Phil's paper"
   ]
  },
  {
   "cell_type": "code",
   "execution_count": null,
   "metadata": {},
   "outputs": [],
   "source": []
  },
  {
   "cell_type": "code",
   "execution_count": 10,
   "metadata": {},
   "outputs": [
    {
     "data": {
      "application/vnd.plotly.v1+json": {
       "config": {
        "plotlyServerURL": "https://plot.ly"
       },
       "data": [
        {
         "customdata": [
          [
           32
          ],
          [
           32
          ],
          [
           32
          ],
          [
           32
          ],
          [
           32
          ],
          [
           32
          ],
          [
           32
          ],
          [
           32
          ],
          [
           32
          ],
          [
           32
          ],
          [
           32
          ]
         ],
         "line": {
          "color": "red"
         },
         "mode": "lines",
         "type": "scatter3d",
         "x": [
          0.886932373046875,
          2.514331579208374,
          -31.51513671875,
          -32.77629470825195,
          -32.55211639404297,
          -33.61723327636719,
          -25.371017456054688,
          -33.65806198120117,
          -34.02729415893555,
          -36.03372573852539,
          -30.064966201782227
         ],
         "y": [
          1.0135174989700317,
          1.4374003410339355,
          -2.218515634536743,
          -3.203941583633423,
          -3.9500086307525635,
          -4.646688938140869,
          -4.581273555755615,
          -5.392531394958496,
          -6.149862289428711,
          -6.907256603240967,
          -7.579428195953369
         ],
         "z": [
          0.8970280885696411,
          -2.2809550762176514,
          1.9602667093276978,
          5.226579189300537,
          6.040195941925049,
          9.143863677978516,
          5.500993251800537,
          12.346700668334961,
          14.942011833190918,
          16.869911193847656,
          16.284875869750977
         ]
        }
       ],
       "layout": {
        "template": {
         "data": {
          "bar": [
           {
            "error_x": {
             "color": "#2a3f5f"
            },
            "error_y": {
             "color": "#2a3f5f"
            },
            "marker": {
             "line": {
              "color": "#E5ECF6",
              "width": 0.5
             },
             "pattern": {
              "fillmode": "overlay",
              "size": 10,
              "solidity": 0.2
             }
            },
            "type": "bar"
           }
          ],
          "barpolar": [
           {
            "marker": {
             "line": {
              "color": "#E5ECF6",
              "width": 0.5
             },
             "pattern": {
              "fillmode": "overlay",
              "size": 10,
              "solidity": 0.2
             }
            },
            "type": "barpolar"
           }
          ],
          "carpet": [
           {
            "aaxis": {
             "endlinecolor": "#2a3f5f",
             "gridcolor": "white",
             "linecolor": "white",
             "minorgridcolor": "white",
             "startlinecolor": "#2a3f5f"
            },
            "baxis": {
             "endlinecolor": "#2a3f5f",
             "gridcolor": "white",
             "linecolor": "white",
             "minorgridcolor": "white",
             "startlinecolor": "#2a3f5f"
            },
            "type": "carpet"
           }
          ],
          "choropleth": [
           {
            "colorbar": {
             "outlinewidth": 0,
             "ticks": ""
            },
            "type": "choropleth"
           }
          ],
          "contour": [
           {
            "colorbar": {
             "outlinewidth": 0,
             "ticks": ""
            },
            "colorscale": [
             [
              0,
              "#0d0887"
             ],
             [
              0.1111111111111111,
              "#46039f"
             ],
             [
              0.2222222222222222,
              "#7201a8"
             ],
             [
              0.3333333333333333,
              "#9c179e"
             ],
             [
              0.4444444444444444,
              "#bd3786"
             ],
             [
              0.5555555555555556,
              "#d8576b"
             ],
             [
              0.6666666666666666,
              "#ed7953"
             ],
             [
              0.7777777777777778,
              "#fb9f3a"
             ],
             [
              0.8888888888888888,
              "#fdca26"
             ],
             [
              1,
              "#f0f921"
             ]
            ],
            "type": "contour"
           }
          ],
          "contourcarpet": [
           {
            "colorbar": {
             "outlinewidth": 0,
             "ticks": ""
            },
            "type": "contourcarpet"
           }
          ],
          "heatmap": [
           {
            "colorbar": {
             "outlinewidth": 0,
             "ticks": ""
            },
            "colorscale": [
             [
              0,
              "#0d0887"
             ],
             [
              0.1111111111111111,
              "#46039f"
             ],
             [
              0.2222222222222222,
              "#7201a8"
             ],
             [
              0.3333333333333333,
              "#9c179e"
             ],
             [
              0.4444444444444444,
              "#bd3786"
             ],
             [
              0.5555555555555556,
              "#d8576b"
             ],
             [
              0.6666666666666666,
              "#ed7953"
             ],
             [
              0.7777777777777778,
              "#fb9f3a"
             ],
             [
              0.8888888888888888,
              "#fdca26"
             ],
             [
              1,
              "#f0f921"
             ]
            ],
            "type": "heatmap"
           }
          ],
          "heatmapgl": [
           {
            "colorbar": {
             "outlinewidth": 0,
             "ticks": ""
            },
            "colorscale": [
             [
              0,
              "#0d0887"
             ],
             [
              0.1111111111111111,
              "#46039f"
             ],
             [
              0.2222222222222222,
              "#7201a8"
             ],
             [
              0.3333333333333333,
              "#9c179e"
             ],
             [
              0.4444444444444444,
              "#bd3786"
             ],
             [
              0.5555555555555556,
              "#d8576b"
             ],
             [
              0.6666666666666666,
              "#ed7953"
             ],
             [
              0.7777777777777778,
              "#fb9f3a"
             ],
             [
              0.8888888888888888,
              "#fdca26"
             ],
             [
              1,
              "#f0f921"
             ]
            ],
            "type": "heatmapgl"
           }
          ],
          "histogram": [
           {
            "marker": {
             "pattern": {
              "fillmode": "overlay",
              "size": 10,
              "solidity": 0.2
             }
            },
            "type": "histogram"
           }
          ],
          "histogram2d": [
           {
            "colorbar": {
             "outlinewidth": 0,
             "ticks": ""
            },
            "colorscale": [
             [
              0,
              "#0d0887"
             ],
             [
              0.1111111111111111,
              "#46039f"
             ],
             [
              0.2222222222222222,
              "#7201a8"
             ],
             [
              0.3333333333333333,
              "#9c179e"
             ],
             [
              0.4444444444444444,
              "#bd3786"
             ],
             [
              0.5555555555555556,
              "#d8576b"
             ],
             [
              0.6666666666666666,
              "#ed7953"
             ],
             [
              0.7777777777777778,
              "#fb9f3a"
             ],
             [
              0.8888888888888888,
              "#fdca26"
             ],
             [
              1,
              "#f0f921"
             ]
            ],
            "type": "histogram2d"
           }
          ],
          "histogram2dcontour": [
           {
            "colorbar": {
             "outlinewidth": 0,
             "ticks": ""
            },
            "colorscale": [
             [
              0,
              "#0d0887"
             ],
             [
              0.1111111111111111,
              "#46039f"
             ],
             [
              0.2222222222222222,
              "#7201a8"
             ],
             [
              0.3333333333333333,
              "#9c179e"
             ],
             [
              0.4444444444444444,
              "#bd3786"
             ],
             [
              0.5555555555555556,
              "#d8576b"
             ],
             [
              0.6666666666666666,
              "#ed7953"
             ],
             [
              0.7777777777777778,
              "#fb9f3a"
             ],
             [
              0.8888888888888888,
              "#fdca26"
             ],
             [
              1,
              "#f0f921"
             ]
            ],
            "type": "histogram2dcontour"
           }
          ],
          "mesh3d": [
           {
            "colorbar": {
             "outlinewidth": 0,
             "ticks": ""
            },
            "type": "mesh3d"
           }
          ],
          "parcoords": [
           {
            "line": {
             "colorbar": {
              "outlinewidth": 0,
              "ticks": ""
             }
            },
            "type": "parcoords"
           }
          ],
          "pie": [
           {
            "automargin": true,
            "type": "pie"
           }
          ],
          "scatter": [
           {
            "fillpattern": {
             "fillmode": "overlay",
             "size": 10,
             "solidity": 0.2
            },
            "type": "scatter"
           }
          ],
          "scatter3d": [
           {
            "line": {
             "colorbar": {
              "outlinewidth": 0,
              "ticks": ""
             }
            },
            "marker": {
             "colorbar": {
              "outlinewidth": 0,
              "ticks": ""
             }
            },
            "type": "scatter3d"
           }
          ],
          "scattercarpet": [
           {
            "marker": {
             "colorbar": {
              "outlinewidth": 0,
              "ticks": ""
             }
            },
            "type": "scattercarpet"
           }
          ],
          "scattergeo": [
           {
            "marker": {
             "colorbar": {
              "outlinewidth": 0,
              "ticks": ""
             }
            },
            "type": "scattergeo"
           }
          ],
          "scattergl": [
           {
            "marker": {
             "colorbar": {
              "outlinewidth": 0,
              "ticks": ""
             }
            },
            "type": "scattergl"
           }
          ],
          "scattermapbox": [
           {
            "marker": {
             "colorbar": {
              "outlinewidth": 0,
              "ticks": ""
             }
            },
            "type": "scattermapbox"
           }
          ],
          "scatterpolar": [
           {
            "marker": {
             "colorbar": {
              "outlinewidth": 0,
              "ticks": ""
             }
            },
            "type": "scatterpolar"
           }
          ],
          "scatterpolargl": [
           {
            "marker": {
             "colorbar": {
              "outlinewidth": 0,
              "ticks": ""
             }
            },
            "type": "scatterpolargl"
           }
          ],
          "scatterternary": [
           {
            "marker": {
             "colorbar": {
              "outlinewidth": 0,
              "ticks": ""
             }
            },
            "type": "scatterternary"
           }
          ],
          "surface": [
           {
            "colorbar": {
             "outlinewidth": 0,
             "ticks": ""
            },
            "colorscale": [
             [
              0,
              "#0d0887"
             ],
             [
              0.1111111111111111,
              "#46039f"
             ],
             [
              0.2222222222222222,
              "#7201a8"
             ],
             [
              0.3333333333333333,
              "#9c179e"
             ],
             [
              0.4444444444444444,
              "#bd3786"
             ],
             [
              0.5555555555555556,
              "#d8576b"
             ],
             [
              0.6666666666666666,
              "#ed7953"
             ],
             [
              0.7777777777777778,
              "#fb9f3a"
             ],
             [
              0.8888888888888888,
              "#fdca26"
             ],
             [
              1,
              "#f0f921"
             ]
            ],
            "type": "surface"
           }
          ],
          "table": [
           {
            "cells": {
             "fill": {
              "color": "#EBF0F8"
             },
             "line": {
              "color": "white"
             }
            },
            "header": {
             "fill": {
              "color": "#C8D4E3"
             },
             "line": {
              "color": "white"
             }
            },
            "type": "table"
           }
          ]
         },
         "layout": {
          "annotationdefaults": {
           "arrowcolor": "#2a3f5f",
           "arrowhead": 0,
           "arrowwidth": 1
          },
          "autotypenumbers": "strict",
          "coloraxis": {
           "colorbar": {
            "outlinewidth": 0,
            "ticks": ""
           }
          },
          "colorscale": {
           "diverging": [
            [
             0,
             "#8e0152"
            ],
            [
             0.1,
             "#c51b7d"
            ],
            [
             0.2,
             "#de77ae"
            ],
            [
             0.3,
             "#f1b6da"
            ],
            [
             0.4,
             "#fde0ef"
            ],
            [
             0.5,
             "#f7f7f7"
            ],
            [
             0.6,
             "#e6f5d0"
            ],
            [
             0.7,
             "#b8e186"
            ],
            [
             0.8,
             "#7fbc41"
            ],
            [
             0.9,
             "#4d9221"
            ],
            [
             1,
             "#276419"
            ]
           ],
           "sequential": [
            [
             0,
             "#0d0887"
            ],
            [
             0.1111111111111111,
             "#46039f"
            ],
            [
             0.2222222222222222,
             "#7201a8"
            ],
            [
             0.3333333333333333,
             "#9c179e"
            ],
            [
             0.4444444444444444,
             "#bd3786"
            ],
            [
             0.5555555555555556,
             "#d8576b"
            ],
            [
             0.6666666666666666,
             "#ed7953"
            ],
            [
             0.7777777777777778,
             "#fb9f3a"
            ],
            [
             0.8888888888888888,
             "#fdca26"
            ],
            [
             1,
             "#f0f921"
            ]
           ],
           "sequentialminus": [
            [
             0,
             "#0d0887"
            ],
            [
             0.1111111111111111,
             "#46039f"
            ],
            [
             0.2222222222222222,
             "#7201a8"
            ],
            [
             0.3333333333333333,
             "#9c179e"
            ],
            [
             0.4444444444444444,
             "#bd3786"
            ],
            [
             0.5555555555555556,
             "#d8576b"
            ],
            [
             0.6666666666666666,
             "#ed7953"
            ],
            [
             0.7777777777777778,
             "#fb9f3a"
            ],
            [
             0.8888888888888888,
             "#fdca26"
            ],
            [
             1,
             "#f0f921"
            ]
           ]
          },
          "colorway": [
           "#636efa",
           "#EF553B",
           "#00cc96",
           "#ab63fa",
           "#FFA15A",
           "#19d3f3",
           "#FF6692",
           "#B6E880",
           "#FF97FF",
           "#FECB52"
          ],
          "font": {
           "color": "#2a3f5f"
          },
          "geo": {
           "bgcolor": "white",
           "lakecolor": "white",
           "landcolor": "#E5ECF6",
           "showlakes": true,
           "showland": true,
           "subunitcolor": "white"
          },
          "hoverlabel": {
           "align": "left"
          },
          "hovermode": "closest",
          "mapbox": {
           "style": "light"
          },
          "paper_bgcolor": "white",
          "plot_bgcolor": "#E5ECF6",
          "polar": {
           "angularaxis": {
            "gridcolor": "white",
            "linecolor": "white",
            "ticks": ""
           },
           "bgcolor": "#E5ECF6",
           "radialaxis": {
            "gridcolor": "white",
            "linecolor": "white",
            "ticks": ""
           }
          },
          "scene": {
           "xaxis": {
            "backgroundcolor": "#E5ECF6",
            "gridcolor": "white",
            "gridwidth": 2,
            "linecolor": "white",
            "showbackground": true,
            "ticks": "",
            "zerolinecolor": "white"
           },
           "yaxis": {
            "backgroundcolor": "#E5ECF6",
            "gridcolor": "white",
            "gridwidth": 2,
            "linecolor": "white",
            "showbackground": true,
            "ticks": "",
            "zerolinecolor": "white"
           },
           "zaxis": {
            "backgroundcolor": "#E5ECF6",
            "gridcolor": "white",
            "gridwidth": 2,
            "linecolor": "white",
            "showbackground": true,
            "ticks": "",
            "zerolinecolor": "white"
           }
          },
          "shapedefaults": {
           "line": {
            "color": "#2a3f5f"
           }
          },
          "ternary": {
           "aaxis": {
            "gridcolor": "white",
            "linecolor": "white",
            "ticks": ""
           },
           "baxis": {
            "gridcolor": "white",
            "linecolor": "white",
            "ticks": ""
           },
           "bgcolor": "#E5ECF6",
           "caxis": {
            "gridcolor": "white",
            "linecolor": "white",
            "ticks": ""
           }
          },
          "title": {
           "x": 0.05
          },
          "xaxis": {
           "automargin": true,
           "gridcolor": "white",
           "linecolor": "white",
           "ticks": "",
           "title": {
            "standoff": 15
           },
           "zerolinecolor": "white",
           "zerolinewidth": 2
          },
          "yaxis": {
           "automargin": true,
           "gridcolor": "white",
           "linecolor": "white",
           "ticks": "",
           "title": {
            "standoff": 15
           },
           "zerolinecolor": "white",
           "zerolinewidth": 2
          }
         }
        }
       }
      }
     },
     "metadata": {},
     "output_type": "display_data"
    }
   ],
   "source": []
  },
  {
   "cell_type": "code",
   "execution_count": 4,
   "metadata": {},
   "outputs": [
    {
     "ename": "ValueError",
     "evalue": "no field of name descendant_index",
     "output_type": "error",
     "traceback": [
      "\u001b[0;31m---------------------------------------------------------------------------\u001b[0m",
      "\u001b[0;31mValueError\u001b[0m                                Traceback (most recent call last)",
      "\u001b[1;32m/Users/cosinga/code/splots/animations/esc_sub.ipynb Cell 9\u001b[0m line \u001b[0;36m<cell line: 1>\u001b[0;34m()\u001b[0m\n\u001b[0;32m----> <a href='vscode-notebook-cell:/Users/cosinga/code/splots/animations/esc_sub.ipynb#X22sZmlsZQ%3D%3D?line=0'>1</a>\u001b[0m trackers \u001b[39m=\u001b[39m tree\u001b[39m.\u001b[39;49mtraverseTree(\u001b[39m58\u001b[39;49m)\n",
      "File \u001b[0;32m~/code/tree_tracks/tree_tracks/storage/tree.py:162\u001b[0m, in \u001b[0;36mTree.traverseTree\u001b[0;34m(self, halo_idx, depth, include_func)\u001b[0m\n\u001b[1;32m    158\u001b[0m     \u001b[39mreturn\u001b[39;00m track_list\n\u001b[1;32m    159\u001b[0m \u001b[39melse\u001b[39;00m:\n\u001b[1;32m    160\u001b[0m     \u001b[39m# if depth is at least one, find progenitors\u001b[39;00m\n\u001b[0;32m--> 162\u001b[0m     desc_idxs \u001b[39m=\u001b[39m \u001b[39mself\u001b[39;49m\u001b[39m.\u001b[39;49mgetProgenitors(halo_idx)\n\u001b[1;32m    165\u001b[0m     \u001b[39m# iterate over each progenitor\u001b[39;00m\n\u001b[1;32m    166\u001b[0m     \u001b[39mfor\u001b[39;00m didx \u001b[39min\u001b[39;00m desc_idxs:\n\u001b[1;32m    167\u001b[0m         \n\u001b[1;32m    168\u001b[0m         \u001b[39m# test if progenitor meets inclusion criteria, as\u001b[39;00m\n\u001b[1;32m    169\u001b[0m         \u001b[39m# defined by user\u001b[39;00m\n",
      "File \u001b[0;32m~/code/tree_tracks/tree_tracks/storage/tree.py:78\u001b[0m, in \u001b[0;36mTree.getProgenitors\u001b[0;34m(self, halo_idx)\u001b[0m\n\u001b[1;32m     75\u001b[0m extinct_mask \u001b[39m=\u001b[39m \u001b[39m~\u001b[39m(\u001b[39mself\u001b[39m\u001b[39m.\u001b[39mgetAlive(snap_slc\u001b[39m=\u001b[39mlsnap))\n\u001b[1;32m     77\u001b[0m \u001b[39m# progenitors must also contain idx of desired halo\u001b[39;00m\n\u001b[0;32m---> 78\u001b[0m all_d_idx \u001b[39m=\u001b[39m \u001b[39mself\u001b[39;49m\u001b[39m.\u001b[39;49mget(\u001b[39m'\u001b[39;49m\u001b[39mdescendant_index\u001b[39;49m\u001b[39m'\u001b[39;49m)\n\u001b[1;32m     79\u001b[0m in_halo_mask \u001b[39m=\u001b[39m np\u001b[39m.\u001b[39mwhere(all_d_idx[:] \u001b[39m==\u001b[39m halo_idx,\n\u001b[1;32m     80\u001b[0m                             \u001b[39mTrue\u001b[39;00m, \u001b[39mFalse\u001b[39;00m)\n\u001b[1;32m     81\u001b[0m in_halo_mask \u001b[39m=\u001b[39m np\u001b[39m.\u001b[39msum(in_halo_mask, axis \u001b[39m=\u001b[39m \u001b[39m0\u001b[39m)\n",
      "File \u001b[0;32m~/code/tree_tracks/tree_tracks/storage/tree.py:109\u001b[0m, in \u001b[0;36mTree.get\u001b[0;34m(self, prop, snap_slc, halo_slc)\u001b[0m\n\u001b[1;32m    105\u001b[0m     prop \u001b[39m=\u001b[39m np\u001b[39m.\u001b[39marray(\u001b[39mself\u001b[39m\u001b[39m.\u001b[39mtree\u001b[39m.\u001b[39mdtype\u001b[39m.\u001b[39mnames)\n\u001b[1;32m    107\u001b[0m \u001b[39m# get data, return\u001b[39;00m\n\u001b[0;32m--> 109\u001b[0m \u001b[39mreturn\u001b[39;00m \u001b[39mself\u001b[39;49m\u001b[39m.\u001b[39;49mtree[prop][snap_slc, halo_slc]\n",
      "\u001b[0;31mValueError\u001b[0m: no field of name descendant_index"
     ]
    }
   ],
   "source": [
    "\n"
   ]
  },
  {
   "cell_type": "code",
   "execution_count": null,
   "metadata": {},
   "outputs": [],
   "source": []
  }
 ],
 "metadata": {
  "kernelspec": {
   "display_name": "Python 3 (ipykernel)",
   "language": "python",
   "name": "python3"
  },
  "language_info": {
   "codemirror_mode": {
    "name": "ipython",
    "version": 3
   },
   "file_extension": ".py",
   "mimetype": "text/x-python",
   "name": "python",
   "nbconvert_exporter": "python",
   "pygments_lexer": "ipython3",
   "version": "3.8.9"
  }
 },
 "nbformat": 4,
 "nbformat_minor": 2
}
